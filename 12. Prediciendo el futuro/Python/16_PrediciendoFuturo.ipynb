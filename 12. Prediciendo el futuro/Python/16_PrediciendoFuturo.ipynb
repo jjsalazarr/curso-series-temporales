{
  "nbformat": 4,
  "nbformat_minor": 0,
  "metadata": {
    "kernelspec": {
      "display_name": "Python 3",
      "language": "python",
      "name": "python3"
    },
    "language_info": {
      "codemirror_mode": {
        "name": "ipython",
        "version": 3
      },
      "file_extension": ".py",
      "mimetype": "text/x-python",
      "name": "python",
      "nbconvert_exporter": "python",
      "pygments_lexer": "ipython3",
      "version": "3.6.7"
    },
    "colab": {
      "name": "16_PrediciendoFuturo.ipynb",
      "provenance": []
    }
  },
  "cells": [
    {
      "cell_type": "code",
      "metadata": {
        "id": "mKRKoIXygQ6_"
      },
      "source": [
        ""
      ],
      "execution_count": null,
      "outputs": []
    },
    {
      "cell_type": "markdown",
      "metadata": {
        "id": "DdzVLqMd9N4Z"
      },
      "source": [
        "## Packages"
      ]
    },
    {
      "cell_type": "code",
      "metadata": {
        "id": "GNRw0aSM9N4a",
        "colab": {
          "base_uri": "https://localhost:8080/"
        },
        "outputId": "bccb20ed-4d92-482d-8d36-459ce81f4d94"
      },
      "source": [
        "import numpy as np\n",
        "import pandas as pd\n",
        "import scipy\n",
        "import statsmodels.api as sm\n",
        "import matplotlib.pyplot as plt\n",
        "import seaborn as sns\n",
        "import sklearn\n",
        "import statsmodels.graphics.tsaplots as sgt\n",
        "import statsmodels.tsa.stattools as sts\n",
        "from statsmodels.tsa.arima_model import ARIMA\n",
        "from statsmodels.tsa.statespace.sarimax import SARIMAX\n",
        "!pip install pmdarima\n",
        "from pmdarima.arima import auto_arima\n",
        "from pmdarima.arima import ADFTest\n",
        "!pip install arch\n",
        "from arch import arch_model\n",
        "!pip install yfinance\n",
        "import yfinance\n",
        "import warnings\n",
        "warnings.filterwarnings(\"ignore\")\n",
        "sns.set()"
      ],
      "execution_count": 151,
      "outputs": [
        {
          "output_type": "stream",
          "name": "stdout",
          "text": [
            "Requirement already satisfied: pmdarima in /usr/local/lib/python3.7/dist-packages (1.8.4)\n",
            "Requirement already satisfied: Cython!=0.29.18,>=0.29 in /usr/local/lib/python3.7/dist-packages (from pmdarima) (0.29.24)\n",
            "Requirement already satisfied: pandas>=0.19 in /usr/local/lib/python3.7/dist-packages (from pmdarima) (1.1.5)\n",
            "Requirement already satisfied: numpy>=1.19.3 in /usr/local/lib/python3.7/dist-packages (from pmdarima) (1.19.5)\n",
            "Requirement already satisfied: scikit-learn>=0.22 in /usr/local/lib/python3.7/dist-packages (from pmdarima) (1.0.1)\n",
            "Requirement already satisfied: urllib3 in /usr/local/lib/python3.7/dist-packages (from pmdarima) (1.24.3)\n",
            "Requirement already satisfied: setuptools!=50.0.0,>=38.6.0 in /usr/local/lib/python3.7/dist-packages (from pmdarima) (57.4.0)\n",
            "Requirement already satisfied: scipy>=1.3.2 in /usr/local/lib/python3.7/dist-packages (from pmdarima) (1.4.1)\n",
            "Requirement already satisfied: statsmodels!=0.12.0,>=0.11 in /usr/local/lib/python3.7/dist-packages (from pmdarima) (0.13.1)\n",
            "Requirement already satisfied: joblib>=0.11 in /usr/local/lib/python3.7/dist-packages (from pmdarima) (1.1.0)\n",
            "Requirement already satisfied: pytz>=2017.2 in /usr/local/lib/python3.7/dist-packages (from pandas>=0.19->pmdarima) (2018.9)\n",
            "Requirement already satisfied: python-dateutil>=2.7.3 in /usr/local/lib/python3.7/dist-packages (from pandas>=0.19->pmdarima) (2.8.2)\n",
            "Requirement already satisfied: six>=1.5 in /usr/local/lib/python3.7/dist-packages (from python-dateutil>=2.7.3->pandas>=0.19->pmdarima) (1.15.0)\n",
            "Requirement already satisfied: threadpoolctl>=2.0.0 in /usr/local/lib/python3.7/dist-packages (from scikit-learn>=0.22->pmdarima) (3.0.0)\n",
            "Requirement already satisfied: patsy>=0.5.2 in /usr/local/lib/python3.7/dist-packages (from statsmodels!=0.12.0,>=0.11->pmdarima) (0.5.2)\n",
            "Requirement already satisfied: arch in /usr/local/lib/python3.7/dist-packages (5.1.0)\n",
            "Requirement already satisfied: property-cached>=1.6.4 in /usr/local/lib/python3.7/dist-packages (from arch) (1.6.4)\n",
            "Requirement already satisfied: scipy>=1.3 in /usr/local/lib/python3.7/dist-packages (from arch) (1.4.1)\n",
            "Requirement already satisfied: numpy>=1.17 in /usr/local/lib/python3.7/dist-packages (from arch) (1.19.5)\n",
            "Requirement already satisfied: pandas>=1.0 in /usr/local/lib/python3.7/dist-packages (from arch) (1.1.5)\n",
            "Requirement already satisfied: statsmodels>=0.11 in /usr/local/lib/python3.7/dist-packages (from arch) (0.13.1)\n",
            "Requirement already satisfied: pytz>=2017.2 in /usr/local/lib/python3.7/dist-packages (from pandas>=1.0->arch) (2018.9)\n",
            "Requirement already satisfied: python-dateutil>=2.7.3 in /usr/local/lib/python3.7/dist-packages (from pandas>=1.0->arch) (2.8.2)\n",
            "Requirement already satisfied: six>=1.5 in /usr/local/lib/python3.7/dist-packages (from python-dateutil>=2.7.3->pandas>=1.0->arch) (1.15.0)\n",
            "Requirement already satisfied: patsy>=0.5.2 in /usr/local/lib/python3.7/dist-packages (from statsmodels>=0.11->arch) (0.5.2)\n",
            "Requirement already satisfied: yfinance in /usr/local/lib/python3.7/dist-packages (0.1.67)\n",
            "Requirement already satisfied: pandas>=0.24 in /usr/local/lib/python3.7/dist-packages (from yfinance) (1.1.5)\n",
            "Requirement already satisfied: requests>=2.20 in /usr/local/lib/python3.7/dist-packages (from yfinance) (2.23.0)\n",
            "Requirement already satisfied: lxml>=4.5.1 in /usr/local/lib/python3.7/dist-packages (from yfinance) (4.6.4)\n",
            "Requirement already satisfied: numpy>=1.15 in /usr/local/lib/python3.7/dist-packages (from yfinance) (1.19.5)\n",
            "Requirement already satisfied: multitasking>=0.0.7 in /usr/local/lib/python3.7/dist-packages (from yfinance) (0.0.10)\n",
            "Requirement already satisfied: python-dateutil>=2.7.3 in /usr/local/lib/python3.7/dist-packages (from pandas>=0.24->yfinance) (2.8.2)\n",
            "Requirement already satisfied: pytz>=2017.2 in /usr/local/lib/python3.7/dist-packages (from pandas>=0.24->yfinance) (2018.9)\n",
            "Requirement already satisfied: six>=1.5 in /usr/local/lib/python3.7/dist-packages (from python-dateutil>=2.7.3->pandas>=0.24->yfinance) (1.15.0)\n",
            "Requirement already satisfied: urllib3!=1.25.0,!=1.25.1,<1.26,>=1.21.1 in /usr/local/lib/python3.7/dist-packages (from requests>=2.20->yfinance) (1.24.3)\n",
            "Requirement already satisfied: certifi>=2017.4.17 in /usr/local/lib/python3.7/dist-packages (from requests>=2.20->yfinance) (2021.10.8)\n",
            "Requirement already satisfied: idna<3,>=2.5 in /usr/local/lib/python3.7/dist-packages (from requests>=2.20->yfinance) (2.10)\n",
            "Requirement already satisfied: chardet<4,>=3.0.2 in /usr/local/lib/python3.7/dist-packages (from requests>=2.20->yfinance) (3.0.4)\n"
          ]
        }
      ]
    },
    {
      "cell_type": "markdown",
      "metadata": {
        "id": "TqWZnVZo9N5A"
      },
      "source": [
        "## Loading the data"
      ]
    },
    {
      "cell_type": "code",
      "metadata": {
        "id": "4I2veTNPPt_0",
        "colab": {
          "base_uri": "https://localhost:8080/"
        },
        "outputId": "95c5d600-bc44-47c5-8a57-68b0d769b4ab"
      },
      "source": [
        "from google.colab import drive\n",
        "drive.mount('/content/drive')"
      ],
      "execution_count": null,
      "outputs": [
        {
          "output_type": "stream",
          "name": "stdout",
          "text": [
            "Mounted at /content/drive\n"
          ]
        }
      ]
    },
    {
      "cell_type": "code",
      "metadata": {
        "id": "LcQGaRtc9N5F",
        "colab": {
          "base_uri": "https://localhost:8080/",
          "height": 238
        },
        "outputId": "6a467440-47df-4932-b67d-421b9e8af34b"
      },
      "source": [
        "raw_csv_data = pd.read_excel(\"/content/drive/MyDrive/Index3 excel.xlsx\",header=2)\n",
        "df_comp=raw_csv_data.copy()\n",
        "\n",
        "\n",
        "df_comp.Close = np.log( df_comp.Close)\n",
        "\n",
        "\n",
        "df_comp.date = pd.to_datetime(df_comp.Date, dayfirst = True)\n",
        "df_comp.set_index(\"Date\", inplace=True)\n",
        "df_comp=df_comp.asfreq('b')\n",
        "df_comp=df_comp.fillna(method='ffill')\n",
        "\n",
        "\n",
        "df_comp.head()\n"
      ],
      "execution_count": 152,
      "outputs": [
        {
          "output_type": "execute_result",
          "data": {
            "text/html": [
              "<div>\n",
              "<style scoped>\n",
              "    .dataframe tbody tr th:only-of-type {\n",
              "        vertical-align: middle;\n",
              "    }\n",
              "\n",
              "    .dataframe tbody tr th {\n",
              "        vertical-align: top;\n",
              "    }\n",
              "\n",
              "    .dataframe thead th {\n",
              "        text-align: right;\n",
              "    }\n",
              "</style>\n",
              "<table border=\"1\" class=\"dataframe\">\n",
              "  <thead>\n",
              "    <tr style=\"text-align: right;\">\n",
              "      <th></th>\n",
              "      <th>Close</th>\n",
              "    </tr>\n",
              "    <tr>\n",
              "      <th>Date</th>\n",
              "      <th></th>\n",
              "    </tr>\n",
              "  </thead>\n",
              "  <tbody>\n",
              "    <tr>\n",
              "      <th>2021-01-04</th>\n",
              "      <td>10.707796</td>\n",
              "    </tr>\n",
              "    <tr>\n",
              "      <th>2021-01-05</th>\n",
              "      <td>10.712374</td>\n",
              "    </tr>\n",
              "    <tr>\n",
              "      <th>2021-01-06</th>\n",
              "      <td>10.727381</td>\n",
              "    </tr>\n",
              "    <tr>\n",
              "      <th>2021-01-07</th>\n",
              "      <td>10.740490</td>\n",
              "    </tr>\n",
              "    <tr>\n",
              "      <th>2021-01-08</th>\n",
              "      <td>10.752127</td>\n",
              "    </tr>\n",
              "  </tbody>\n",
              "</table>\n",
              "</div>"
            ],
            "text/plain": [
              "                Close\n",
              "Date                 \n",
              "2021-01-04  10.707796\n",
              "2021-01-05  10.712374\n",
              "2021-01-06  10.727381\n",
              "2021-01-07  10.740490\n",
              "2021-01-08  10.752127"
            ]
          },
          "metadata": {},
          "execution_count": 152
        }
      ]
    },
    {
      "cell_type": "markdown",
      "metadata": {
        "id": "5R5L4kfYQJ8d"
      },
      "source": [
        "## Prueba de estacionalidad"
      ]
    },
    {
      "cell_type": "code",
      "metadata": {
        "id": "5FetUIgIQGCn",
        "colab": {
          "base_uri": "https://localhost:8080/"
        },
        "outputId": "d52f5e3c-68cb-4d28-ca43-497d004361f0"
      },
      "source": [
        "adf_test= ADFTest(alpha=0.05)\n",
        "adf_test.should_diff(df_comp.Close)"
      ],
      "execution_count": null,
      "outputs": [
        {
          "output_type": "execute_result",
          "data": {
            "text/plain": [
              "(0.42944345062326494, True)"
            ]
          },
          "metadata": {},
          "execution_count": 53
        }
      ]
    },
    {
      "cell_type": "markdown",
      "metadata": {
        "id": "TGIO7uPB9N5m"
      },
      "source": [
        "## Splitting the Data"
      ]
    },
    {
      "cell_type": "code",
      "metadata": {
        "id": "XSqbOxGL9N5n",
        "colab": {
          "base_uri": "https://localhost:8080/"
        },
        "outputId": "4dd25dea-a4ee-4029-8be5-9000cfb5103a"
      },
      "source": [
        "size = int(len(df_comp.Close)*0.8)\n",
        "df, df_test = df_comp.Close.iloc[:size], df_comp.Close.iloc[size:]\n",
        "df.head()"
      ],
      "execution_count": 153,
      "outputs": [
        {
          "output_type": "execute_result",
          "data": {
            "text/plain": [
              "Date\n",
              "2021-01-04    10.707796\n",
              "2021-01-05    10.712374\n",
              "2021-01-06    10.727381\n",
              "2021-01-07    10.740490\n",
              "2021-01-08    10.752127\n",
              "Freq: B, Name: Close, dtype: float64"
            ]
          },
          "metadata": {},
          "execution_count": 153
        }
      ]
    },
    {
      "cell_type": "code",
      "metadata": {
        "id": "vBuIN3IHLuP8",
        "colab": {
          "base_uri": "https://localhost:8080/"
        },
        "outputId": "ddc2e37d-cb1b-45fb-bbbf-8039995b5842"
      },
      "source": [
        "df.tail()"
      ],
      "execution_count": null,
      "outputs": [
        {
          "output_type": "execute_result",
          "data": {
            "text/plain": [
              "Date\n",
              "2021-08-19    10.841527\n",
              "2021-08-20    10.847672\n",
              "2021-08-23    10.860049\n",
              "2021-08-24    10.858710\n",
              "2021-08-25    10.865619\n",
              "Freq: B, Name: Close, dtype: float64"
            ]
          },
          "metadata": {},
          "execution_count": 16
        }
      ]
    },
    {
      "cell_type": "code",
      "metadata": {
        "id": "fXV7I-fMLjaV",
        "colab": {
          "base_uri": "https://localhost:8080/"
        },
        "outputId": "4106fe4a-b0a8-4195-d4ac-afab2d456b0e"
      },
      "source": [
        "df_test.head()"
      ],
      "execution_count": null,
      "outputs": [
        {
          "output_type": "execute_result",
          "data": {
            "text/plain": [
              "Date\n",
              "2021-08-26    10.864574\n",
              "2021-08-27    10.867151\n",
              "2021-08-30    10.870511\n",
              "2021-08-31    10.883781\n",
              "2021-09-01    10.863135\n",
              "Freq: B, Name: Close, dtype: float64"
            ]
          },
          "metadata": {},
          "execution_count": 17
        }
      ]
    },
    {
      "cell_type": "code",
      "metadata": {
        "id": "zDD5nSRVMZKI",
        "colab": {
          "base_uri": "https://localhost:8080/"
        },
        "outputId": "17eb8b1a-c83d-4acb-a898-ba4b94e27cf2"
      },
      "source": [
        "df_test.tail()"
      ],
      "execution_count": null,
      "outputs": [
        {
          "output_type": "execute_result",
          "data": {
            "text/plain": [
              "Date\n",
              "2021-10-18    10.872106\n",
              "2021-10-19    10.866714\n",
              "2021-10-20    10.864717\n",
              "2021-10-21    10.859385\n",
              "2021-10-22    10.856875\n",
              "Freq: B, Name: Close, dtype: float64"
            ]
          },
          "metadata": {},
          "execution_count": 18
        }
      ]
    },
    {
      "cell_type": "markdown",
      "metadata": {
        "id": "hiE6vUQZ9N5p"
      },
      "source": [
        "## Fitting a Model"
      ]
    },
    {
      "cell_type": "code",
      "metadata": {
        "id": "8gk2mBZH9N5q",
        "colab": {
          "base_uri": "https://localhost:8080/",
          "height": 314
        },
        "outputId": "5007e3c2-1edd-417b-8a40-6fce7de6078f"
      },
      "source": [
        "model_ar = ARIMA(df, order = (1,0,0))\n",
        "results_ar = model_ar.fit()\n",
        "results_ar.summary()"
      ],
      "execution_count": null,
      "outputs": [
        {
          "output_type": "execute_result",
          "data": {
            "text/html": [
              "<table class=\"simpletable\">\n",
              "<caption>ARMA Model Results</caption>\n",
              "<tr>\n",
              "  <th>Dep. Variable:</th>       <td>Close</td>      <th>  No. Observations:  </th>    <td>168</td>   \n",
              "</tr>\n",
              "<tr>\n",
              "  <th>Model:</th>            <td>ARMA(1, 0)</td>    <th>  Log Likelihood     </th>  <td>548.020</td> \n",
              "</tr>\n",
              "<tr>\n",
              "  <th>Method:</th>             <td>css-mle</td>     <th>  S.D. of innovations</th>   <td>0.009</td>  \n",
              "</tr>\n",
              "<tr>\n",
              "  <th>Date:</th>          <td>Fri, 19 Nov 2021</td> <th>  AIC                </th> <td>-1090.040</td>\n",
              "</tr>\n",
              "<tr>\n",
              "  <th>Time:</th>              <td>23:58:53</td>     <th>  BIC                </th> <td>-1080.668</td>\n",
              "</tr>\n",
              "<tr>\n",
              "  <th>Sample:</th>           <td>01-04-2021</td>    <th>  HQIC               </th> <td>-1086.237</td>\n",
              "</tr>\n",
              "<tr>\n",
              "  <th></th>                 <td>- 08-25-2021</td>   <th>                     </th>     <td> </td>    \n",
              "</tr>\n",
              "</table>\n",
              "<table class=\"simpletable\">\n",
              "<tr>\n",
              "       <td></td>          <th>coef</th>     <th>std err</th>      <th>z</th>      <th>P>|z|</th>  <th>[0.025</th>    <th>0.975]</th>  \n",
              "</tr>\n",
              "<tr>\n",
              "  <th>const</th>       <td>   10.7856</td> <td>    0.044</td> <td>  242.704</td> <td> 0.000</td> <td>   10.699</td> <td>   10.873</td>\n",
              "</tr>\n",
              "<tr>\n",
              "  <th>ar.L1.Close</th> <td>    0.9889</td> <td>    0.011</td> <td>   93.654</td> <td> 0.000</td> <td>    0.968</td> <td>    1.010</td>\n",
              "</tr>\n",
              "</table>\n",
              "<table class=\"simpletable\">\n",
              "<caption>Roots</caption>\n",
              "<tr>\n",
              "    <td></td>   <th>            Real</th>  <th>         Imaginary</th> <th>         Modulus</th>  <th>        Frequency</th>\n",
              "</tr>\n",
              "<tr>\n",
              "  <th>AR.1</th> <td>           1.0112</td> <td>          +0.0000j</td> <td>           1.0112</td> <td>           0.0000</td>\n",
              "</tr>\n",
              "</table>"
            ],
            "text/plain": [
              "<class 'statsmodels.iolib.summary.Summary'>\n",
              "\"\"\"\n",
              "                              ARMA Model Results                              \n",
              "==============================================================================\n",
              "Dep. Variable:                  Close   No. Observations:                  168\n",
              "Model:                     ARMA(1, 0)   Log Likelihood                 548.020\n",
              "Method:                       css-mle   S.D. of innovations              0.009\n",
              "Date:                Fri, 19 Nov 2021   AIC                          -1090.040\n",
              "Time:                        23:58:53   BIC                          -1080.668\n",
              "Sample:                    01-04-2021   HQIC                         -1086.237\n",
              "                         - 08-25-2021                                         \n",
              "===============================================================================\n",
              "                  coef    std err          z      P>|z|      [0.025      0.975]\n",
              "-------------------------------------------------------------------------------\n",
              "const          10.7856      0.044    242.704      0.000      10.699      10.873\n",
              "ar.L1.Close     0.9889      0.011     93.654      0.000       0.968       1.010\n",
              "                                    Roots                                    \n",
              "=============================================================================\n",
              "                  Real          Imaginary           Modulus         Frequency\n",
              "-----------------------------------------------------------------------------\n",
              "AR.1            1.0112           +0.0000j            1.0112            0.0000\n",
              "-----------------------------------------------------------------------------\n",
              "\"\"\""
            ]
          },
          "metadata": {},
          "execution_count": 32
        }
      ]
    },
    {
      "cell_type": "markdown",
      "metadata": {
        "id": "PEZiJPc19N5v"
      },
      "source": [
        "## Simple Forecasting"
      ]
    },
    {
      "cell_type": "code",
      "metadata": {
        "id": "AdDrYKb07ipJ",
        "colab": {
          "base_uri": "https://localhost:8080/"
        },
        "outputId": "83f0f29c-b12c-4770-f2df-460e733c293b"
      },
      "source": [
        "df.tail()"
      ],
      "execution_count": null,
      "outputs": [
        {
          "output_type": "execute_result",
          "data": {
            "text/plain": [
              "Date\n",
              "2021-08-19    10.841527\n",
              "2021-08-20    10.847672\n",
              "2021-08-23    10.860049\n",
              "2021-08-24    10.858710\n",
              "2021-08-25    10.865619\n",
              "Freq: B, Name: Close, dtype: float64"
            ]
          },
          "metadata": {},
          "execution_count": 33
        }
      ]
    },
    {
      "cell_type": "code",
      "metadata": {
        "id": "QYsVhXbU9N54"
      },
      "source": [
        "# create variables that will help us change the periods easily instead of typing them up every time\n",
        "# make sure the start and end dates are business days, otherwise the code will result in an error\n",
        "start_date = \"2021-08-26\"\n",
        "end_date = \"2021-10-22\""
      ],
      "execution_count": null,
      "outputs": []
    },
    {
      "cell_type": "code",
      "metadata": {
        "id": "nEscJvyM9N56"
      },
      "source": [
        "df_pred = results_ar.predict(start = start_date, end = end_date)"
      ],
      "execution_count": null,
      "outputs": []
    },
    {
      "cell_type": "code",
      "metadata": {
        "id": "gepgst7k9_Ih",
        "colab": {
          "base_uri": "https://localhost:8080/",
          "height": 399
        },
        "outputId": "918afc26-5cef-49d3-f4f4-9a2d576ee075"
      },
      "source": [
        "df_pred[start_date:end_date].plot(figsize = (20,5), color = \"red\")\n",
        "df_test[start_date:end_date].plot(color=\"blue\")\n",
        "plt.title(\"Predictions\", size = 24)\n",
        "plt.show()"
      ],
      "execution_count": null,
      "outputs": [
        {
          "output_type": "display_data",
          "data": {
            "image/png": "[encoded data removed]",
            "text/plain": [
              "<Figure size 1440x360 with 1 Axes>"
            ]
          },
          "metadata": {
            "needs_background": "light"
          }
        }
      ]
    },
    {
      "cell_type": "markdown",
      "metadata": {
        "id": "_LEhJW6Q9N6Z"
      },
      "source": [
        "### SARIMAX"
      ]
    },
    {
      "cell_type": "code",
      "metadata": {
        "id": "i1COAcuz9N6Z",
        "colab": {
          "base_uri": "https://localhost:8080/",
          "height": 399
        },
        "outputId": "764a6669-29d5-40f9-c4d0-db4100cc7cdd"
      },
      "source": [
        "start_date=\"2021-01-04\"\n",
        "end_date=\"2021-08-25\"\n",
        "\n",
        "\n",
        "model_sarimax = SARIMAX(df, exog = None, order = (0,1,0), seasonal_order = (0,0,0,0))\n",
        "results_sarimax = model_sarimax.fit()\n",
        "\n",
        "start_date=\"2021-08-26\"\n",
        "end_date=\"2021-10-22\"\n",
        "\n",
        "\n",
        "df_pred_sarimax = results_sarimax.predict(start = \"2021-01-05\", end = end_date, exog=None)\n",
        "\n",
        "df_pred_sarimax[start_date:end_date].plot(figsize = (20,5), color = \"red\")\n",
        "df_test[start_date:end_date].plot(color = \"blue\")\n",
        "plt.title(\"Predictions vs Actual\", size = 24)\n",
        "plt.show()"
      ],
      "execution_count": null,
      "outputs": [
        {
          "output_type": "display_data",
          "data": {
            "image/png": "[encoded data removed]",
            "text/plain": [
              "<Figure size 1440x360 with 1 Axes>"
            ]
          },
          "metadata": {
            "needs_background": "light"
          }
        }
      ]
    },
    {
      "cell_type": "markdown",
      "metadata": {
        "id": "h0MDFiW_9N6c"
      },
      "source": [
        "### Auto ARIMA"
      ]
    },
    {
      "cell_type": "code",
      "metadata": {
        "id": "BE6khLkpz0nj",
        "colab": {
          "base_uri": "https://localhost:8080/"
        },
        "outputId": "c7381b71-e3b2-4c26-c8c0-0f12a41aa042"
      },
      "source": [
        "model_auto = auto_arima(df, start_p=0, start_q=0, max_p=5, max_q=5, start_P=0, start_Q=0, D=1, max_P=5, max_Q=5, max_D=5, m=1, trace=True,stepwise=True, \n",
        "                         random_state=20, n_fits=50, criterion=\"aic\", alpha=0.05,seasonal=True)"
      ],
      "execution_count": null,
      "outputs": [
        {
          "output_type": "stream",
          "name": "stdout",
          "text": [
            "Performing stepwise search to minimize aic\n",
            " ARIMA(0,1,0)(0,0,0)[0] intercept   : AIC=-1090.478, Time=0.07 sec\n",
            " ARIMA(1,1,0)(0,0,0)[0] intercept   : AIC=-1088.751, Time=0.03 sec\n",
            " ARIMA(0,1,1)(0,0,0)[0] intercept   : AIC=-1088.833, Time=0.21 sec\n",
            " ARIMA(0,1,0)(0,0,0)[0]             : AIC=-1090.700, Time=0.03 sec\n",
            " ARIMA(1,1,1)(0,0,0)[0] intercept   : AIC=-1086.478, Time=0.11 sec\n",
            "\n",
            "Best model:  ARIMA(0,1,0)(0,0,0)[0]          \n",
            "Total fit time: 0.472 seconds\n"
          ]
        }
      ]
    },
    {
      "cell_type": "markdown",
      "metadata": {
        "id": "JoH1RaqV9N6m"
      },
      "source": [
        "### Forecasting Volatility"
      ]
    },
    {
      "cell_type": "code",
      "metadata": {
        "id": "J8jIOClb9N6n",
        "colab": {
          "base_uri": "https://localhost:8080/"
        },
        "outputId": "484883aa-77ef-4ffa-919b-ca5be29a4c9f"
      },
      "source": [
        "start_date=\"2021-08-26\"\n",
        "end_date=\"2021-10-22\"\n",
        "\n",
        "\n",
        "mod_garch = arch_model(df_comp,vol = \"GARCH\", p = 1, q = 1, mean = \"constant\", dist = \"Normal\")\n",
        "res_garch = mod_garch.fit(last_obs = start_date, update_freq = 10)"
      ],
      "execution_count": 154,
      "outputs": [
        {
          "output_type": "stream",
          "name": "stdout",
          "text": [
            "Optimization terminated successfully.    (Exit mode 0)\n",
            "            Current function value: -319.78698889491955\n",
            "            Iterations: 10\n",
            "            Function evaluations: 62\n",
            "            Gradient evaluations: 6\n"
          ]
        }
      ]
    },
    {
      "cell_type": "code",
      "metadata": {
        "id": "nw_dOfBk9N6p"
      },
      "source": [
        "pred_garch = res_garch.forecast(horizon = 1, align = 'target')"
      ],
      "execution_count": 155,
      "outputs": []
    },
    {
      "cell_type": "code",
      "metadata": {
        "id": "7VAYR7bb82jO",
        "colab": {
          "base_uri": "https://localhost:8080/",
          "height": 399
        },
        "outputId": "c89dc04f-3414-4c57-d52d-7404578e808a"
      },
      "source": [
        "pred_garch.residual_variance[start_date:].plot(figsize = (20,5), color = \"red\", zorder = 2)\n",
        "plt.title(\"Volatility Predictions\", size = 24)\n",
        "plt.show()"
      ],
      "execution_count": 156,
      "outputs": [
        {
          "output_type": "display_data",
          "data": {
            "image/png": "[encoded data removed]",
            "text/plain": [
              "<Figure size 1440x360 with 1 Axes>"
            ]
          },
          "metadata": {}
        }
      ]
    },
    {
      "cell_type": "code",
      "metadata": {
        "id": "T2xeNfwz9N6r",
        "colab": {
          "base_uri": "https://localhost:8080/",
          "height": 345
        },
        "outputId": "7d89e1b1-c18b-434c-ce69-09a23d0e1b9f"
      },
      "source": [
        "#pred_garch.residual_variance[start_date:].plot(figsize = (20,5), color = \"red\", zorder = 2)\n",
        "df_test.abs().plot(color = \"blue\", zorder = 1)\n",
        "plt.title(\"Volatility Predictions\", size = 24)\n",
        "plt.show()"
      ],
      "execution_count": 162,
      "outputs": [
        {
          "output_type": "display_data",
          "data": {
            "image/png": "[encoded data removed]",
            "text/plain": [
              "<Figure size 432x288 with 1 Axes>"
            ]
          },
          "metadata": {}
        }
      ]
    },
    {
      "cell_type": "code",
      "metadata": {
        "scrolled": true,
        "id": "0_KoGjJT9N6t",
        "colab": {
          "base_uri": "https://localhost:8080/",
          "height": 179
        },
        "outputId": "222c5a25-24fa-431e-c812-4e14d5f582e6"
      },
      "source": [
        "pred_garch = res_garch.forecast(horizon = 100, align = 'target')\n",
        "pred_garch.residual_variance[-1:]"
      ],
      "execution_count": 158,
      "outputs": [
        {
          "output_type": "execute_result",
          "data": {
            "text/html": [
              "<div>\n",
              "<style scoped>\n",
              "    .dataframe tbody tr th:only-of-type {\n",
              "        vertical-align: middle;\n",
              "    }\n",
              "\n",
              "    .dataframe tbody tr th {\n",
              "        vertical-align: top;\n",
              "    }\n",
              "\n",
              "    .dataframe thead th {\n",
              "        text-align: right;\n",
              "    }\n",
              "</style>\n",
              "<table border=\"1\" class=\"dataframe\">\n",
              "  <thead>\n",
              "    <tr style=\"text-align: right;\">\n",
              "      <th></th>\n",
              "      <th>h.001</th>\n",
              "      <th>h.002</th>\n",
              "      <th>h.003</th>\n",
              "      <th>h.004</th>\n",
              "      <th>h.005</th>\n",
              "      <th>h.006</th>\n",
              "      <th>h.007</th>\n",
              "      <th>h.008</th>\n",
              "      <th>h.009</th>\n",
              "      <th>h.010</th>\n",
              "      <th>h.011</th>\n",
              "      <th>h.012</th>\n",
              "      <th>h.013</th>\n",
              "      <th>h.014</th>\n",
              "      <th>h.015</th>\n",
              "      <th>h.016</th>\n",
              "      <th>h.017</th>\n",
              "      <th>h.018</th>\n",
              "      <th>h.019</th>\n",
              "      <th>h.020</th>\n",
              "      <th>h.021</th>\n",
              "      <th>h.022</th>\n",
              "      <th>h.023</th>\n",
              "      <th>h.024</th>\n",
              "      <th>h.025</th>\n",
              "      <th>h.026</th>\n",
              "      <th>h.027</th>\n",
              "      <th>h.028</th>\n",
              "      <th>h.029</th>\n",
              "      <th>h.030</th>\n",
              "      <th>h.031</th>\n",
              "      <th>h.032</th>\n",
              "      <th>h.033</th>\n",
              "      <th>h.034</th>\n",
              "      <th>h.035</th>\n",
              "      <th>h.036</th>\n",
              "      <th>h.037</th>\n",
              "      <th>h.038</th>\n",
              "      <th>h.039</th>\n",
              "      <th>h.040</th>\n",
              "      <th>...</th>\n",
              "      <th>h.061</th>\n",
              "      <th>h.062</th>\n",
              "      <th>h.063</th>\n",
              "      <th>h.064</th>\n",
              "      <th>h.065</th>\n",
              "      <th>h.066</th>\n",
              "      <th>h.067</th>\n",
              "      <th>h.068</th>\n",
              "      <th>h.069</th>\n",
              "      <th>h.070</th>\n",
              "      <th>h.071</th>\n",
              "      <th>h.072</th>\n",
              "      <th>h.073</th>\n",
              "      <th>h.074</th>\n",
              "      <th>h.075</th>\n",
              "      <th>h.076</th>\n",
              "      <th>h.077</th>\n",
              "      <th>h.078</th>\n",
              "      <th>h.079</th>\n",
              "      <th>h.080</th>\n",
              "      <th>h.081</th>\n",
              "      <th>h.082</th>\n",
              "      <th>h.083</th>\n",
              "      <th>h.084</th>\n",
              "      <th>h.085</th>\n",
              "      <th>h.086</th>\n",
              "      <th>h.087</th>\n",
              "      <th>h.088</th>\n",
              "      <th>h.089</th>\n",
              "      <th>h.090</th>\n",
              "      <th>h.091</th>\n",
              "      <th>h.092</th>\n",
              "      <th>h.093</th>\n",
              "      <th>h.094</th>\n",
              "      <th>h.095</th>\n",
              "      <th>h.096</th>\n",
              "      <th>h.097</th>\n",
              "      <th>h.098</th>\n",
              "      <th>h.099</th>\n",
              "      <th>h.100</th>\n",
              "    </tr>\n",
              "    <tr>\n",
              "      <th>Date</th>\n",
              "      <th></th>\n",
              "      <th></th>\n",
              "      <th></th>\n",
              "      <th></th>\n",
              "      <th></th>\n",
              "      <th></th>\n",
              "      <th></th>\n",
              "      <th></th>\n",
              "      <th></th>\n",
              "      <th></th>\n",
              "      <th></th>\n",
              "      <th></th>\n",
              "      <th></th>\n",
              "      <th></th>\n",
              "      <th></th>\n",
              "      <th></th>\n",
              "      <th></th>\n",
              "      <th></th>\n",
              "      <th></th>\n",
              "      <th></th>\n",
              "      <th></th>\n",
              "      <th></th>\n",
              "      <th></th>\n",
              "      <th></th>\n",
              "      <th></th>\n",
              "      <th></th>\n",
              "      <th></th>\n",
              "      <th></th>\n",
              "      <th></th>\n",
              "      <th></th>\n",
              "      <th></th>\n",
              "      <th></th>\n",
              "      <th></th>\n",
              "      <th></th>\n",
              "      <th></th>\n",
              "      <th></th>\n",
              "      <th></th>\n",
              "      <th></th>\n",
              "      <th></th>\n",
              "      <th></th>\n",
              "      <th></th>\n",
              "      <th></th>\n",
              "      <th></th>\n",
              "      <th></th>\n",
              "      <th></th>\n",
              "      <th></th>\n",
              "      <th></th>\n",
              "      <th></th>\n",
              "      <th></th>\n",
              "      <th></th>\n",
              "      <th></th>\n",
              "      <th></th>\n",
              "      <th></th>\n",
              "      <th></th>\n",
              "      <th></th>\n",
              "      <th></th>\n",
              "      <th></th>\n",
              "      <th></th>\n",
              "      <th></th>\n",
              "      <th></th>\n",
              "      <th></th>\n",
              "      <th></th>\n",
              "      <th></th>\n",
              "      <th></th>\n",
              "      <th></th>\n",
              "      <th></th>\n",
              "      <th></th>\n",
              "      <th></th>\n",
              "      <th></th>\n",
              "      <th></th>\n",
              "      <th></th>\n",
              "      <th></th>\n",
              "      <th></th>\n",
              "      <th></th>\n",
              "      <th></th>\n",
              "      <th></th>\n",
              "      <th></th>\n",
              "      <th></th>\n",
              "      <th></th>\n",
              "      <th></th>\n",
              "      <th></th>\n",
              "    </tr>\n",
              "  </thead>\n",
              "  <tbody>\n",
              "    <tr>\n",
              "      <th>2021-10-22</th>\n",
              "      <td>0.002249</td>\n",
              "      <td>0.002322</td>\n",
              "      <td>0.002289</td>\n",
              "      <td>0.002197</td>\n",
              "      <td>0.001945</td>\n",
              "      <td>0.001575</td>\n",
              "      <td>0.001414</td>\n",
              "      <td>0.001332</td>\n",
              "      <td>0.001216</td>\n",
              "      <td>0.001128</td>\n",
              "      <td>0.001144</td>\n",
              "      <td>0.001208</td>\n",
              "      <td>0.001262</td>\n",
              "      <td>0.001307</td>\n",
              "      <td>0.00139</td>\n",
              "      <td>0.001452</td>\n",
              "      <td>0.001456</td>\n",
              "      <td>0.001516</td>\n",
              "      <td>0.001613</td>\n",
              "      <td>0.001592</td>\n",
              "      <td>0.001664</td>\n",
              "      <td>0.001678</td>\n",
              "      <td>0.001717</td>\n",
              "      <td>0.001843</td>\n",
              "      <td>0.002026</td>\n",
              "      <td>0.002145</td>\n",
              "      <td>0.002089</td>\n",
              "      <td>0.002018</td>\n",
              "      <td>0.002021</td>\n",
              "      <td>0.002085</td>\n",
              "      <td>0.002157</td>\n",
              "      <td>0.002267</td>\n",
              "      <td>0.002388</td>\n",
              "      <td>0.002444</td>\n",
              "      <td>0.002438</td>\n",
              "      <td>0.002526</td>\n",
              "      <td>0.002584</td>\n",
              "      <td>0.002629</td>\n",
              "      <td>0.002402</td>\n",
              "      <td>0.002312</td>\n",
              "      <td>...</td>\n",
              "      <td>NaN</td>\n",
              "      <td>NaN</td>\n",
              "      <td>NaN</td>\n",
              "      <td>NaN</td>\n",
              "      <td>NaN</td>\n",
              "      <td>NaN</td>\n",
              "      <td>NaN</td>\n",
              "      <td>NaN</td>\n",
              "      <td>NaN</td>\n",
              "      <td>NaN</td>\n",
              "      <td>NaN</td>\n",
              "      <td>NaN</td>\n",
              "      <td>NaN</td>\n",
              "      <td>NaN</td>\n",
              "      <td>NaN</td>\n",
              "      <td>NaN</td>\n",
              "      <td>NaN</td>\n",
              "      <td>NaN</td>\n",
              "      <td>NaN</td>\n",
              "      <td>NaN</td>\n",
              "      <td>NaN</td>\n",
              "      <td>NaN</td>\n",
              "      <td>NaN</td>\n",
              "      <td>NaN</td>\n",
              "      <td>NaN</td>\n",
              "      <td>NaN</td>\n",
              "      <td>NaN</td>\n",
              "      <td>NaN</td>\n",
              "      <td>NaN</td>\n",
              "      <td>NaN</td>\n",
              "      <td>NaN</td>\n",
              "      <td>NaN</td>\n",
              "      <td>NaN</td>\n",
              "      <td>NaN</td>\n",
              "      <td>NaN</td>\n",
              "      <td>NaN</td>\n",
              "      <td>NaN</td>\n",
              "      <td>NaN</td>\n",
              "      <td>NaN</td>\n",
              "      <td>NaN</td>\n",
              "    </tr>\n",
              "  </tbody>\n",
              "</table>\n",
              "<p>1 rows × 100 columns</p>\n",
              "</div>"
            ],
            "text/plain": [
              "               h.001     h.002     h.003     h.004  ...  h.097  h.098  h.099  h.100\n",
              "Date                                                ...                            \n",
              "2021-10-22  0.002249  0.002322  0.002289  0.002197  ...    NaN    NaN    NaN    NaN\n",
              "\n",
              "[1 rows x 100 columns]"
            ]
          },
          "metadata": {},
          "execution_count": 158
        }
      ]
    },
    {
      "cell_type": "markdown",
      "metadata": {
        "id": "azkOOoKV9N6w"
      },
      "source": [
        "### Multivariate Regression Model"
      ]
    },
    {
      "cell_type": "code",
      "metadata": {
        "id": "rF0_dXnE9N6w"
      },
      "source": [
        "from statsmodels.tsa.api import VAR"
      ],
      "execution_count": null,
      "outputs": []
    },
    {
      "cell_type": "code",
      "metadata": {
        "id": "JQ3vDlR-9N6z"
      },
      "source": [
        "df = df[1:]"
      ],
      "execution_count": 163,
      "outputs": []
    },
    {
      "cell_type": "code",
      "metadata": {
        "id": "jpCxs9Da9N61"
      },
      "source": [
        "model_var = VAR(df)\n",
        "model_var.select_order(20)\n",
        "results_var = model_var.fit(ic = 'aic')"
      ],
      "execution_count": 164,
      "outputs": []
    },
    {
      "cell_type": "code",
      "metadata": {
        "id": "bW-Mn_319N64"
      },
      "source": [
        "results_var.summary()"
      ],
      "execution_count": 165,
      "outputs": []
    },
    {
      "cell_type": "code",
      "metadata": {
        "scrolled": true,
        "id": "it_jgtZ99N67"
      },
      "source": [
        "lag_order= results_var.k_ar\n",
        "var_pred = results_var.forecast(df.values[-lag_order:], len(df_test[start_date:end_date]))\n",
        "\n",
        "df_pred = pd.DataFrame(data = var_pred, index = df_test[start_date:end_date].index,\n",
        "                                columns = df_test[start_date:end_date].columns[4:8])\n",
        "\n",
        "df_pred.nikkei[start_date:end_date].plot(figsize = (20,5), color = \"red\")\n",
        "\n",
        "df_test[start_date:end_date].plot(color = \"blue\")\n",
        "plt.title(\"Real vs Prediction\", size = 24)\n",
        "plt.show()"
      ],
      "execution_count": 165,
      "outputs": []
    },
    {
      "cell_type": "code",
      "metadata": {
        "id": "Fie2DxkN9N6-"
      },
      "source": [
        "results_var_ret.plot_forecast(1000)\n",
        "plt.show()"
      ],
      "execution_count": null,
      "outputs": []
    }
  ]
}