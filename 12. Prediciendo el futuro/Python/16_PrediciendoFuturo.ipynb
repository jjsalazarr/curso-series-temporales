{
  "nbformat": 4,
  "nbformat_minor": 0,
  "metadata": {
    "kernelspec": {
      "display_name": "Python 3",
      "language": "python",
      "name": "python3"
    },
    "language_info": {
      "codemirror_mode": {
        "name": "ipython",
        "version": 3
      },
      "file_extension": ".py",
      "mimetype": "text/x-python",
      "name": "python",
      "nbconvert_exporter": "python",
      "pygments_lexer": "ipython3",
      "version": "3.6.7"
    },
    "colab": {
      "name": "16_PrediciendoFuturo.ipynb",
      "provenance": []
    }
  },
  "cells": [
    {
      "cell_type": "code",
      "metadata": {
        "id": "mKRKoIXygQ6_"
      },
      "source": [
        ""
      ],
      "execution_count": null,
      "outputs": []
    },
    {
      "cell_type": "markdown",
      "metadata": {
        "id": "DdzVLqMd9N4Z"
      },
      "source": [
        "## Packages"
      ]
    },
    {
      "cell_type": "code",
      "metadata": {
        "id": "GNRw0aSM9N4a",
        "colab": {
          "base_uri": "https://localhost:8080/",
          "height": 1000
        },
        "outputId": "f3b3a36e-4922-4bba-de9b-88e1b6d0447a"
      },
      "source": [
        "import numpy as np\n",
        "import pandas as pd\n",
        "import scipy\n",
        "import statsmodels.api as sm\n",
        "import matplotlib.pyplot as plt\n",
        "import seaborn as sns\n",
        "import sklearn\n",
        "import statsmodels.graphics.tsaplots as sgt\n",
        "import statsmodels.tsa.stattools as sts\n",
        "from statsmodels.tsa.arima_model import ARIMA\n",
        "from statsmodels.tsa.statespace.sarimax import SARIMAX\n",
        "!pip install pmdarima\n",
        "from pmdarima.arima import auto_arima\n",
        "from pmdarima.arima import ADFTest\n",
        "!pip install arch\n",
        "from arch import arch_model\n",
        "!pip install yfinance\n",
        "import yfinance\n",
        "import warnings\n",
        "warnings.filterwarnings(\"ignore\")\n",
        "sns.set()"
      ],
      "execution_count": 1,
      "outputs": [
        {
          "output_type": "stream",
          "name": "stderr",
          "text": [
            "/usr/local/lib/python3.7/dist-packages/statsmodels/tools/_testing.py:19: FutureWarning: pandas.util.testing is deprecated. Use the functions in the public API at pandas.testing instead.\n",
            "  import pandas.util.testing as tm\n"
          ]
        },
        {
          "output_type": "stream",
          "name": "stdout",
          "text": [
            "Collecting pmdarima\n",
            "  Downloading pmdarima-1.8.4-cp37-cp37m-manylinux_2_17_x86_64.manylinux2014_x86_64.manylinux_2_24_x86_64.whl (1.4 MB)\n",
            "\u001b[K     |████████████████████████████████| 1.4 MB 4.1 MB/s \n",
            "\u001b[?25hCollecting statsmodels!=0.12.0,>=0.11\n",
            "  Downloading statsmodels-0.13.1-cp37-cp37m-manylinux_2_17_x86_64.manylinux2014_x86_64.whl (9.8 MB)\n",
            "\u001b[K     |████████████████████████████████| 9.8 MB 34.5 MB/s \n",
            "\u001b[?25hRequirement already satisfied: numpy>=1.19.3 in /usr/local/lib/python3.7/dist-packages (from pmdarima) (1.19.5)\n",
            "Requirement already satisfied: pandas>=0.19 in /usr/local/lib/python3.7/dist-packages (from pmdarima) (1.1.5)\n",
            "Requirement already satisfied: Cython!=0.29.18,>=0.29 in /usr/local/lib/python3.7/dist-packages (from pmdarima) (0.29.24)\n",
            "Requirement already satisfied: scikit-learn>=0.22 in /usr/local/lib/python3.7/dist-packages (from pmdarima) (1.0.1)\n",
            "Requirement already satisfied: urllib3 in /usr/local/lib/python3.7/dist-packages (from pmdarima) (1.24.3)\n",
            "Requirement already satisfied: scipy>=1.3.2 in /usr/local/lib/python3.7/dist-packages (from pmdarima) (1.4.1)\n",
            "Requirement already satisfied: setuptools!=50.0.0,>=38.6.0 in /usr/local/lib/python3.7/dist-packages (from pmdarima) (57.4.0)\n",
            "Requirement already satisfied: joblib>=0.11 in /usr/local/lib/python3.7/dist-packages (from pmdarima) (1.1.0)\n",
            "Requirement already satisfied: python-dateutil>=2.7.3 in /usr/local/lib/python3.7/dist-packages (from pandas>=0.19->pmdarima) (2.8.2)\n",
            "Requirement already satisfied: pytz>=2017.2 in /usr/local/lib/python3.7/dist-packages (from pandas>=0.19->pmdarima) (2018.9)\n",
            "Requirement already satisfied: six>=1.5 in /usr/local/lib/python3.7/dist-packages (from python-dateutil>=2.7.3->pandas>=0.19->pmdarima) (1.15.0)\n",
            "Requirement already satisfied: threadpoolctl>=2.0.0 in /usr/local/lib/python3.7/dist-packages (from scikit-learn>=0.22->pmdarima) (3.0.0)\n",
            "Requirement already satisfied: patsy>=0.5.2 in /usr/local/lib/python3.7/dist-packages (from statsmodels!=0.12.0,>=0.11->pmdarima) (0.5.2)\n",
            "Installing collected packages: statsmodels, pmdarima\n",
            "  Attempting uninstall: statsmodels\n",
            "    Found existing installation: statsmodels 0.10.2\n",
            "    Uninstalling statsmodels-0.10.2:\n",
            "      Successfully uninstalled statsmodels-0.10.2\n",
            "Successfully installed pmdarima-1.8.4 statsmodels-0.13.1\n"
          ]
        },
        {
          "output_type": "display_data",
          "data": {
            "application/vnd.colab-display-data+json": {
              "pip_warning": {
                "packages": [
                  "statsmodels"
                ]
              }
            }
          },
          "metadata": {}
        },
        {
          "output_type": "stream",
          "name": "stdout",
          "text": [
            "Collecting arch\n",
            "  Downloading arch-5.1.0-cp37-cp37m-manylinux_2_17_x86_64.manylinux2014_x86_64.whl (902 kB)\n",
            "\u001b[K     |████████████████████████████████| 902 kB 4.2 MB/s \n",
            "\u001b[?25hRequirement already satisfied: statsmodels>=0.11 in /usr/local/lib/python3.7/dist-packages (from arch) (0.13.1)\n",
            "Collecting property-cached>=1.6.4\n",
            "  Downloading property_cached-1.6.4-py2.py3-none-any.whl (7.8 kB)\n",
            "Requirement already satisfied: scipy>=1.3 in /usr/local/lib/python3.7/dist-packages (from arch) (1.4.1)\n",
            "Requirement already satisfied: numpy>=1.17 in /usr/local/lib/python3.7/dist-packages (from arch) (1.19.5)\n",
            "Requirement already satisfied: pandas>=1.0 in /usr/local/lib/python3.7/dist-packages (from arch) (1.1.5)\n",
            "Requirement already satisfied: python-dateutil>=2.7.3 in /usr/local/lib/python3.7/dist-packages (from pandas>=1.0->arch) (2.8.2)\n",
            "Requirement already satisfied: pytz>=2017.2 in /usr/local/lib/python3.7/dist-packages (from pandas>=1.0->arch) (2018.9)\n",
            "Requirement already satisfied: six>=1.5 in /usr/local/lib/python3.7/dist-packages (from python-dateutil>=2.7.3->pandas>=1.0->arch) (1.15.0)\n",
            "Requirement already satisfied: patsy>=0.5.2 in /usr/local/lib/python3.7/dist-packages (from statsmodels>=0.11->arch) (0.5.2)\n",
            "Installing collected packages: property-cached, arch\n",
            "Successfully installed arch-5.1.0 property-cached-1.6.4\n",
            "Collecting yfinance\n",
            "  Downloading yfinance-0.1.66-py2.py3-none-any.whl (25 kB)\n",
            "Requirement already satisfied: requests>=2.20 in /usr/local/lib/python3.7/dist-packages (from yfinance) (2.23.0)\n",
            "Collecting lxml>=4.5.1\n",
            "  Downloading lxml-4.6.4-cp37-cp37m-manylinux_2_17_x86_64.manylinux2014_x86_64.manylinux_2_24_x86_64.whl (6.3 MB)\n",
            "\u001b[K     |████████████████████████████████| 6.3 MB 5.1 MB/s \n",
            "\u001b[?25hRequirement already satisfied: pandas>=0.24 in /usr/local/lib/python3.7/dist-packages (from yfinance) (1.1.5)\n",
            "Requirement already satisfied: numpy>=1.15 in /usr/local/lib/python3.7/dist-packages (from yfinance) (1.19.5)\n",
            "Requirement already satisfied: multitasking>=0.0.7 in /usr/local/lib/python3.7/dist-packages (from yfinance) (0.0.10)\n",
            "Requirement already satisfied: pytz>=2017.2 in /usr/local/lib/python3.7/dist-packages (from pandas>=0.24->yfinance) (2018.9)\n",
            "Requirement already satisfied: python-dateutil>=2.7.3 in /usr/local/lib/python3.7/dist-packages (from pandas>=0.24->yfinance) (2.8.2)\n",
            "Requirement already satisfied: six>=1.5 in /usr/local/lib/python3.7/dist-packages (from python-dateutil>=2.7.3->pandas>=0.24->yfinance) (1.15.0)\n",
            "Requirement already satisfied: certifi>=2017.4.17 in /usr/local/lib/python3.7/dist-packages (from requests>=2.20->yfinance) (2021.10.8)\n",
            "Requirement already satisfied: idna<3,>=2.5 in /usr/local/lib/python3.7/dist-packages (from requests>=2.20->yfinance) (2.10)\n",
            "Requirement already satisfied: chardet<4,>=3.0.2 in /usr/local/lib/python3.7/dist-packages (from requests>=2.20->yfinance) (3.0.4)\n",
            "Requirement already satisfied: urllib3!=1.25.0,!=1.25.1,<1.26,>=1.21.1 in /usr/local/lib/python3.7/dist-packages (from requests>=2.20->yfinance) (1.24.3)\n",
            "Installing collected packages: lxml, yfinance\n",
            "  Attempting uninstall: lxml\n",
            "    Found existing installation: lxml 4.2.6\n",
            "    Uninstalling lxml-4.2.6:\n",
            "      Successfully uninstalled lxml-4.2.6\n",
            "Successfully installed lxml-4.6.4 yfinance-0.1.66\n"
          ]
        }
      ]
    },
    {
      "cell_type": "markdown",
      "metadata": {
        "id": "TqWZnVZo9N5A"
      },
      "source": [
        "## Loading the data"
      ]
    },
    {
      "cell_type": "code",
      "metadata": {
        "id": "4I2veTNPPt_0",
        "colab": {
          "base_uri": "https://localhost:8080/"
        },
        "outputId": "95c5d600-bc44-47c5-8a57-68b0d769b4ab"
      },
      "source": [
        "from google.colab import drive\n",
        "drive.mount('/content/drive')"
      ],
      "execution_count": 2,
      "outputs": [
        {
          "output_type": "stream",
          "name": "stdout",
          "text": [
            "Mounted at /content/drive\n"
          ]
        }
      ]
    },
    {
      "cell_type": "code",
      "metadata": {
        "id": "LcQGaRtc9N5F",
        "colab": {
          "base_uri": "https://localhost:8080/",
          "height": 238
        },
        "outputId": "2ded00e0-83ae-4497-d849-f230b337df84"
      },
      "source": [
        "raw_csv_data = pd.read_excel(\"/content/drive/MyDrive/Index3 excel.xlsx\",header=2)\n",
        "df_comp=raw_csv_data.copy()\n",
        "\n",
        "\n",
        "df_comp.Close = np.log( df_comp.Close)\n",
        "\n",
        "\n",
        "df_comp.date = pd.to_datetime(df_comp.Date, dayfirst = True)\n",
        "df_comp.set_index(\"Date\", inplace=True)\n",
        "df_comp=df_comp.asfreq('b')\n",
        "df_comp=df_comp.fillna(method='ffill')\n",
        "\n",
        "\n",
        "df_comp.head()\n"
      ],
      "execution_count": 3,
      "outputs": [
        {
          "output_type": "execute_result",
          "data": {
            "text/html": [
              "<div>\n",
              "<style scoped>\n",
              "    .dataframe tbody tr th:only-of-type {\n",
              "        vertical-align: middle;\n",
              "    }\n",
              "\n",
              "    .dataframe tbody tr th {\n",
              "        vertical-align: top;\n",
              "    }\n",
              "\n",
              "    .dataframe thead th {\n",
              "        text-align: right;\n",
              "    }\n",
              "</style>\n",
              "<table border=\"1\" class=\"dataframe\">\n",
              "  <thead>\n",
              "    <tr style=\"text-align: right;\">\n",
              "      <th></th>\n",
              "      <th>Close</th>\n",
              "    </tr>\n",
              "    <tr>\n",
              "      <th>Date</th>\n",
              "      <th></th>\n",
              "    </tr>\n",
              "  </thead>\n",
              "  <tbody>\n",
              "    <tr>\n",
              "      <th>2021-01-04</th>\n",
              "      <td>10.707796</td>\n",
              "    </tr>\n",
              "    <tr>\n",
              "      <th>2021-01-05</th>\n",
              "      <td>10.712374</td>\n",
              "    </tr>\n",
              "    <tr>\n",
              "      <th>2021-01-06</th>\n",
              "      <td>10.727381</td>\n",
              "    </tr>\n",
              "    <tr>\n",
              "      <th>2021-01-07</th>\n",
              "      <td>10.740490</td>\n",
              "    </tr>\n",
              "    <tr>\n",
              "      <th>2021-01-08</th>\n",
              "      <td>10.752127</td>\n",
              "    </tr>\n",
              "  </tbody>\n",
              "</table>\n",
              "</div>"
            ],
            "text/plain": [
              "                Close\n",
              "Date                 \n",
              "2021-01-04  10.707796\n",
              "2021-01-05  10.712374\n",
              "2021-01-06  10.727381\n",
              "2021-01-07  10.740490\n",
              "2021-01-08  10.752127"
            ]
          },
          "metadata": {},
          "execution_count": 3
        }
      ]
    },
    {
      "cell_type": "markdown",
      "metadata": {
        "id": "5R5L4kfYQJ8d"
      },
      "source": [
        "## Prueba de estacionalidad"
      ]
    },
    {
      "cell_type": "code",
      "metadata": {
        "id": "5FetUIgIQGCn",
        "colab": {
          "base_uri": "https://localhost:8080/"
        },
        "outputId": "82f43aa5-5920-483b-df66-46d12aed7d99"
      },
      "source": [
        "adf_test= ADFTest(alpha=0.05)\n",
        "adf_test.should_diff(df_comp.Close)"
      ],
      "execution_count": 4,
      "outputs": [
        {
          "output_type": "execute_result",
          "data": {
            "text/plain": [
              "(0.42944345062326494, True)"
            ]
          },
          "metadata": {},
          "execution_count": 4
        }
      ]
    },
    {
      "cell_type": "markdown",
      "metadata": {
        "id": "TGIO7uPB9N5m"
      },
      "source": [
        "## Splitting the Data"
      ]
    },
    {
      "cell_type": "code",
      "metadata": {
        "id": "XSqbOxGL9N5n",
        "colab": {
          "base_uri": "https://localhost:8080/"
        },
        "outputId": "19ee396a-3fd5-4036-b565-9bdb2977b2ca"
      },
      "source": [
        "size = int(len(df_comp.Close)*0.8)\n",
        "df, df_test = df_comp.Close.iloc[:size], df_comp.Close.iloc[size:]\n",
        "df.head()"
      ],
      "execution_count": 5,
      "outputs": [
        {
          "output_type": "execute_result",
          "data": {
            "text/plain": [
              "Date\n",
              "2021-01-04    10.707796\n",
              "2021-01-05    10.712374\n",
              "2021-01-06    10.727381\n",
              "2021-01-07    10.740490\n",
              "2021-01-08    10.752127\n",
              "Freq: B, Name: Close, dtype: float64"
            ]
          },
          "metadata": {},
          "execution_count": 5
        }
      ]
    },
    {
      "cell_type": "code",
      "metadata": {
        "id": "vBuIN3IHLuP8",
        "colab": {
          "base_uri": "https://localhost:8080/"
        },
        "outputId": "ddc2e37d-cb1b-45fb-bbbf-8039995b5842"
      },
      "source": [
        "df.tail()"
      ],
      "execution_count": 16,
      "outputs": [
        {
          "output_type": "execute_result",
          "data": {
            "text/plain": [
              "Date\n",
              "2021-08-19    10.841527\n",
              "2021-08-20    10.847672\n",
              "2021-08-23    10.860049\n",
              "2021-08-24    10.858710\n",
              "2021-08-25    10.865619\n",
              "Freq: B, Name: Close, dtype: float64"
            ]
          },
          "metadata": {},
          "execution_count": 16
        }
      ]
    },
    {
      "cell_type": "code",
      "metadata": {
        "id": "fXV7I-fMLjaV",
        "colab": {
          "base_uri": "https://localhost:8080/"
        },
        "outputId": "4106fe4a-b0a8-4195-d4ac-afab2d456b0e"
      },
      "source": [
        "df_test.head()"
      ],
      "execution_count": 17,
      "outputs": [
        {
          "output_type": "execute_result",
          "data": {
            "text/plain": [
              "Date\n",
              "2021-08-26    10.864574\n",
              "2021-08-27    10.867151\n",
              "2021-08-30    10.870511\n",
              "2021-08-31    10.883781\n",
              "2021-09-01    10.863135\n",
              "Freq: B, Name: Close, dtype: float64"
            ]
          },
          "metadata": {},
          "execution_count": 17
        }
      ]
    },
    {
      "cell_type": "code",
      "metadata": {
        "id": "zDD5nSRVMZKI",
        "colab": {
          "base_uri": "https://localhost:8080/"
        },
        "outputId": "17eb8b1a-c83d-4acb-a898-ba4b94e27cf2"
      },
      "source": [
        "df_test.tail()"
      ],
      "execution_count": 18,
      "outputs": [
        {
          "output_type": "execute_result",
          "data": {
            "text/plain": [
              "Date\n",
              "2021-10-18    10.872106\n",
              "2021-10-19    10.866714\n",
              "2021-10-20    10.864717\n",
              "2021-10-21    10.859385\n",
              "2021-10-22    10.856875\n",
              "Freq: B, Name: Close, dtype: float64"
            ]
          },
          "metadata": {},
          "execution_count": 18
        }
      ]
    },
    {
      "cell_type": "markdown",
      "metadata": {
        "id": "hiE6vUQZ9N5p"
      },
      "source": [
        "## Fitting a Model"
      ]
    },
    {
      "cell_type": "code",
      "metadata": {
        "id": "8gk2mBZH9N5q",
        "colab": {
          "base_uri": "https://localhost:8080/",
          "height": 314
        },
        "outputId": "772345ce-3197-41ee-8832-7a519e93ddc0"
      },
      "source": [
        "model_ar = ARIMA(df, order = (1,0,0))\n",
        "results_ar = model_ar.fit()\n",
        "results_ar.summary()"
      ],
      "execution_count": 20,
      "outputs": [
        {
          "output_type": "execute_result",
          "data": {
            "text/html": [
              "<table class=\"simpletable\">\n",
              "<caption>ARMA Model Results</caption>\n",
              "<tr>\n",
              "  <th>Dep. Variable:</th>       <td>Close</td>      <th>  No. Observations:  </th>    <td>168</td>   \n",
              "</tr>\n",
              "<tr>\n",
              "  <th>Model:</th>            <td>ARMA(1, 0)</td>    <th>  Log Likelihood     </th>  <td>548.020</td> \n",
              "</tr>\n",
              "<tr>\n",
              "  <th>Method:</th>             <td>css-mle</td>     <th>  S.D. of innovations</th>   <td>0.009</td>  \n",
              "</tr>\n",
              "<tr>\n",
              "  <th>Date:</th>          <td>Fri, 19 Nov 2021</td> <th>  AIC                </th> <td>-1090.040</td>\n",
              "</tr>\n",
              "<tr>\n",
              "  <th>Time:</th>              <td>23:49:56</td>     <th>  BIC                </th> <td>-1080.668</td>\n",
              "</tr>\n",
              "<tr>\n",
              "  <th>Sample:</th>           <td>01-04-2021</td>    <th>  HQIC               </th> <td>-1086.237</td>\n",
              "</tr>\n",
              "<tr>\n",
              "  <th></th>                 <td>- 08-25-2021</td>   <th>                     </th>     <td> </td>    \n",
              "</tr>\n",
              "</table>\n",
              "<table class=\"simpletable\">\n",
              "<tr>\n",
              "       <td></td>          <th>coef</th>     <th>std err</th>      <th>z</th>      <th>P>|z|</th>  <th>[0.025</th>    <th>0.975]</th>  \n",
              "</tr>\n",
              "<tr>\n",
              "  <th>const</th>       <td>   10.7856</td> <td>    0.044</td> <td>  242.704</td> <td> 0.000</td> <td>   10.699</td> <td>   10.873</td>\n",
              "</tr>\n",
              "<tr>\n",
              "  <th>ar.L1.Close</th> <td>    0.9889</td> <td>    0.011</td> <td>   93.654</td> <td> 0.000</td> <td>    0.968</td> <td>    1.010</td>\n",
              "</tr>\n",
              "</table>\n",
              "<table class=\"simpletable\">\n",
              "<caption>Roots</caption>\n",
              "<tr>\n",
              "    <td></td>   <th>            Real</th>  <th>         Imaginary</th> <th>         Modulus</th>  <th>        Frequency</th>\n",
              "</tr>\n",
              "<tr>\n",
              "  <th>AR.1</th> <td>           1.0112</td> <td>          +0.0000j</td> <td>           1.0112</td> <td>           0.0000</td>\n",
              "</tr>\n",
              "</table>"
            ],
            "text/plain": [
              "<class 'statsmodels.iolib.summary.Summary'>\n",
              "\"\"\"\n",
              "                              ARMA Model Results                              \n",
              "==============================================================================\n",
              "Dep. Variable:                  Close   No. Observations:                  168\n",
              "Model:                     ARMA(1, 0)   Log Likelihood                 548.020\n",
              "Method:                       css-mle   S.D. of innovations              0.009\n",
              "Date:                Fri, 19 Nov 2021   AIC                          -1090.040\n",
              "Time:                        23:49:56   BIC                          -1080.668\n",
              "Sample:                    01-04-2021   HQIC                         -1086.237\n",
              "                         - 08-25-2021                                         \n",
              "===============================================================================\n",
              "                  coef    std err          z      P>|z|      [0.025      0.975]\n",
              "-------------------------------------------------------------------------------\n",
              "const          10.7856      0.044    242.704      0.000      10.699      10.873\n",
              "ar.L1.Close     0.9889      0.011     93.654      0.000       0.968       1.010\n",
              "                                    Roots                                    \n",
              "=============================================================================\n",
              "                  Real          Imaginary           Modulus         Frequency\n",
              "-----------------------------------------------------------------------------\n",
              "AR.1            1.0112           +0.0000j            1.0112            0.0000\n",
              "-----------------------------------------------------------------------------\n",
              "\"\"\""
            ]
          },
          "metadata": {},
          "execution_count": 20
        }
      ]
    },
    {
      "cell_type": "markdown",
      "metadata": {
        "id": "PEZiJPc19N5v"
      },
      "source": [
        "## Simple Forecasting"
      ]
    },
    {
      "cell_type": "code",
      "metadata": {
        "id": "AdDrYKb07ipJ",
        "colab": {
          "base_uri": "https://localhost:8080/"
        },
        "outputId": "5ce22219-b5ac-4906-f7a7-7ceefbc01307"
      },
      "source": [
        "df.tail()"
      ],
      "execution_count": 21,
      "outputs": [
        {
          "output_type": "execute_result",
          "data": {
            "text/plain": [
              "Date\n",
              "2021-08-19    10.841527\n",
              "2021-08-20    10.847672\n",
              "2021-08-23    10.860049\n",
              "2021-08-24    10.858710\n",
              "2021-08-25    10.865619\n",
              "Freq: B, Name: Close, dtype: float64"
            ]
          },
          "metadata": {},
          "execution_count": 21
        }
      ]
    },
    {
      "cell_type": "code",
      "metadata": {
        "id": "QYsVhXbU9N54"
      },
      "source": [
        "# create variables that will help us change the periods easily instead of typing them up every time\n",
        "# make sure the start and end dates are business days, otherwise the code will result in an error\n",
        "start_date = \"2021-08-26\"\n",
        "end_date = \"2021-10-22\""
      ],
      "execution_count": 22,
      "outputs": []
    },
    {
      "cell_type": "code",
      "metadata": {
        "id": "nEscJvyM9N56"
      },
      "source": [
        "df_pred = results_ar.predict(start = start_date, end = end_date)"
      ],
      "execution_count": 23,
      "outputs": []
    },
    {
      "cell_type": "code",
      "metadata": {
        "id": "gepgst7k9_Ih",
        "colab": {
          "base_uri": "https://localhost:8080/",
          "height": 399
        },
        "outputId": "d734c167-3d3c-46b5-9077-31e0e87bbfab"
      },
      "source": [
        "df_pred[start_date:end_date].plot(figsize = (20,5), color = \"red\")\n",
        "df_test[start_date:end_date].plot(color=\"blue\")\n",
        "plt.title(\"Predictions\", size = 24)\n",
        "plt.show()"
      ],
      "execution_count": 25,
      "outputs": [
        {
          "output_type": "display_data",
          "data": {
            "image/png": "[encoded data removed]",
            "text/plain": [
              "<Figure size 1440x360 with 1 Axes>"
            ]
          },
          "metadata": {
            "needs_background": "light"
          }
        }
      ]
    },
    {
      "cell_type": "markdown",
      "metadata": {
        "id": "_LEhJW6Q9N6Z"
      },
      "source": [
        "### SARIMAX"
      ]
    },
    {
      "cell_type": "code",
      "metadata": {
        "id": "i1COAcuz9N6Z",
        "colab": {
          "base_uri": "https://localhost:8080/",
          "height": 235
        },
        "outputId": "4e7efcce-ffd3-4ed4-df30-750da87a63b4"
      },
      "source": [
        "start_date=\"2021-01-04\"\n",
        "end_date=\"2021-08-25\"\n",
        "\n",
        "\n",
        "model_sarimax = SARIMAX(df, exog = None, order = (1,1,1), seasonal_order = (0,0,0,0))\n",
        "results_sarimax = model_sarimax.fit()\n",
        "\n",
        "df_pred_sarimax = results_sarimax.predict(start = \"2021-01-05\", end = end_date, exog=None)\n",
        "\n",
        "df_pred_sarimax[start_date:end_date].plot(figsize = (20,5), color = \"red\")\n",
        "df[start_date:end_date].plot(color = \"blue\")\n",
        "plt.title(\"Predictions vs Actual\", size = 24)\n",
        "plt.show()"
      ],
      "execution_count": null,
      "outputs": [
        {
          "output_type": "error",
          "ename": "NameError",
          "evalue": "ignored",
          "traceback": [
            "\u001b[0;31m---------------------------------------------------------------------------\u001b[0m",
            "\u001b[0;31mNameError\u001b[0m                                 Traceback (most recent call last)",
            "\u001b[0;32m<ipython-input-74-ca745ab0967a>\u001b[0m in \u001b[0;36m<module>\u001b[0;34m()\u001b[0m\n\u001b[1;32m      8\u001b[0m \u001b[0mdf_pred_sarimax\u001b[0m \u001b[0;34m=\u001b[0m \u001b[0mresults_sarimax\u001b[0m\u001b[0;34m.\u001b[0m\u001b[0mpredict\u001b[0m\u001b[0;34m(\u001b[0m\u001b[0mstart\u001b[0m \u001b[0;34m=\u001b[0m \u001b[0;34m\"2021-01-05\"\u001b[0m\u001b[0;34m,\u001b[0m \u001b[0mend\u001b[0m \u001b[0;34m=\u001b[0m \u001b[0mend_date\u001b[0m\u001b[0;34m,\u001b[0m \u001b[0mexog\u001b[0m\u001b[0;34m=\u001b[0m\u001b[0;32mNone\u001b[0m\u001b[0;34m)\u001b[0m\u001b[0;34m\u001b[0m\u001b[0;34m\u001b[0m\u001b[0m\n\u001b[1;32m      9\u001b[0m \u001b[0;34m\u001b[0m\u001b[0m\n\u001b[0;32m---> 10\u001b[0;31m \u001b[0mforecast\u001b[0m\u001b[0;34m(\u001b[0m\u001b[0;36m1000\u001b[0m\u001b[0;34m)\u001b[0m\u001b[0;34m\u001b[0m\u001b[0;34m\u001b[0m\u001b[0m\n\u001b[0m\u001b[1;32m     11\u001b[0m \u001b[0;34m\u001b[0m\u001b[0m\n\u001b[1;32m     12\u001b[0m \u001b[0mdf_pred_sarimax\u001b[0m\u001b[0;34m[\u001b[0m\u001b[0mstart_date\u001b[0m\u001b[0;34m:\u001b[0m\u001b[0mend_date\u001b[0m\u001b[0;34m]\u001b[0m\u001b[0;34m.\u001b[0m\u001b[0mplot\u001b[0m\u001b[0;34m(\u001b[0m\u001b[0mfigsize\u001b[0m \u001b[0;34m=\u001b[0m \u001b[0;34m(\u001b[0m\u001b[0;36m20\u001b[0m\u001b[0;34m,\u001b[0m\u001b[0;36m5\u001b[0m\u001b[0;34m)\u001b[0m\u001b[0;34m,\u001b[0m \u001b[0mcolor\u001b[0m \u001b[0;34m=\u001b[0m \u001b[0;34m\"red\"\u001b[0m\u001b[0;34m)\u001b[0m\u001b[0;34m\u001b[0m\u001b[0;34m\u001b[0m\u001b[0m\n",
            "\u001b[0;31mNameError\u001b[0m: name 'forecast' is not defined"
          ]
        }
      ]
    },
    {
      "cell_type": "markdown",
      "metadata": {
        "id": "h0MDFiW_9N6c"
      },
      "source": [
        "### Auto ARIMA"
      ]
    },
    {
      "cell_type": "code",
      "metadata": {
        "id": "BE6khLkpz0nj",
        "colab": {
          "base_uri": "https://localhost:8080/"
        },
        "outputId": "1bac4493-da9e-4909-fa0d-79380c051390"
      },
      "source": [
        "model_auto = auto_arima(df.log, start_p=0, start_q=0, max_p=5, max_q=5, start_P=0, start_Q=0, D=1, max_P=5, max_Q=5, max_D=5, m=1, trace=True,stepwise=True, \n",
        "                         random_state=20, n_fits=50, criterion=\"aic\", alpha=0.05,seasonal=True)"
      ],
      "execution_count": null,
      "outputs": [
        {
          "output_type": "stream",
          "name": "stdout",
          "text": [
            "Performing stepwise search to minimize aic\n",
            " ARIMA(0,1,0)(0,0,0)[0] intercept   : AIC=-1060.354, Time=0.03 sec\n",
            " ARIMA(1,1,0)(0,0,0)[0] intercept   : AIC=-1060.076, Time=0.12 sec\n",
            " ARIMA(0,1,1)(0,0,0)[0] intercept   : AIC=-1060.403, Time=0.13 sec\n",
            " ARIMA(0,1,0)(0,0,0)[0]             : AIC=-1060.575, Time=0.02 sec\n",
            " ARIMA(1,1,1)(0,0,0)[0] intercept   : AIC=-1061.501, Time=0.27 sec\n",
            " ARIMA(2,1,1)(0,0,0)[0] intercept   : AIC=-1058.915, Time=0.48 sec\n",
            " ARIMA(1,1,2)(0,0,0)[0] intercept   : AIC=-1057.411, Time=0.20 sec\n",
            " ARIMA(0,1,2)(0,0,0)[0] intercept   : AIC=-1059.846, Time=0.24 sec\n",
            " ARIMA(2,1,0)(0,0,0)[0] intercept   : AIC=-1058.985, Time=0.05 sec\n",
            " ARIMA(2,1,2)(0,0,0)[0] intercept   : AIC=-1056.320, Time=0.30 sec\n",
            " ARIMA(1,1,1)(0,0,0)[0]             : AIC=-1057.360, Time=0.05 sec\n",
            "\n",
            "Best model:  ARIMA(1,1,1)(0,0,0)[0] intercept\n",
            "Total fit time: 1.901 seconds\n"
          ]
        }
      ]
    },
    {
      "cell_type": "markdown",
      "metadata": {
        "id": "JoH1RaqV9N6m"
      },
      "source": [
        "### Forecasting Volatility"
      ]
    },
    {
      "cell_type": "code",
      "metadata": {
        "id": "J8jIOClb9N6n"
      },
      "source": [
        "start_date=\"2021-01-04\"\n",
        "end_date=\"2021-08-25\"\n",
        "\n",
        "\n",
        "mod_garch = arch_model(df,vol = \"GARCH\", p = 1, q = 1, mean = \"constant\", dist = \"Normal\")\n",
        "# res_garch = mod_garch.fit(last_obs = start_date, update_freq = 10)"
      ],
      "execution_count": null,
      "outputs": []
    },
    {
      "cell_type": "code",
      "metadata": {
        "id": "nw_dOfBk9N6p"
      },
      "source": [
        "pred_garch = res_garch.forecast(horizon = 1, align = 'target')"
      ],
      "execution_count": null,
      "outputs": []
    },
    {
      "cell_type": "code",
      "metadata": {
        "id": "7VAYR7bb82jO",
        "colab": {
          "base_uri": "https://localhost:8080/",
          "height": 325
        },
        "outputId": "a5d3c787-8f9d-4313-9e90-75cc890199d5"
      },
      "source": [
        "pred_garch.residual_variance[start_date:].plot(figsize = (20,5), color = \"red\", zorder = 2)\n",
        "plt.title(\"Volatility Predictions\", size = 24)\n",
        "plt.show()"
      ],
      "execution_count": null,
      "outputs": [
        {
          "output_type": "display_data",
          "data": {
            "image/png": "[encoded data removed]",
            "text/plain": [
              "<Figure size 1440x360 with 1 Axes>"
            ]
          },
          "metadata": {}
        }
      ]
    },
    {
      "cell_type": "code",
      "metadata": {
        "id": "T2xeNfwz9N6r",
        "colab": {
          "base_uri": "https://localhost:8080/",
          "height": 217
        },
        "outputId": "4f6f1b4f-650f-48a9-8249-d0c7190bded4"
      },
      "source": [
        "pred_garch.residual_variance[start_date:].plot(figsize = (20,5), color = \"red\", zorder = 2)\n",
        "df_test.abs().plot(color = \"blue\", zorder = 1)\n",
        "plt.title(\"Volatility Predictions\", size = 24)\n",
        "plt.show()"
      ],
      "execution_count": null,
      "outputs": [
        {
          "output_type": "error",
          "ename": "NameError",
          "evalue": "ignored",
          "traceback": [
            "\u001b[0;31m---------------------------------------------------------------------------\u001b[0m",
            "\u001b[0;31mNameError\u001b[0m                                 Traceback (most recent call last)",
            "\u001b[0;32m<ipython-input-61-6d90fb54a4d0>\u001b[0m in \u001b[0;36m<module>\u001b[0;34m()\u001b[0m\n\u001b[0;32m----> 1\u001b[0;31m \u001b[0mpred_garch\u001b[0m\u001b[0;34m.\u001b[0m\u001b[0mresidual_variance\u001b[0m\u001b[0;34m[\u001b[0m\u001b[0mstart_date\u001b[0m\u001b[0;34m:\u001b[0m\u001b[0;34m]\u001b[0m\u001b[0;34m.\u001b[0m\u001b[0mplot\u001b[0m\u001b[0;34m(\u001b[0m\u001b[0mfigsize\u001b[0m \u001b[0;34m=\u001b[0m \u001b[0;34m(\u001b[0m\u001b[0;36m20\u001b[0m\u001b[0;34m,\u001b[0m\u001b[0;36m5\u001b[0m\u001b[0;34m)\u001b[0m\u001b[0;34m,\u001b[0m \u001b[0mcolor\u001b[0m \u001b[0;34m=\u001b[0m \u001b[0;34m\"red\"\u001b[0m\u001b[0;34m,\u001b[0m \u001b[0mzorder\u001b[0m \u001b[0;34m=\u001b[0m \u001b[0;36m2\u001b[0m\u001b[0;34m)\u001b[0m\u001b[0;34m\u001b[0m\u001b[0;34m\u001b[0m\u001b[0m\n\u001b[0m\u001b[1;32m      2\u001b[0m \u001b[0mdf_test\u001b[0m\u001b[0;34m.\u001b[0m\u001b[0mabs\u001b[0m\u001b[0;34m(\u001b[0m\u001b[0;34m)\u001b[0m\u001b[0;34m.\u001b[0m\u001b[0mplot\u001b[0m\u001b[0;34m(\u001b[0m\u001b[0mcolor\u001b[0m \u001b[0;34m=\u001b[0m \u001b[0;34m\"blue\"\u001b[0m\u001b[0;34m,\u001b[0m \u001b[0mzorder\u001b[0m \u001b[0;34m=\u001b[0m \u001b[0;36m1\u001b[0m\u001b[0;34m)\u001b[0m\u001b[0;34m\u001b[0m\u001b[0;34m\u001b[0m\u001b[0m\n\u001b[1;32m      3\u001b[0m \u001b[0mplt\u001b[0m\u001b[0;34m.\u001b[0m\u001b[0mtitle\u001b[0m\u001b[0;34m(\u001b[0m\u001b[0;34m\"Volatility Predictions\"\u001b[0m\u001b[0;34m,\u001b[0m \u001b[0msize\u001b[0m \u001b[0;34m=\u001b[0m \u001b[0;36m24\u001b[0m\u001b[0;34m)\u001b[0m\u001b[0;34m\u001b[0m\u001b[0;34m\u001b[0m\u001b[0m\n\u001b[1;32m      4\u001b[0m \u001b[0mplt\u001b[0m\u001b[0;34m.\u001b[0m\u001b[0mshow\u001b[0m\u001b[0;34m(\u001b[0m\u001b[0;34m)\u001b[0m\u001b[0;34m\u001b[0m\u001b[0;34m\u001b[0m\u001b[0m\n",
            "\u001b[0;31mNameError\u001b[0m: name 'pred_garch' is not defined"
          ]
        }
      ]
    },
    {
      "cell_type": "code",
      "metadata": {
        "scrolled": true,
        "id": "0_KoGjJT9N6t",
        "colab": {
          "base_uri": "https://localhost:8080/",
          "height": 172
        },
        "outputId": "74b1b073-f71c-463c-8620-4da0661e4c8d"
      },
      "source": [
        "pred_garch = res_garch.forecast(horizon = 100, align = 'target')\n",
        "pred_garch.residual_variance[-1:]"
      ],
      "execution_count": null,
      "outputs": [
        {
          "output_type": "execute_result",
          "data": {
            "text/html": [
              "<div>\n",
              "<style scoped>\n",
              "    .dataframe tbody tr th:only-of-type {\n",
              "        vertical-align: middle;\n",
              "    }\n",
              "\n",
              "    .dataframe tbody tr th {\n",
              "        vertical-align: top;\n",
              "    }\n",
              "\n",
              "    .dataframe thead th {\n",
              "        text-align: right;\n",
              "    }\n",
              "</style>\n",
              "<table border=\"1\" class=\"dataframe\">\n",
              "  <thead>\n",
              "    <tr style=\"text-align: right;\">\n",
              "      <th></th>\n",
              "      <th>h.001</th>\n",
              "      <th>h.002</th>\n",
              "      <th>h.003</th>\n",
              "      <th>h.004</th>\n",
              "      <th>h.005</th>\n",
              "      <th>h.006</th>\n",
              "      <th>h.007</th>\n",
              "      <th>h.008</th>\n",
              "      <th>h.009</th>\n",
              "      <th>h.010</th>\n",
              "      <th>h.011</th>\n",
              "      <th>h.012</th>\n",
              "      <th>h.013</th>\n",
              "      <th>h.014</th>\n",
              "      <th>h.015</th>\n",
              "      <th>h.016</th>\n",
              "      <th>h.017</th>\n",
              "      <th>h.018</th>\n",
              "      <th>h.019</th>\n",
              "      <th>h.020</th>\n",
              "      <th>h.021</th>\n",
              "      <th>h.022</th>\n",
              "      <th>h.023</th>\n",
              "      <th>h.024</th>\n",
              "      <th>h.025</th>\n",
              "      <th>h.026</th>\n",
              "      <th>h.027</th>\n",
              "      <th>h.028</th>\n",
              "      <th>h.029</th>\n",
              "      <th>h.030</th>\n",
              "      <th>h.031</th>\n",
              "      <th>h.032</th>\n",
              "      <th>h.033</th>\n",
              "      <th>h.034</th>\n",
              "      <th>h.035</th>\n",
              "      <th>h.036</th>\n",
              "      <th>h.037</th>\n",
              "      <th>h.038</th>\n",
              "      <th>h.039</th>\n",
              "      <th>h.040</th>\n",
              "      <th>...</th>\n",
              "      <th>h.061</th>\n",
              "      <th>h.062</th>\n",
              "      <th>h.063</th>\n",
              "      <th>h.064</th>\n",
              "      <th>h.065</th>\n",
              "      <th>h.066</th>\n",
              "      <th>h.067</th>\n",
              "      <th>h.068</th>\n",
              "      <th>h.069</th>\n",
              "      <th>h.070</th>\n",
              "      <th>h.071</th>\n",
              "      <th>h.072</th>\n",
              "      <th>h.073</th>\n",
              "      <th>h.074</th>\n",
              "      <th>h.075</th>\n",
              "      <th>h.076</th>\n",
              "      <th>h.077</th>\n",
              "      <th>h.078</th>\n",
              "      <th>h.079</th>\n",
              "      <th>h.080</th>\n",
              "      <th>h.081</th>\n",
              "      <th>h.082</th>\n",
              "      <th>h.083</th>\n",
              "      <th>h.084</th>\n",
              "      <th>h.085</th>\n",
              "      <th>h.086</th>\n",
              "      <th>h.087</th>\n",
              "      <th>h.088</th>\n",
              "      <th>h.089</th>\n",
              "      <th>h.090</th>\n",
              "      <th>h.091</th>\n",
              "      <th>h.092</th>\n",
              "      <th>h.093</th>\n",
              "      <th>h.094</th>\n",
              "      <th>h.095</th>\n",
              "      <th>h.096</th>\n",
              "      <th>h.097</th>\n",
              "      <th>h.098</th>\n",
              "      <th>h.099</th>\n",
              "      <th>h.100</th>\n",
              "    </tr>\n",
              "    <tr>\n",
              "      <th>Date</th>\n",
              "      <th></th>\n",
              "      <th></th>\n",
              "      <th></th>\n",
              "      <th></th>\n",
              "      <th></th>\n",
              "      <th></th>\n",
              "      <th></th>\n",
              "      <th></th>\n",
              "      <th></th>\n",
              "      <th></th>\n",
              "      <th></th>\n",
              "      <th></th>\n",
              "      <th></th>\n",
              "      <th></th>\n",
              "      <th></th>\n",
              "      <th></th>\n",
              "      <th></th>\n",
              "      <th></th>\n",
              "      <th></th>\n",
              "      <th></th>\n",
              "      <th></th>\n",
              "      <th></th>\n",
              "      <th></th>\n",
              "      <th></th>\n",
              "      <th></th>\n",
              "      <th></th>\n",
              "      <th></th>\n",
              "      <th></th>\n",
              "      <th></th>\n",
              "      <th></th>\n",
              "      <th></th>\n",
              "      <th></th>\n",
              "      <th></th>\n",
              "      <th></th>\n",
              "      <th></th>\n",
              "      <th></th>\n",
              "      <th></th>\n",
              "      <th></th>\n",
              "      <th></th>\n",
              "      <th></th>\n",
              "      <th></th>\n",
              "      <th></th>\n",
              "      <th></th>\n",
              "      <th></th>\n",
              "      <th></th>\n",
              "      <th></th>\n",
              "      <th></th>\n",
              "      <th></th>\n",
              "      <th></th>\n",
              "      <th></th>\n",
              "      <th></th>\n",
              "      <th></th>\n",
              "      <th></th>\n",
              "      <th></th>\n",
              "      <th></th>\n",
              "      <th></th>\n",
              "      <th></th>\n",
              "      <th></th>\n",
              "      <th></th>\n",
              "      <th></th>\n",
              "      <th></th>\n",
              "      <th></th>\n",
              "      <th></th>\n",
              "      <th></th>\n",
              "      <th></th>\n",
              "      <th></th>\n",
              "      <th></th>\n",
              "      <th></th>\n",
              "      <th></th>\n",
              "      <th></th>\n",
              "      <th></th>\n",
              "      <th></th>\n",
              "      <th></th>\n",
              "      <th></th>\n",
              "      <th></th>\n",
              "      <th></th>\n",
              "      <th></th>\n",
              "      <th></th>\n",
              "      <th></th>\n",
              "      <th></th>\n",
              "      <th></th>\n",
              "    </tr>\n",
              "  </thead>\n",
              "  <tbody>\n",
              "    <tr>\n",
              "      <th>2019-08-30</th>\n",
              "      <td>0.811449</td>\n",
              "      <td>0.805648</td>\n",
              "      <td>0.867232</td>\n",
              "      <td>0.940608</td>\n",
              "      <td>1.02073</td>\n",
              "      <td>1.084989</td>\n",
              "      <td>1.074064</td>\n",
              "      <td>1.067783</td>\n",
              "      <td>1.08121</td>\n",
              "      <td>1.090608</td>\n",
              "      <td>1.142407</td>\n",
              "      <td>1.121338</td>\n",
              "      <td>1.036393</td>\n",
              "      <td>1.11072</td>\n",
              "      <td>1.183629</td>\n",
              "      <td>1.257723</td>\n",
              "      <td>1.248608</td>\n",
              "      <td>1.336788</td>\n",
              "      <td>1.395024</td>\n",
              "      <td>1.014502</td>\n",
              "      <td>0.65149</td>\n",
              "      <td>0.691586</td>\n",
              "      <td>0.683082</td>\n",
              "      <td>0.701209</td>\n",
              "      <td>0.509165</td>\n",
              "      <td>0.491619</td>\n",
              "      <td>0.510821</td>\n",
              "      <td>0.490371</td>\n",
              "      <td>0.49208</td>\n",
              "      <td>0.512208</td>\n",
              "      <td>0.531597</td>\n",
              "      <td>0.528003</td>\n",
              "      <td>0.524606</td>\n",
              "      <td>0.523109</td>\n",
              "      <td>0.536405</td>\n",
              "      <td>0.555709</td>\n",
              "      <td>0.569648</td>\n",
              "      <td>0.590162</td>\n",
              "      <td>0.609764</td>\n",
              "      <td>0.63289</td>\n",
              "      <td>...</td>\n",
              "      <td>0.779928</td>\n",
              "      <td>0.790801</td>\n",
              "      <td>0.816335</td>\n",
              "      <td>0.836243</td>\n",
              "      <td>0.860533</td>\n",
              "      <td>0.85355</td>\n",
              "      <td>0.873285</td>\n",
              "      <td>0.827</td>\n",
              "      <td>0.8511</td>\n",
              "      <td>0.878126</td>\n",
              "      <td>0.888177</td>\n",
              "      <td>0.808246</td>\n",
              "      <td>0.829919</td>\n",
              "      <td>0.85095</td>\n",
              "      <td>0.859692</td>\n",
              "      <td>0.883821</td>\n",
              "      <td>0.883548</td>\n",
              "      <td>0.883613</td>\n",
              "      <td>0.855375</td>\n",
              "      <td>0.8605</td>\n",
              "      <td>0.882306</td>\n",
              "      <td>0.865465</td>\n",
              "      <td>0.886742</td>\n",
              "      <td>0.777604</td>\n",
              "      <td>0.790476</td>\n",
              "      <td>0.798239</td>\n",
              "      <td>0.800314</td>\n",
              "      <td>0.802961</td>\n",
              "      <td>0.810827</td>\n",
              "      <td>0.823701</td>\n",
              "      <td>0.837281</td>\n",
              "      <td>0.838888</td>\n",
              "      <td>0.830292</td>\n",
              "      <td>0.815455</td>\n",
              "      <td>0.827095</td>\n",
              "      <td>0.839331</td>\n",
              "      <td>0.850645</td>\n",
              "      <td>0.864163</td>\n",
              "      <td>0.871725</td>\n",
              "      <td>0.886197</td>\n",
              "    </tr>\n",
              "  </tbody>\n",
              "</table>\n",
              "<p>1 rows × 100 columns</p>\n",
              "</div>"
            ],
            "text/plain": [
              "               h.001     h.002     h.003  ...     h.098     h.099     h.100\n",
              "Date                                      ...                              \n",
              "2019-08-30  0.811449  0.805648  0.867232  ...  0.864163  0.871725  0.886197\n",
              "\n",
              "[1 rows x 100 columns]"
            ]
          },
          "metadata": {
            "tags": []
          },
          "execution_count": 46
        }
      ]
    },
    {
      "cell_type": "markdown",
      "metadata": {
        "id": "azkOOoKV9N6w"
      },
      "source": [
        "### Multivariate Regression Model"
      ]
    },
    {
      "cell_type": "code",
      "metadata": {
        "id": "rF0_dXnE9N6w"
      },
      "source": [
        "from statsmodels.tsa.api import VAR"
      ],
      "execution_count": null,
      "outputs": []
    },
    {
      "cell_type": "code",
      "metadata": {
        "id": "JQ3vDlR-9N6z"
      },
      "source": [
        "df = df[1:]"
      ],
      "execution_count": null,
      "outputs": []
    },
    {
      "cell_type": "code",
      "metadata": {
        "id": "jpCxs9Da9N61",
        "colab": {
          "base_uri": "https://localhost:8080/",
          "height": 321
        },
        "outputId": "a5ccfe1d-fd0b-41a4-b217-a3b34d67e372"
      },
      "source": [
        "model_var = VAR(df)\n",
        "model_var.select_order(20)\n",
        "results_var = model_var.fit(ic = 'aic')"
      ],
      "execution_count": null,
      "outputs": [
        {
          "output_type": "error",
          "ename": "ValueError",
          "evalue": "ignored",
          "traceback": [
            "\u001b[0;31m---------------------------------------------------------------------------\u001b[0m",
            "\u001b[0;31mValueError\u001b[0m                                Traceback (most recent call last)",
            "\u001b[0;32m<ipython-input-69-69c46c51ace0>\u001b[0m in \u001b[0;36m<module>\u001b[0;34m()\u001b[0m\n\u001b[0;32m----> 1\u001b[0;31m \u001b[0mmodel_var\u001b[0m \u001b[0;34m=\u001b[0m \u001b[0mVAR\u001b[0m\u001b[0;34m(\u001b[0m\u001b[0mdf\u001b[0m\u001b[0;34m)\u001b[0m\u001b[0;34m\u001b[0m\u001b[0;34m\u001b[0m\u001b[0m\n\u001b[0m\u001b[1;32m      2\u001b[0m \u001b[0mmodel_var\u001b[0m\u001b[0;34m.\u001b[0m\u001b[0mselect_order\u001b[0m\u001b[0;34m(\u001b[0m\u001b[0;36m20\u001b[0m\u001b[0;34m)\u001b[0m\u001b[0;34m\u001b[0m\u001b[0;34m\u001b[0m\u001b[0m\n\u001b[1;32m      3\u001b[0m \u001b[0mresults_var\u001b[0m \u001b[0;34m=\u001b[0m \u001b[0mmodel_var\u001b[0m\u001b[0;34m.\u001b[0m\u001b[0mfit\u001b[0m\u001b[0;34m(\u001b[0m\u001b[0mic\u001b[0m \u001b[0;34m=\u001b[0m \u001b[0;34m'aic'\u001b[0m\u001b[0;34m)\u001b[0m\u001b[0;34m\u001b[0m\u001b[0;34m\u001b[0m\u001b[0m\n",
            "\u001b[0;32m/usr/local/lib/python3.7/dist-packages/statsmodels/tsa/vector_ar/var_model.py\u001b[0m in \u001b[0;36m__init__\u001b[0;34m(self, endog, exog, dates, freq, missing)\u001b[0m\n\u001b[1;32m    523\u001b[0m \u001b[0;31m# VARProcess class: for known or unknown VAR process\u001b[0m\u001b[0;34m\u001b[0m\u001b[0;34m\u001b[0m\u001b[0;34m\u001b[0m\u001b[0m\n\u001b[1;32m    524\u001b[0m \u001b[0;34m\u001b[0m\u001b[0m\n\u001b[0;32m--> 525\u001b[0;31m \u001b[0;34m\u001b[0m\u001b[0m\n\u001b[0m\u001b[1;32m    526\u001b[0m \u001b[0;32mclass\u001b[0m \u001b[0mVAR\u001b[0m\u001b[0;34m(\u001b[0m\u001b[0mTimeSeriesModel\u001b[0m\u001b[0;34m)\u001b[0m\u001b[0;34m:\u001b[0m\u001b[0;34m\u001b[0m\u001b[0;34m\u001b[0m\u001b[0m\n\u001b[1;32m    527\u001b[0m     r\"\"\"\n",
            "\u001b[0;31mValueError\u001b[0m: Only gave one variable to VAR"
          ]
        }
      ]
    },
    {
      "cell_type": "code",
      "metadata": {
        "id": "bW-Mn_319N64",
        "colab": {
          "base_uri": "https://localhost:8080/",
          "height": 165
        },
        "outputId": "60e07a1f-3c44-4db0-9cfb-76bbabdf29b5"
      },
      "source": [
        "results_var.summary()"
      ],
      "execution_count": null,
      "outputs": [
        {
          "output_type": "error",
          "ename": "NameError",
          "evalue": "ignored",
          "traceback": [
            "\u001b[0;31m---------------------------------------------------------------------------\u001b[0m",
            "\u001b[0;31mNameError\u001b[0m                                 Traceback (most recent call last)",
            "\u001b[0;32m<ipython-input-73-2b204bad1ac9>\u001b[0m in \u001b[0;36m<module>\u001b[0;34m()\u001b[0m\n\u001b[0;32m----> 1\u001b[0;31m \u001b[0mresults_var\u001b[0m\u001b[0;34m.\u001b[0m\u001b[0msummary\u001b[0m\u001b[0;34m(\u001b[0m\u001b[0;34m)\u001b[0m\u001b[0;34m\u001b[0m\u001b[0;34m\u001b[0m\u001b[0m\n\u001b[0m",
            "\u001b[0;31mNameError\u001b[0m: name 'results_var' is not defined"
          ]
        }
      ]
    },
    {
      "cell_type": "code",
      "metadata": {
        "scrolled": true,
        "id": "it_jgtZ99N67",
        "colab": {
          "base_uri": "https://localhost:8080/",
          "height": 235
        },
        "outputId": "f6d408cb-162a-45d0-fecb-a8d4970f05d1"
      },
      "source": [
        "lag_order= results_var.k_ar\n",
        "var_pred = results_var.forecast(df.values[-lag_order:], len(df_test[start_date:end_date]))\n",
        "\n",
        "df_pred = pd.DataFrame(data = var_pred, index = df_test[start_date:end_date].index,\n",
        "                                columns = df_test[start_date:end_date].columns[4:8])\n",
        "\n",
        "df_pred.nikkei[start_date:end_date].plot(figsize = (20,5), color = \"red\")\n",
        "\n",
        "df_test[start_date:end_date].plot(color = \"blue\")\n",
        "plt.title(\"Real vs Prediction\", size = 24)\n",
        "plt.show()"
      ],
      "execution_count": null,
      "outputs": [
        {
          "output_type": "error",
          "ename": "NameError",
          "evalue": "ignored",
          "traceback": [
            "\u001b[0;31m---------------------------------------------------------------------------\u001b[0m",
            "\u001b[0;31mNameError\u001b[0m                                 Traceback (most recent call last)",
            "\u001b[0;32m<ipython-input-72-3005e3b6e9b7>\u001b[0m in \u001b[0;36m<module>\u001b[0;34m()\u001b[0m\n\u001b[0;32m----> 1\u001b[0;31m \u001b[0mlag_order\u001b[0m\u001b[0;34m=\u001b[0m \u001b[0mresults_var\u001b[0m\u001b[0;34m.\u001b[0m\u001b[0mk_ar\u001b[0m\u001b[0;34m\u001b[0m\u001b[0;34m\u001b[0m\u001b[0m\n\u001b[0m\u001b[1;32m      2\u001b[0m \u001b[0mvar_pred\u001b[0m \u001b[0;34m=\u001b[0m \u001b[0mresults_var\u001b[0m\u001b[0;34m.\u001b[0m\u001b[0mforecast\u001b[0m\u001b[0;34m(\u001b[0m\u001b[0mdf\u001b[0m\u001b[0;34m.\u001b[0m\u001b[0mvalues\u001b[0m\u001b[0;34m[\u001b[0m\u001b[0;34m-\u001b[0m\u001b[0mlag_order\u001b[0m\u001b[0;34m:\u001b[0m\u001b[0;34m]\u001b[0m\u001b[0;34m,\u001b[0m \u001b[0mlen\u001b[0m\u001b[0;34m(\u001b[0m\u001b[0mdf_test\u001b[0m\u001b[0;34m[\u001b[0m\u001b[0mstart_date\u001b[0m\u001b[0;34m:\u001b[0m\u001b[0mend_date\u001b[0m\u001b[0;34m]\u001b[0m\u001b[0;34m)\u001b[0m\u001b[0;34m)\u001b[0m\u001b[0;34m\u001b[0m\u001b[0;34m\u001b[0m\u001b[0m\n\u001b[1;32m      3\u001b[0m \u001b[0;34m\u001b[0m\u001b[0m\n\u001b[1;32m      4\u001b[0m df_pred = pd.DataFrame(data = var_pred, index = df_test[start_date:end_date].index,\n\u001b[1;32m      5\u001b[0m                                 columns = df_test[start_date:end_date].columns[4:8])\n",
            "\u001b[0;31mNameError\u001b[0m: name 'results_var' is not defined"
          ]
        }
      ]
    },
    {
      "cell_type": "code",
      "metadata": {
        "id": "Fie2DxkN9N6-"
      },
      "source": [
        "results_var_ret.plot_forecast(1000)\n",
        "plt.show()"
      ],
      "execution_count": null,
      "outputs": []
    }
  ]
}