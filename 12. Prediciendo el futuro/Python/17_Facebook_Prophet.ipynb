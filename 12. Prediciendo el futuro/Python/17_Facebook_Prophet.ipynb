{
  "nbformat": 4,
  "nbformat_minor": 0,
  "metadata": {
    "kernelspec": {
      "display_name": "Python 3",
      "language": "python",
      "name": "python3"
    },
    "language_info": {
      "codemirror_mode": {
        "name": "ipython",
        "version": 3
      },
      "file_extension": ".py",
      "mimetype": "text/x-python",
      "name": "python",
      "nbconvert_exporter": "python",
      "pygments_lexer": "ipython3",
      "version": "3.6.7"
    },
    "colab": {
      "name": "17_Facebook_Prophet.ipynb",
      "provenance": []
    }
  },
  "cells": [
    {
      "cell_type": "markdown",
      "metadata": {
        "id": "WVzF4wSY1FMc"
      },
      "source": [
        "## Load Libraries"
      ]
    },
    {
      "cell_type": "code",
      "metadata": {
        "id": "keIw3oXP1FMd"
      },
      "source": [
        "import pandas as pd\n",
        "from fbprophet import Prophet"
      ],
      "execution_count": 1,
      "outputs": []
    },
    {
      "cell_type": "code",
      "metadata": {
        "id": "DknW2jPkC6aO",
        "outputId": "08b795f9-2161-4fb4-f42c-e813e2d9f597",
        "colab": {
          "base_uri": "https://localhost:8080/"
        }
      },
      "source": [
        "from google.colab import drive\n",
        "drive.mount('/content/drive')"
      ],
      "execution_count": 2,
      "outputs": [
        {
          "output_type": "stream",
          "name": "stdout",
          "text": [
            "Mounted at /content/drive\n"
          ]
        }
      ]
    },
    {
      "cell_type": "markdown",
      "metadata": {
        "id": "Xw6t1M1gDn2C"
      },
      "source": [
        ""
      ]
    },
    {
      "cell_type": "markdown",
      "metadata": {
        "id": "jgbHZr6X1FMg"
      },
      "source": [
        "## Load Data\n",
        "\n"
      ]
    },
    {
      "cell_type": "code",
      "metadata": {
        "id": "3bRgVkIL1FMh",
        "colab": {
          "base_uri": "https://localhost:8080/",
          "height": 206
        },
        "outputId": "d430fbe0-eddc-499b-f329-7debbd644ed1"
      },
      "source": [
        "raw_csv_data = pd.read_excel(\"/content/drive/MyDrive/Index3 excel.xlsx\",header=2)\n",
        "df_comp=raw_csv_data.copy()\n",
        "\n",
        "df_comp.head()"
      ],
      "execution_count": 25,
      "outputs": [
        {
          "output_type": "execute_result",
          "data": {
            "text/html": [
              "<div>\n",
              "<style scoped>\n",
              "    .dataframe tbody tr th:only-of-type {\n",
              "        vertical-align: middle;\n",
              "    }\n",
              "\n",
              "    .dataframe tbody tr th {\n",
              "        vertical-align: top;\n",
              "    }\n",
              "\n",
              "    .dataframe thead th {\n",
              "        text-align: right;\n",
              "    }\n",
              "</style>\n",
              "<table border=\"1\" class=\"dataframe\">\n",
              "  <thead>\n",
              "    <tr style=\"text-align: right;\">\n",
              "      <th></th>\n",
              "      <th>Date</th>\n",
              "      <th>Close</th>\n",
              "    </tr>\n",
              "  </thead>\n",
              "  <tbody>\n",
              "    <tr>\n",
              "      <th>0</th>\n",
              "      <td>2021-01-04</td>\n",
              "      <td>44703.00</td>\n",
              "    </tr>\n",
              "    <tr>\n",
              "      <th>1</th>\n",
              "      <td>2021-01-05</td>\n",
              "      <td>44908.12</td>\n",
              "    </tr>\n",
              "    <tr>\n",
              "      <th>2</th>\n",
              "      <td>2021-01-06</td>\n",
              "      <td>45587.16</td>\n",
              "    </tr>\n",
              "    <tr>\n",
              "      <th>3</th>\n",
              "      <td>2021-01-07</td>\n",
              "      <td>46188.66</td>\n",
              "    </tr>\n",
              "    <tr>\n",
              "      <th>4</th>\n",
              "      <td>2021-01-08</td>\n",
              "      <td>46729.30</td>\n",
              "    </tr>\n",
              "  </tbody>\n",
              "</table>\n",
              "</div>"
            ],
            "text/plain": [
              "        Date     Close\n",
              "0 2021-01-04  44703.00\n",
              "1 2021-01-05  44908.12\n",
              "2 2021-01-06  45587.16\n",
              "3 2021-01-07  46188.66\n",
              "4 2021-01-08  46729.30"
            ]
          },
          "metadata": {},
          "execution_count": 25
        }
      ]
    },
    {
      "cell_type": "markdown",
      "metadata": {
        "id": "ocMQ35vp1FMo"
      },
      "source": [
        "### Format the Data"
      ]
    },
    {
      "cell_type": "code",
      "metadata": {
        "id": "W8GyGJRy1FMp"
      },
      "source": [
        "df_comp.columns = ['ds','y']"
      ],
      "execution_count": 26,
      "outputs": []
    },
    {
      "cell_type": "code",
      "metadata": {
        "id": "xl1gFcpb1FMt",
        "colab": {
          "base_uri": "https://localhost:8080/",
          "height": 206
        },
        "outputId": "37dc16bc-8fb2-4567-db0e-562278dd6124"
      },
      "source": [
        "df_comp['ds'] = pd.to_datetime(df_comp['ds'])\n",
        "\n",
        "df_comp.head()"
      ],
      "execution_count": 27,
      "outputs": [
        {
          "output_type": "execute_result",
          "data": {
            "text/html": [
              "<div>\n",
              "<style scoped>\n",
              "    .dataframe tbody tr th:only-of-type {\n",
              "        vertical-align: middle;\n",
              "    }\n",
              "\n",
              "    .dataframe tbody tr th {\n",
              "        vertical-align: top;\n",
              "    }\n",
              "\n",
              "    .dataframe thead th {\n",
              "        text-align: right;\n",
              "    }\n",
              "</style>\n",
              "<table border=\"1\" class=\"dataframe\">\n",
              "  <thead>\n",
              "    <tr style=\"text-align: right;\">\n",
              "      <th></th>\n",
              "      <th>ds</th>\n",
              "      <th>y</th>\n",
              "    </tr>\n",
              "  </thead>\n",
              "  <tbody>\n",
              "    <tr>\n",
              "      <th>0</th>\n",
              "      <td>2021-01-04</td>\n",
              "      <td>44703.00</td>\n",
              "    </tr>\n",
              "    <tr>\n",
              "      <th>1</th>\n",
              "      <td>2021-01-05</td>\n",
              "      <td>44908.12</td>\n",
              "    </tr>\n",
              "    <tr>\n",
              "      <th>2</th>\n",
              "      <td>2021-01-06</td>\n",
              "      <td>45587.16</td>\n",
              "    </tr>\n",
              "    <tr>\n",
              "      <th>3</th>\n",
              "      <td>2021-01-07</td>\n",
              "      <td>46188.66</td>\n",
              "    </tr>\n",
              "    <tr>\n",
              "      <th>4</th>\n",
              "      <td>2021-01-08</td>\n",
              "      <td>46729.30</td>\n",
              "    </tr>\n",
              "  </tbody>\n",
              "</table>\n",
              "</div>"
            ],
            "text/plain": [
              "          ds         y\n",
              "0 2021-01-04  44703.00\n",
              "1 2021-01-05  44908.12\n",
              "2 2021-01-06  45587.16\n",
              "3 2021-01-07  46188.66\n",
              "4 2021-01-08  46729.30"
            ]
          },
          "metadata": {},
          "execution_count": 27
        }
      ]
    },
    {
      "cell_type": "markdown",
      "metadata": {
        "id": "gAk5UvhA1FMw"
      },
      "source": [
        "## Create and Fit Model"
      ]
    },
    {
      "cell_type": "code",
      "metadata": {
        "id": "B-YRR9FI1FMw",
        "colab": {
          "base_uri": "https://localhost:8080/"
        },
        "outputId": "7f2ec0b2-af61-471f-d077-a7dad6e91708"
      },
      "source": [
        "m = Prophet()\n",
        "m.fit(df_comp)"
      ],
      "execution_count": 28,
      "outputs": [
        {
          "output_type": "stream",
          "name": "stderr",
          "text": [
            "INFO:fbprophet:Disabling yearly seasonality. Run prophet with yearly_seasonality=True to override this.\n",
            "INFO:fbprophet:Disabling daily seasonality. Run prophet with daily_seasonality=True to override this.\n"
          ]
        },
        {
          "output_type": "execute_result",
          "data": {
            "text/plain": [
              "<fbprophet.forecaster.Prophet at 0x7f19b4575f10>"
            ]
          },
          "metadata": {},
          "execution_count": 28
        }
      ]
    },
    {
      "cell_type": "markdown",
      "metadata": {
        "id": "5-UgbZkP1FM0"
      },
      "source": [
        "## Pronósticos del futuro\n",
        "\n",
        "### Paso 1: Crear el dataframe donde colocaremos los resultados\n",
        "\n"
      ]
    },
    {
      "cell_type": "code",
      "metadata": {
        "id": "cQ2X2Fo91FM1"
      },
      "source": [
        "future = m.make_future_dataframe(periods=5, include_history= True)"
      ],
      "execution_count": 30,
      "outputs": []
    },
    {
      "cell_type": "code",
      "metadata": {
        "id": "AgoECzEP3-iA",
        "colab": {
          "base_uri": "https://localhost:8080/",
          "height": 206
        },
        "outputId": "3db58d79-0c3f-4277-db15-e5ddec5a0821"
      },
      "source": [
        "future.head()"
      ],
      "execution_count": 32,
      "outputs": [
        {
          "output_type": "execute_result",
          "data": {
            "text/html": [
              "<div>\n",
              "<style scoped>\n",
              "    .dataframe tbody tr th:only-of-type {\n",
              "        vertical-align: middle;\n",
              "    }\n",
              "\n",
              "    .dataframe tbody tr th {\n",
              "        vertical-align: top;\n",
              "    }\n",
              "\n",
              "    .dataframe thead th {\n",
              "        text-align: right;\n",
              "    }\n",
              "</style>\n",
              "<table border=\"1\" class=\"dataframe\">\n",
              "  <thead>\n",
              "    <tr style=\"text-align: right;\">\n",
              "      <th></th>\n",
              "      <th>ds</th>\n",
              "    </tr>\n",
              "  </thead>\n",
              "  <tbody>\n",
              "    <tr>\n",
              "      <th>0</th>\n",
              "      <td>2021-01-04</td>\n",
              "    </tr>\n",
              "    <tr>\n",
              "      <th>1</th>\n",
              "      <td>2021-01-05</td>\n",
              "    </tr>\n",
              "    <tr>\n",
              "      <th>2</th>\n",
              "      <td>2021-01-06</td>\n",
              "    </tr>\n",
              "    <tr>\n",
              "      <th>3</th>\n",
              "      <td>2021-01-07</td>\n",
              "    </tr>\n",
              "    <tr>\n",
              "      <th>4</th>\n",
              "      <td>2021-01-08</td>\n",
              "    </tr>\n",
              "  </tbody>\n",
              "</table>\n",
              "</div>"
            ],
            "text/plain": [
              "          ds\n",
              "0 2021-01-04\n",
              "1 2021-01-05\n",
              "2 2021-01-06\n",
              "3 2021-01-07\n",
              "4 2021-01-08"
            ]
          },
          "metadata": {},
          "execution_count": 32
        }
      ]
    },
    {
      "cell_type": "code",
      "metadata": {
        "id": "M40U8B0D4IIZ",
        "colab": {
          "base_uri": "https://localhost:8080/",
          "height": 206
        },
        "outputId": "cffa7303-e470-4fc4-d00e-f9bf7a350846"
      },
      "source": [
        "df_comp.head()"
      ],
      "execution_count": 33,
      "outputs": [
        {
          "output_type": "execute_result",
          "data": {
            "text/html": [
              "<div>\n",
              "<style scoped>\n",
              "    .dataframe tbody tr th:only-of-type {\n",
              "        vertical-align: middle;\n",
              "    }\n",
              "\n",
              "    .dataframe tbody tr th {\n",
              "        vertical-align: top;\n",
              "    }\n",
              "\n",
              "    .dataframe thead th {\n",
              "        text-align: right;\n",
              "    }\n",
              "</style>\n",
              "<table border=\"1\" class=\"dataframe\">\n",
              "  <thead>\n",
              "    <tr style=\"text-align: right;\">\n",
              "      <th></th>\n",
              "      <th>ds</th>\n",
              "      <th>y</th>\n",
              "    </tr>\n",
              "  </thead>\n",
              "  <tbody>\n",
              "    <tr>\n",
              "      <th>0</th>\n",
              "      <td>2021-01-04</td>\n",
              "      <td>44703.00</td>\n",
              "    </tr>\n",
              "    <tr>\n",
              "      <th>1</th>\n",
              "      <td>2021-01-05</td>\n",
              "      <td>44908.12</td>\n",
              "    </tr>\n",
              "    <tr>\n",
              "      <th>2</th>\n",
              "      <td>2021-01-06</td>\n",
              "      <td>45587.16</td>\n",
              "    </tr>\n",
              "    <tr>\n",
              "      <th>3</th>\n",
              "      <td>2021-01-07</td>\n",
              "      <td>46188.66</td>\n",
              "    </tr>\n",
              "    <tr>\n",
              "      <th>4</th>\n",
              "      <td>2021-01-08</td>\n",
              "      <td>46729.30</td>\n",
              "    </tr>\n",
              "  </tbody>\n",
              "</table>\n",
              "</div>"
            ],
            "text/plain": [
              "          ds         y\n",
              "0 2021-01-04  44703.00\n",
              "1 2021-01-05  44908.12\n",
              "2 2021-01-06  45587.16\n",
              "3 2021-01-07  46188.66\n",
              "4 2021-01-08  46729.30"
            ]
          },
          "metadata": {},
          "execution_count": 33
        }
      ]
    },
    {
      "cell_type": "code",
      "metadata": {
        "id": "PeyZ_a-m1FM4",
        "colab": {
          "base_uri": "https://localhost:8080/",
          "height": 206
        },
        "outputId": "f404302c-adad-4141-b479-ee7f72820246"
      },
      "source": [
        "df_comp.tail()"
      ],
      "execution_count": 34,
      "outputs": [
        {
          "output_type": "execute_result",
          "data": {
            "text/html": [
              "<div>\n",
              "<style scoped>\n",
              "    .dataframe tbody tr th:only-of-type {\n",
              "        vertical-align: middle;\n",
              "    }\n",
              "\n",
              "    .dataframe tbody tr th {\n",
              "        vertical-align: top;\n",
              "    }\n",
              "\n",
              "    .dataframe thead th {\n",
              "        text-align: right;\n",
              "    }\n",
              "</style>\n",
              "<table border=\"1\" class=\"dataframe\">\n",
              "  <thead>\n",
              "    <tr style=\"text-align: right;\">\n",
              "      <th></th>\n",
              "      <th>ds</th>\n",
              "      <th>y</th>\n",
              "    </tr>\n",
              "  </thead>\n",
              "  <tbody>\n",
              "    <tr>\n",
              "      <th>200</th>\n",
              "      <td>2021-10-18</td>\n",
              "      <td>52686.03</td>\n",
              "    </tr>\n",
              "    <tr>\n",
              "      <th>201</th>\n",
              "      <td>2021-10-19</td>\n",
              "      <td>52402.73</td>\n",
              "    </tr>\n",
              "    <tr>\n",
              "      <th>202</th>\n",
              "      <td>2021-10-20</td>\n",
              "      <td>52298.20</td>\n",
              "    </tr>\n",
              "    <tr>\n",
              "      <th>203</th>\n",
              "      <td>2021-10-21</td>\n",
              "      <td>52020.05</td>\n",
              "    </tr>\n",
              "    <tr>\n",
              "      <th>204</th>\n",
              "      <td>2021-10-22</td>\n",
              "      <td>51889.66</td>\n",
              "    </tr>\n",
              "  </tbody>\n",
              "</table>\n",
              "</div>"
            ],
            "text/plain": [
              "            ds         y\n",
              "200 2021-10-18  52686.03\n",
              "201 2021-10-19  52402.73\n",
              "202 2021-10-20  52298.20\n",
              "203 2021-10-21  52020.05\n",
              "204 2021-10-22  51889.66"
            ]
          },
          "metadata": {},
          "execution_count": 34
        }
      ]
    },
    {
      "cell_type": "code",
      "metadata": {
        "id": "vrmoh0dy1FM6",
        "colab": {
          "base_uri": "https://localhost:8080/",
          "height": 206
        },
        "outputId": "a7f0a6de-5899-4041-ae6b-366972f671c3"
      },
      "source": [
        "future.tail()"
      ],
      "execution_count": 35,
      "outputs": [
        {
          "output_type": "execute_result",
          "data": {
            "text/html": [
              "<div>\n",
              "<style scoped>\n",
              "    .dataframe tbody tr th:only-of-type {\n",
              "        vertical-align: middle;\n",
              "    }\n",
              "\n",
              "    .dataframe tbody tr th {\n",
              "        vertical-align: top;\n",
              "    }\n",
              "\n",
              "    .dataframe thead th {\n",
              "        text-align: right;\n",
              "    }\n",
              "</style>\n",
              "<table border=\"1\" class=\"dataframe\">\n",
              "  <thead>\n",
              "    <tr style=\"text-align: right;\">\n",
              "      <th></th>\n",
              "      <th>ds</th>\n",
              "    </tr>\n",
              "  </thead>\n",
              "  <tbody>\n",
              "    <tr>\n",
              "      <th>205</th>\n",
              "      <td>2021-10-23</td>\n",
              "    </tr>\n",
              "    <tr>\n",
              "      <th>206</th>\n",
              "      <td>2021-10-24</td>\n",
              "    </tr>\n",
              "    <tr>\n",
              "      <th>207</th>\n",
              "      <td>2021-10-25</td>\n",
              "    </tr>\n",
              "    <tr>\n",
              "      <th>208</th>\n",
              "      <td>2021-10-26</td>\n",
              "    </tr>\n",
              "    <tr>\n",
              "      <th>209</th>\n",
              "      <td>2021-10-27</td>\n",
              "    </tr>\n",
              "  </tbody>\n",
              "</table>\n",
              "</div>"
            ],
            "text/plain": [
              "            ds\n",
              "205 2021-10-23\n",
              "206 2021-10-24\n",
              "207 2021-10-25\n",
              "208 2021-10-26\n",
              "209 2021-10-27"
            ]
          },
          "metadata": {},
          "execution_count": 35
        }
      ]
    },
    {
      "cell_type": "markdown",
      "metadata": {
        "id": "tze9cMuB1FNC"
      },
      "source": [
        "\n",
        "### Paso 2: Calcular los pronósticos y guardarlos en forecast"
      ]
    },
    {
      "cell_type": "code",
      "metadata": {
        "id": "K2cM8BPa1FNC"
      },
      "source": [
        "forecast = m.predict(future)"
      ],
      "execution_count": 36,
      "outputs": []
    },
    {
      "cell_type": "code",
      "metadata": {
        "id": "pPuB7ulY1FNF",
        "colab": {
          "base_uri": "https://localhost:8080/",
          "height": 313
        },
        "outputId": "53bca1e2-0a51-419e-b91e-2800840af844"
      },
      "source": [
        "forecast.head()"
      ],
      "execution_count": 37,
      "outputs": [
        {
          "output_type": "execute_result",
          "data": {
            "text/html": [
              "<div>\n",
              "<style scoped>\n",
              "    .dataframe tbody tr th:only-of-type {\n",
              "        vertical-align: middle;\n",
              "    }\n",
              "\n",
              "    .dataframe tbody tr th {\n",
              "        vertical-align: top;\n",
              "    }\n",
              "\n",
              "    .dataframe thead th {\n",
              "        text-align: right;\n",
              "    }\n",
              "</style>\n",
              "<table border=\"1\" class=\"dataframe\">\n",
              "  <thead>\n",
              "    <tr style=\"text-align: right;\">\n",
              "      <th></th>\n",
              "      <th>ds</th>\n",
              "      <th>trend</th>\n",
              "      <th>yhat_lower</th>\n",
              "      <th>yhat_upper</th>\n",
              "      <th>trend_lower</th>\n",
              "      <th>trend_upper</th>\n",
              "      <th>additive_terms</th>\n",
              "      <th>additive_terms_lower</th>\n",
              "      <th>additive_terms_upper</th>\n",
              "      <th>weekly</th>\n",
              "      <th>weekly_lower</th>\n",
              "      <th>weekly_upper</th>\n",
              "      <th>multiplicative_terms</th>\n",
              "      <th>multiplicative_terms_lower</th>\n",
              "      <th>multiplicative_terms_upper</th>\n",
              "      <th>yhat</th>\n",
              "    </tr>\n",
              "  </thead>\n",
              "  <tbody>\n",
              "    <tr>\n",
              "      <th>0</th>\n",
              "      <td>2021-01-04</td>\n",
              "      <td>45686.557765</td>\n",
              "      <td>45223.044441</td>\n",
              "      <td>46625.556308</td>\n",
              "      <td>45686.557765</td>\n",
              "      <td>45686.557765</td>\n",
              "      <td>225.699340</td>\n",
              "      <td>225.699340</td>\n",
              "      <td>225.699340</td>\n",
              "      <td>225.699340</td>\n",
              "      <td>225.699340</td>\n",
              "      <td>225.699340</td>\n",
              "      <td>0.0</td>\n",
              "      <td>0.0</td>\n",
              "      <td>0.0</td>\n",
              "      <td>45912.257105</td>\n",
              "    </tr>\n",
              "    <tr>\n",
              "      <th>1</th>\n",
              "      <td>2021-01-05</td>\n",
              "      <td>45636.275911</td>\n",
              "      <td>45126.893512</td>\n",
              "      <td>46602.844719</td>\n",
              "      <td>45636.275911</td>\n",
              "      <td>45636.275911</td>\n",
              "      <td>226.886005</td>\n",
              "      <td>226.886005</td>\n",
              "      <td>226.886005</td>\n",
              "      <td>226.886005</td>\n",
              "      <td>226.886005</td>\n",
              "      <td>226.886005</td>\n",
              "      <td>0.0</td>\n",
              "      <td>0.0</td>\n",
              "      <td>0.0</td>\n",
              "      <td>45863.161917</td>\n",
              "    </tr>\n",
              "    <tr>\n",
              "      <th>2</th>\n",
              "      <td>2021-01-06</td>\n",
              "      <td>45585.994058</td>\n",
              "      <td>45093.702026</td>\n",
              "      <td>46515.292530</td>\n",
              "      <td>45585.994058</td>\n",
              "      <td>45585.994058</td>\n",
              "      <td>206.324180</td>\n",
              "      <td>206.324180</td>\n",
              "      <td>206.324180</td>\n",
              "      <td>206.324180</td>\n",
              "      <td>206.324180</td>\n",
              "      <td>206.324180</td>\n",
              "      <td>0.0</td>\n",
              "      <td>0.0</td>\n",
              "      <td>0.0</td>\n",
              "      <td>45792.318238</td>\n",
              "    </tr>\n",
              "    <tr>\n",
              "      <th>3</th>\n",
              "      <td>2021-01-07</td>\n",
              "      <td>45535.712205</td>\n",
              "      <td>45067.108154</td>\n",
              "      <td>46419.039441</td>\n",
              "      <td>45535.712205</td>\n",
              "      <td>45535.712205</td>\n",
              "      <td>217.267533</td>\n",
              "      <td>217.267533</td>\n",
              "      <td>217.267533</td>\n",
              "      <td>217.267533</td>\n",
              "      <td>217.267533</td>\n",
              "      <td>217.267533</td>\n",
              "      <td>0.0</td>\n",
              "      <td>0.0</td>\n",
              "      <td>0.0</td>\n",
              "      <td>45752.979738</td>\n",
              "    </tr>\n",
              "    <tr>\n",
              "      <th>4</th>\n",
              "      <td>2021-01-08</td>\n",
              "      <td>45485.430352</td>\n",
              "      <td>44973.570087</td>\n",
              "      <td>46400.602073</td>\n",
              "      <td>45485.430352</td>\n",
              "      <td>45485.430352</td>\n",
              "      <td>191.779980</td>\n",
              "      <td>191.779980</td>\n",
              "      <td>191.779980</td>\n",
              "      <td>191.779980</td>\n",
              "      <td>191.779980</td>\n",
              "      <td>191.779980</td>\n",
              "      <td>0.0</td>\n",
              "      <td>0.0</td>\n",
              "      <td>0.0</td>\n",
              "      <td>45677.210332</td>\n",
              "    </tr>\n",
              "  </tbody>\n",
              "</table>\n",
              "</div>"
            ],
            "text/plain": [
              "          ds         trend  ...  multiplicative_terms_upper          yhat\n",
              "0 2021-01-04  45686.557765  ...                         0.0  45912.257105\n",
              "1 2021-01-05  45636.275911  ...                         0.0  45863.161917\n",
              "2 2021-01-06  45585.994058  ...                         0.0  45792.318238\n",
              "3 2021-01-07  45535.712205  ...                         0.0  45752.979738\n",
              "4 2021-01-08  45485.430352  ...                         0.0  45677.210332\n",
              "\n",
              "[5 rows x 16 columns]"
            ]
          },
          "metadata": {},
          "execution_count": 37
        }
      ]
    },
    {
      "cell_type": "code",
      "metadata": {
        "id": "MM2PI-fQ1FNI",
        "colab": {
          "base_uri": "https://localhost:8080/",
          "height": 313
        },
        "outputId": "3ce025b8-d610-4998-e9dc-88b511a0bf9b"
      },
      "source": [
        "forecast.tail()"
      ],
      "execution_count": 38,
      "outputs": [
        {
          "output_type": "execute_result",
          "data": {
            "text/html": [
              "<div>\n",
              "<style scoped>\n",
              "    .dataframe tbody tr th:only-of-type {\n",
              "        vertical-align: middle;\n",
              "    }\n",
              "\n",
              "    .dataframe tbody tr th {\n",
              "        vertical-align: top;\n",
              "    }\n",
              "\n",
              "    .dataframe thead th {\n",
              "        text-align: right;\n",
              "    }\n",
              "</style>\n",
              "<table border=\"1\" class=\"dataframe\">\n",
              "  <thead>\n",
              "    <tr style=\"text-align: right;\">\n",
              "      <th></th>\n",
              "      <th>ds</th>\n",
              "      <th>trend</th>\n",
              "      <th>yhat_lower</th>\n",
              "      <th>yhat_upper</th>\n",
              "      <th>trend_lower</th>\n",
              "      <th>trend_upper</th>\n",
              "      <th>additive_terms</th>\n",
              "      <th>additive_terms_lower</th>\n",
              "      <th>additive_terms_upper</th>\n",
              "      <th>weekly</th>\n",
              "      <th>weekly_lower</th>\n",
              "      <th>weekly_upper</th>\n",
              "      <th>multiplicative_terms</th>\n",
              "      <th>multiplicative_terms_lower</th>\n",
              "      <th>multiplicative_terms_upper</th>\n",
              "      <th>yhat</th>\n",
              "    </tr>\n",
              "  </thead>\n",
              "  <tbody>\n",
              "    <tr>\n",
              "      <th>205</th>\n",
              "      <td>2021-10-23</td>\n",
              "      <td>51412.478834</td>\n",
              "      <td>50180.848415</td>\n",
              "      <td>51524.376897</td>\n",
              "      <td>51412.478834</td>\n",
              "      <td>51412.478834</td>\n",
              "      <td>-533.978518</td>\n",
              "      <td>-533.978518</td>\n",
              "      <td>-533.978518</td>\n",
              "      <td>-533.978518</td>\n",
              "      <td>-533.978518</td>\n",
              "      <td>-533.978518</td>\n",
              "      <td>0.0</td>\n",
              "      <td>0.0</td>\n",
              "      <td>0.0</td>\n",
              "      <td>50878.500315</td>\n",
              "    </tr>\n",
              "    <tr>\n",
              "      <th>206</th>\n",
              "      <td>2021-10-24</td>\n",
              "      <td>51409.752989</td>\n",
              "      <td>50192.655497</td>\n",
              "      <td>51586.629117</td>\n",
              "      <td>51409.752989</td>\n",
              "      <td>51409.752989</td>\n",
              "      <td>-533.978520</td>\n",
              "      <td>-533.978520</td>\n",
              "      <td>-533.978520</td>\n",
              "      <td>-533.978520</td>\n",
              "      <td>-533.978520</td>\n",
              "      <td>-533.978520</td>\n",
              "      <td>0.0</td>\n",
              "      <td>0.0</td>\n",
              "      <td>0.0</td>\n",
              "      <td>50875.774469</td>\n",
              "    </tr>\n",
              "    <tr>\n",
              "      <th>207</th>\n",
              "      <td>2021-10-25</td>\n",
              "      <td>51407.027144</td>\n",
              "      <td>50956.967848</td>\n",
              "      <td>52376.269494</td>\n",
              "      <td>51405.525532</td>\n",
              "      <td>51409.153445</td>\n",
              "      <td>225.699340</td>\n",
              "      <td>225.699340</td>\n",
              "      <td>225.699340</td>\n",
              "      <td>225.699340</td>\n",
              "      <td>225.699340</td>\n",
              "      <td>225.699340</td>\n",
              "      <td>0.0</td>\n",
              "      <td>0.0</td>\n",
              "      <td>0.0</td>\n",
              "      <td>51632.726484</td>\n",
              "    </tr>\n",
              "    <tr>\n",
              "      <th>208</th>\n",
              "      <td>2021-10-26</td>\n",
              "      <td>51404.301299</td>\n",
              "      <td>50927.896069</td>\n",
              "      <td>52330.241309</td>\n",
              "      <td>51397.550499</td>\n",
              "      <td>51411.156230</td>\n",
              "      <td>226.886005</td>\n",
              "      <td>226.886005</td>\n",
              "      <td>226.886005</td>\n",
              "      <td>226.886005</td>\n",
              "      <td>226.886005</td>\n",
              "      <td>226.886005</td>\n",
              "      <td>0.0</td>\n",
              "      <td>0.0</td>\n",
              "      <td>0.0</td>\n",
              "      <td>51631.187304</td>\n",
              "    </tr>\n",
              "    <tr>\n",
              "      <th>209</th>\n",
              "      <td>2021-10-27</td>\n",
              "      <td>51401.575454</td>\n",
              "      <td>50954.762128</td>\n",
              "      <td>52328.194201</td>\n",
              "      <td>51388.065979</td>\n",
              "      <td>51415.544022</td>\n",
              "      <td>206.324180</td>\n",
              "      <td>206.324180</td>\n",
              "      <td>206.324180</td>\n",
              "      <td>206.324180</td>\n",
              "      <td>206.324180</td>\n",
              "      <td>206.324180</td>\n",
              "      <td>0.0</td>\n",
              "      <td>0.0</td>\n",
              "      <td>0.0</td>\n",
              "      <td>51607.899634</td>\n",
              "    </tr>\n",
              "  </tbody>\n",
              "</table>\n",
              "</div>"
            ],
            "text/plain": [
              "            ds         trend  ...  multiplicative_terms_upper          yhat\n",
              "205 2021-10-23  51412.478834  ...                         0.0  50878.500315\n",
              "206 2021-10-24  51409.752989  ...                         0.0  50875.774469\n",
              "207 2021-10-25  51407.027144  ...                         0.0  51632.726484\n",
              "208 2021-10-26  51404.301299  ...                         0.0  51631.187304\n",
              "209 2021-10-27  51401.575454  ...                         0.0  51607.899634\n",
              "\n",
              "[5 rows x 16 columns]"
            ]
          },
          "metadata": {},
          "execution_count": 38
        }
      ]
    },
    {
      "cell_type": "code",
      "metadata": {
        "id": "wH5OGNM31FNL",
        "colab": {
          "base_uri": "https://localhost:8080/"
        },
        "outputId": "b45fc30c-1f6d-4795-b514-d54477799cfd"
      },
      "source": [
        "forecast.columns"
      ],
      "execution_count": 39,
      "outputs": [
        {
          "output_type": "execute_result",
          "data": {
            "text/plain": [
              "Index(['ds', 'trend', 'yhat_lower', 'yhat_upper', 'trend_lower', 'trend_upper',\n",
              "       'additive_terms', 'additive_terms_lower', 'additive_terms_upper',\n",
              "       'weekly', 'weekly_lower', 'weekly_upper', 'multiplicative_terms',\n",
              "       'multiplicative_terms_lower', 'multiplicative_terms_upper', 'yhat'],\n",
              "      dtype='object')"
            ]
          },
          "metadata": {},
          "execution_count": 39
        }
      ]
    },
    {
      "cell_type": "code",
      "metadata": {
        "id": "N0QV8H_Z1FNN",
        "colab": {
          "base_uri": "https://localhost:8080/",
          "height": 426
        },
        "outputId": "027a2b58-a5f0-46ad-8414-a6407fa937b1"
      },
      "source": [
        "forecast[['ds', 'yhat', 'yhat_lower', 'yhat_upper']].tail(12)"
      ],
      "execution_count": 40,
      "outputs": [
        {
          "output_type": "execute_result",
          "data": {
            "text/html": [
              "<div>\n",
              "<style scoped>\n",
              "    .dataframe tbody tr th:only-of-type {\n",
              "        vertical-align: middle;\n",
              "    }\n",
              "\n",
              "    .dataframe tbody tr th {\n",
              "        vertical-align: top;\n",
              "    }\n",
              "\n",
              "    .dataframe thead th {\n",
              "        text-align: right;\n",
              "    }\n",
              "</style>\n",
              "<table border=\"1\" class=\"dataframe\">\n",
              "  <thead>\n",
              "    <tr style=\"text-align: right;\">\n",
              "      <th></th>\n",
              "      <th>ds</th>\n",
              "      <th>yhat</th>\n",
              "      <th>yhat_lower</th>\n",
              "      <th>yhat_upper</th>\n",
              "    </tr>\n",
              "  </thead>\n",
              "  <tbody>\n",
              "    <tr>\n",
              "      <th>198</th>\n",
              "      <td>2021-10-14</td>\n",
              "      <td>51654.278970</td>\n",
              "      <td>50968.240274</td>\n",
              "      <td>52396.478207</td>\n",
              "    </tr>\n",
              "    <tr>\n",
              "      <th>199</th>\n",
              "      <td>2021-10-15</td>\n",
              "      <td>51626.065572</td>\n",
              "      <td>50936.144191</td>\n",
              "      <td>52359.109371</td>\n",
              "    </tr>\n",
              "    <tr>\n",
              "      <th>200</th>\n",
              "      <td>2021-10-18</td>\n",
              "      <td>51651.807398</td>\n",
              "      <td>50961.634118</td>\n",
              "      <td>52325.077645</td>\n",
              "    </tr>\n",
              "    <tr>\n",
              "      <th>201</th>\n",
              "      <td>2021-10-19</td>\n",
              "      <td>51650.268218</td>\n",
              "      <td>50883.410536</td>\n",
              "      <td>52384.148269</td>\n",
              "    </tr>\n",
              "    <tr>\n",
              "      <th>202</th>\n",
              "      <td>2021-10-20</td>\n",
              "      <td>51626.980548</td>\n",
              "      <td>50936.108465</td>\n",
              "      <td>52315.128410</td>\n",
              "    </tr>\n",
              "    <tr>\n",
              "      <th>203</th>\n",
              "      <td>2021-10-21</td>\n",
              "      <td>51635.198056</td>\n",
              "      <td>50917.016886</td>\n",
              "      <td>52340.967493</td>\n",
              "    </tr>\n",
              "    <tr>\n",
              "      <th>204</th>\n",
              "      <td>2021-10-22</td>\n",
              "      <td>51606.984658</td>\n",
              "      <td>50915.283548</td>\n",
              "      <td>52353.763542</td>\n",
              "    </tr>\n",
              "    <tr>\n",
              "      <th>205</th>\n",
              "      <td>2021-10-23</td>\n",
              "      <td>50878.500315</td>\n",
              "      <td>50180.848415</td>\n",
              "      <td>51524.376897</td>\n",
              "    </tr>\n",
              "    <tr>\n",
              "      <th>206</th>\n",
              "      <td>2021-10-24</td>\n",
              "      <td>50875.774469</td>\n",
              "      <td>50192.655497</td>\n",
              "      <td>51586.629117</td>\n",
              "    </tr>\n",
              "    <tr>\n",
              "      <th>207</th>\n",
              "      <td>2021-10-25</td>\n",
              "      <td>51632.726484</td>\n",
              "      <td>50956.967848</td>\n",
              "      <td>52376.269494</td>\n",
              "    </tr>\n",
              "    <tr>\n",
              "      <th>208</th>\n",
              "      <td>2021-10-26</td>\n",
              "      <td>51631.187304</td>\n",
              "      <td>50927.896069</td>\n",
              "      <td>52330.241309</td>\n",
              "    </tr>\n",
              "    <tr>\n",
              "      <th>209</th>\n",
              "      <td>2021-10-27</td>\n",
              "      <td>51607.899634</td>\n",
              "      <td>50954.762128</td>\n",
              "      <td>52328.194201</td>\n",
              "    </tr>\n",
              "  </tbody>\n",
              "</table>\n",
              "</div>"
            ],
            "text/plain": [
              "            ds          yhat    yhat_lower    yhat_upper\n",
              "198 2021-10-14  51654.278970  50968.240274  52396.478207\n",
              "199 2021-10-15  51626.065572  50936.144191  52359.109371\n",
              "200 2021-10-18  51651.807398  50961.634118  52325.077645\n",
              "201 2021-10-19  51650.268218  50883.410536  52384.148269\n",
              "202 2021-10-20  51626.980548  50936.108465  52315.128410\n",
              "203 2021-10-21  51635.198056  50917.016886  52340.967493\n",
              "204 2021-10-22  51606.984658  50915.283548  52353.763542\n",
              "205 2021-10-23  50878.500315  50180.848415  51524.376897\n",
              "206 2021-10-24  50875.774469  50192.655497  51586.629117\n",
              "207 2021-10-25  51632.726484  50956.967848  52376.269494\n",
              "208 2021-10-26  51631.187304  50927.896069  52330.241309\n",
              "209 2021-10-27  51607.899634  50954.762128  52328.194201"
            ]
          },
          "metadata": {},
          "execution_count": 40
        }
      ]
    },
    {
      "cell_type": "markdown",
      "metadata": {
        "id": "fK2eLQ0i1FNQ"
      },
      "source": [
        "### Graficando los pronósticos\n"
      ]
    },
    {
      "cell_type": "code",
      "metadata": {
        "id": "ywuU_kom1FNQ",
        "colab": {
          "base_uri": "https://localhost:8080/",
          "height": 441
        },
        "outputId": "c5894fc9-a5bd-4cea-b944-01818ef67983"
      },
      "source": [
        "m.plot(forecast);"
      ],
      "execution_count": 41,
      "outputs": [
        {
          "output_type": "display_data",
          "data": {
            "image/png": "[encoded data removed]",
            "text/plain": [
              "<Figure size 720x432 with 1 Axes>"
            ]
          },
          "metadata": {}
        }
      ]
    },
    {
      "cell_type": "code",
      "metadata": {
        "id": "xCBVhXBS6iCH"
      },
      "source": [
        "pd.plotting.register_matplotlib_converters()"
      ],
      "execution_count": 42,
      "outputs": []
    },
    {
      "cell_type": "code",
      "metadata": {
        "id": "Eh-uZ1wB1FNT",
        "colab": {
          "base_uri": "https://localhost:8080/",
          "height": 458
        },
        "outputId": "2e878285-332f-47f1-9cd0-48151f51f5ac"
      },
      "source": [
        "import matplotlib.pyplot as plt\n",
        "m.plot(forecast)\n",
        "plt.xlim('2021-01-04','2021-10-27')"
      ],
      "execution_count": 46,
      "outputs": [
        {
          "output_type": "execute_result",
          "data": {
            "text/plain": [
              "(737794.0, 738090.0)"
            ]
          },
          "metadata": {},
          "execution_count": 46
        },
        {
          "output_type": "display_data",
          "data": {
            "image/png": "[encoded data removed]",
            "text/plain": [
              "<Figure size 720x432 with 1 Axes>"
            ]
          },
          "metadata": {}
        }
      ]
    },
    {
      "cell_type": "code",
      "metadata": {
        "id": "8RxOsFGY1FNV",
        "colab": {
          "base_uri": "https://localhost:8080/",
          "height": 294
        },
        "outputId": "4ea29d3f-fed0-4242-f496-ee0b923e9fa6"
      },
      "source": [
        "forecast.plot(x='ds',y='yhat')"
      ],
      "execution_count": 47,
      "outputs": [
        {
          "output_type": "execute_result",
          "data": {
            "text/plain": [
              "<matplotlib.axes._subplots.AxesSubplot at 0x7f19b4240210>"
            ]
          },
          "metadata": {},
          "execution_count": 47
        },
        {
          "output_type": "display_data",
          "data": {
            "image/png": "[encoded data removed]",
            "text/plain": [
              "<Figure size 432x288 with 1 Axes>"
            ]
          },
          "metadata": {
            "needs_background": "light"
          }
        }
      ]
    },
    {
      "cell_type": "code",
      "metadata": {
        "id": "6ZSzrAyt1FNX",
        "colab": {
          "base_uri": "https://localhost:8080/",
          "height": 441
        },
        "outputId": "c82fc5d9-751a-44e4-85ad-f9817e6ee51b"
      },
      "source": [
        "m.plot_components(forecast);\n"
      ],
      "execution_count": 48,
      "outputs": [
        {
          "output_type": "display_data",
          "data": {
            "image/png": "[encoded data removed]",
            "text/plain": [
              "<Figure size 648x432 with 2 Axes>"
            ]
          },
          "metadata": {}
        }
      ]
    }
  ]
}