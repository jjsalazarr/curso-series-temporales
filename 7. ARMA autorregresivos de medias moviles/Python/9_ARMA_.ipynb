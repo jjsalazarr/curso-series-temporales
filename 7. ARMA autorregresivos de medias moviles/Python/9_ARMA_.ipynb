{
  "nbformat": 4,
  "nbformat_minor": 0,
  "metadata": {
    "kernelspec": {
      "display_name": "Python 3",
      "language": "python",
      "name": "python3"
    },
    "language_info": {
      "codemirror_mode": {
        "name": "ipython",
        "version": 3
      },
      "file_extension": ".py",
      "mimetype": "text/x-python",
      "name": "python",
      "nbconvert_exporter": "python",
      "pygments_lexer": "ipython3",
      "version": "3.6.7"
    },
    "colab": {
      "name": "9_ARMA .ipynb",
      "provenance": []
    }
  },
  "cells": [
    {
      "cell_type": "markdown",
      "metadata": {
        "id": "iP7zmfjO7rUA"
      },
      "source": [
        "## Importing the relevant packages"
      ]
    },
    {
      "cell_type": "code",
      "metadata": {
        "id": "7q1J9DDg7rUB"
      },
      "source": [
        "import pandas as pd\n",
        "import numpy as np\n",
        "import matplotlib.pyplot as plt\n",
        "import statsmodels.graphics.tsaplots as sgt\n",
        "import statsmodels.tsa.stattools as sts\n",
        "from statsmodels.tsa.arima_model import ARMA\n",
        "from scipy.stats.distributions import chi2 \n",
        "import seaborn as sns\n",
        "sns.set()"
      ],
      "execution_count": null,
      "outputs": []
    },
    {
      "cell_type": "markdown",
      "metadata": {
        "id": "zf9H9nKL7rUE"
      },
      "source": [
        "## Importing the Data and Pre-processing "
      ]
    },
    {
      "cell_type": "code",
      "metadata": {
        "id": "jIQePDWc7rUF"
      },
      "source": [
        "raw_csv_data = pd.read_csv(\"/content/drive/MyDrive/Index2018.csv\")\n",
        "df_comp=raw_csv_data.copy()\n",
        "df_comp.date = pd.to_datetime(df_comp.date, dayfirst = True)\n",
        "df_comp.set_index(\"date\", inplace=True)\n",
        "df_comp=df_comp.asfreq('b')\n",
        "df_comp=df_comp.fillna(method='ffill')"
      ],
      "execution_count": null,
      "outputs": []
    },
    {
      "cell_type": "code",
      "source": [
        "from google.colab import drive\n",
        "drive.mount('/content/drive')"
      ],
      "metadata": {
        "id": "ToeSifqIwUAH",
        "outputId": "b29c0d88-fb74-4efd-e431-bc5a6afb975b",
        "colab": {
          "base_uri": "https://localhost:8080/"
        }
      },
      "execution_count": null,
      "outputs": [
        {
          "output_type": "stream",
          "name": "stdout",
          "text": [
            "Drive already mounted at /content/drive; to attempt to forcibly remount, call drive.mount(\"/content/drive\", force_remount=True).\n"
          ]
        }
      ]
    },
    {
      "cell_type": "code",
      "metadata": {
        "id": "lDHBuFhZ7rUI"
      },
      "source": [
        "df_comp['market_value']=df_comp.ftse"
      ],
      "execution_count": null,
      "outputs": []
    },
    {
      "cell_type": "code",
      "metadata": {
        "id": "0pMh6mFJ7rUL"
      },
      "source": [
        "del df_comp['spx']\n",
        "del df_comp['dax']\n",
        "del df_comp['ftse']\n",
        "del df_comp['nikkei']\n",
        "size = int(len(df_comp)*0.8)\n",
        "df, df_test = df_comp.iloc[:size], df_comp.iloc[size:]"
      ],
      "execution_count": null,
      "outputs": []
    },
    {
      "cell_type": "code",
      "metadata": {
        "id": "JGaU4UAk7rUN"
      },
      "source": [
        "import warnings\n",
        "warnings.filterwarnings(\"ignore\")"
      ],
      "execution_count": null,
      "outputs": []
    },
    {
      "cell_type": "markdown",
      "metadata": {
        "id": "W6_wEjGH7rUQ"
      },
      "source": [
        "## The LLR Test"
      ]
    },
    {
      "cell_type": "code",
      "metadata": {
        "id": "gG6DHTDk7rUQ"
      },
      "source": [
        "def LLR_test(mod_1, mod_2, DF = 1):\n",
        "    L1 = mod_1.llf\n",
        "    L2 = mod_2.llf\n",
        "    LR = (2*(L2-L1))    \n",
        "    p = chi2.sf(LR, DF).round(3)\n",
        "    return p"
      ],
      "execution_count": null,
      "outputs": []
    },
    {
      "cell_type": "markdown",
      "source": [
        "## The DF Test"
      ],
      "metadata": {
        "id": "-pCHUc2n86Xz"
      }
    },
    {
      "cell_type": "code",
      "source": [
        "sts.adfuller(df.market_value)"
      ],
      "metadata": {
        "colab": {
          "base_uri": "https://localhost:8080/"
        },
        "id": "-7aFntI59eWE",
        "outputId": "1b9680bd-2037-4bd4-b7fd-18c7c0938f97"
      },
      "execution_count": null,
      "outputs": [
        {
          "output_type": "execute_result",
          "data": {
            "text/plain": [
              "(-1.9041551418836857,\n",
              " 0.3301089327702835,\n",
              " 6,\n",
              " 5014,\n",
              " {'1%': -3.4316548765428174,\n",
              "  '10%': -2.5670769326348926,\n",
              "  '5%': -2.8621166146845334},\n",
              " 54854.15304507557)"
            ]
          },
          "metadata": {},
          "execution_count": 26
        }
      ]
    },
    {
      "cell_type": "markdown",
      "metadata": {
        "id": "oDoi-j8T7rUT"
      },
      "source": [
        "## Creating Returns"
      ]
    },
    {
      "cell_type": "code",
      "metadata": {
        "scrolled": true,
        "id": "NaOskq9D7rUU"
      },
      "source": [
        "df['returns'] = df.market_value.pct_change(1)*100"
      ],
      "execution_count": null,
      "outputs": []
    },
    {
      "cell_type": "code",
      "metadata": {
        "id": "cAspgjtEsZdm",
        "colab": {
          "base_uri": "https://localhost:8080/",
          "height": 238
        },
        "outputId": "6abe2b2b-45f8-42dd-bbda-cc9459ad29ad"
      },
      "source": [
        "df.head()"
      ],
      "execution_count": null,
      "outputs": [
        {
          "output_type": "execute_result",
          "data": {
            "text/html": [
              "\n",
              "  <div id=\"df-3941c2b3-428c-4470-b2a6-ad98483d4c2f\">\n",
              "    <div class=\"colab-df-container\">\n",
              "      <div>\n",
              "<style scoped>\n",
              "    .dataframe tbody tr th:only-of-type {\n",
              "        vertical-align: middle;\n",
              "    }\n",
              "\n",
              "    .dataframe tbody tr th {\n",
              "        vertical-align: top;\n",
              "    }\n",
              "\n",
              "    .dataframe thead th {\n",
              "        text-align: right;\n",
              "    }\n",
              "</style>\n",
              "<table border=\"1\" class=\"dataframe\">\n",
              "  <thead>\n",
              "    <tr style=\"text-align: right;\">\n",
              "      <th></th>\n",
              "      <th>market_value</th>\n",
              "      <th>returns</th>\n",
              "    </tr>\n",
              "    <tr>\n",
              "      <th>date</th>\n",
              "      <th></th>\n",
              "      <th></th>\n",
              "    </tr>\n",
              "  </thead>\n",
              "  <tbody>\n",
              "    <tr>\n",
              "      <th>1994-01-07</th>\n",
              "      <td>3445.98</td>\n",
              "      <td>NaN</td>\n",
              "    </tr>\n",
              "    <tr>\n",
              "      <th>1994-01-10</th>\n",
              "      <td>3440.58</td>\n",
              "      <td>-0.156704</td>\n",
              "    </tr>\n",
              "    <tr>\n",
              "      <th>1994-01-11</th>\n",
              "      <td>3413.77</td>\n",
              "      <td>-0.779229</td>\n",
              "    </tr>\n",
              "    <tr>\n",
              "      <th>1994-01-12</th>\n",
              "      <td>3372.02</td>\n",
              "      <td>-1.222988</td>\n",
              "    </tr>\n",
              "    <tr>\n",
              "      <th>1994-01-13</th>\n",
              "      <td>3360.01</td>\n",
              "      <td>-0.356166</td>\n",
              "    </tr>\n",
              "  </tbody>\n",
              "</table>\n",
              "</div>\n",
              "      <button class=\"colab-df-convert\" onclick=\"convertToInteractive('df-3941c2b3-428c-4470-b2a6-ad98483d4c2f')\"\n",
              "              title=\"Convert this dataframe to an interactive table.\"\n",
              "              style=\"display:none;\">\n",
              "        \n",
              "  <svg xmlns=\"http://www.w3.org/2000/svg\" height=\"24px\"viewBox=\"0 0 24 24\"\n",
              "       width=\"24px\">\n",
              "    <path d=\"M0 0h24v24H0V0z\" fill=\"none\"/>\n",
              "    <path d=\"M18.56 5.44l.94 2.06.94-2.06 2.06-.94-2.06-.94-.94-2.06-.94 2.06-2.06.94zm-11 1L8.5 8.5l.94-2.06 2.06-.94-2.06-.94L8.5 2.5l-.94 2.06-2.06.94zm10 10l.94 2.06.94-2.06 2.06-.94-2.06-.94-.94-2.06-.94 2.06-2.06.94z\"/><path d=\"M17.41 7.96l-1.37-1.37c-.4-.4-.92-.59-1.43-.59-.52 0-1.04.2-1.43.59L10.3 9.45l-7.72 7.72c-.78.78-.78 2.05 0 2.83L4 21.41c.39.39.9.59 1.41.59.51 0 1.02-.2 1.41-.59l7.78-7.78 2.81-2.81c.8-.78.8-2.07 0-2.86zM5.41 20L4 18.59l7.72-7.72 1.47 1.35L5.41 20z\"/>\n",
              "  </svg>\n",
              "      </button>\n",
              "      \n",
              "  <style>\n",
              "    .colab-df-container {\n",
              "      display:flex;\n",
              "      flex-wrap:wrap;\n",
              "      gap: 12px;\n",
              "    }\n",
              "\n",
              "    .colab-df-convert {\n",
              "      background-color: #E8F0FE;\n",
              "      border: none;\n",
              "      border-radius: 50%;\n",
              "      cursor: pointer;\n",
              "      display: none;\n",
              "      fill: #1967D2;\n",
              "      height: 32px;\n",
              "      padding: 0 0 0 0;\n",
              "      width: 32px;\n",
              "    }\n",
              "\n",
              "    .colab-df-convert:hover {\n",
              "      background-color: #E2EBFA;\n",
              "      box-shadow: 0px 1px 2px rgba(60, 64, 67, 0.3), 0px 1px 3px 1px rgba(60, 64, 67, 0.15);\n",
              "      fill: #174EA6;\n",
              "    }\n",
              "\n",
              "    [theme=dark] .colab-df-convert {\n",
              "      background-color: #3B4455;\n",
              "      fill: #D2E3FC;\n",
              "    }\n",
              "\n",
              "    [theme=dark] .colab-df-convert:hover {\n",
              "      background-color: #434B5C;\n",
              "      box-shadow: 0px 1px 3px 1px rgba(0, 0, 0, 0.15);\n",
              "      filter: drop-shadow(0px 1px 2px rgba(0, 0, 0, 0.3));\n",
              "      fill: #FFFFFF;\n",
              "    }\n",
              "  </style>\n",
              "\n",
              "      <script>\n",
              "        const buttonEl =\n",
              "          document.querySelector('#df-3941c2b3-428c-4470-b2a6-ad98483d4c2f button.colab-df-convert');\n",
              "        buttonEl.style.display =\n",
              "          google.colab.kernel.accessAllowed ? 'block' : 'none';\n",
              "\n",
              "        async function convertToInteractive(key) {\n",
              "          const element = document.querySelector('#df-3941c2b3-428c-4470-b2a6-ad98483d4c2f');\n",
              "          const dataTable =\n",
              "            await google.colab.kernel.invokeFunction('convertToInteractive',\n",
              "                                                     [key], {});\n",
              "          if (!dataTable) return;\n",
              "\n",
              "          const docLinkHtml = 'Like what you see? Visit the ' +\n",
              "            '<a target=\"_blank\" href=https://colab.research.google.com/notebooks/data_table.ipynb>data table notebook</a>'\n",
              "            + ' to learn more about interactive tables.';\n",
              "          element.innerHTML = '';\n",
              "          dataTable['output_type'] = 'display_data';\n",
              "          await google.colab.output.renderOutput(dataTable, element);\n",
              "          const docLink = document.createElement('div');\n",
              "          docLink.innerHTML = docLinkHtml;\n",
              "          element.appendChild(docLink);\n",
              "        }\n",
              "      </script>\n",
              "    </div>\n",
              "  </div>\n",
              "  "
            ],
            "text/plain": [
              "            market_value   returns\n",
              "date                              \n",
              "1994-01-07       3445.98       NaN\n",
              "1994-01-10       3440.58 -0.156704\n",
              "1994-01-11       3413.77 -0.779229\n",
              "1994-01-12       3372.02 -1.222988\n",
              "1994-01-13       3360.01 -0.356166"
            ]
          },
          "metadata": {},
          "execution_count": 9
        }
      ]
    },
    {
      "cell_type": "code",
      "source": [
        "df=df.iloc[1:]\n",
        "sts.adfuller(df.returns)"
      ],
      "metadata": {
        "colab": {
          "base_uri": "https://localhost:8080/"
        },
        "id": "6TW9ksAmBJLT",
        "outputId": "0b4beed6-619a-4d26-b6b8-c7a42432ece9"
      },
      "execution_count": null,
      "outputs": [
        {
          "output_type": "execute_result",
          "data": {
            "text/plain": [
              "(-12.770265719497248,\n",
              " 7.798058336037938e-24,\n",
              " 32,\n",
              " 4987,\n",
              " {'1%': -3.431661944885779,\n",
              "  '10%': -2.5670785949998973,\n",
              "  '5%': -2.8621197374408225},\n",
              " 15696.7672456975)"
            ]
          },
          "metadata": {},
          "execution_count": 28
        }
      ]
    },
    {
      "cell_type": "markdown",
      "source": [
        "ACF y PACF for Returns"
      ],
      "metadata": {
        "id": "sGGQ9n2fEPbO"
      }
    },
    {
      "cell_type": "code",
      "source": [
        "sgt.plot_acf(df.returns[1:], zero = False, lags = 40)\n",
        "plt.title(\"ACF for Returns\",size=24)\n",
        "plt.show()"
      ],
      "metadata": {
        "id": "cX0saP5_xUJs",
        "colab": {
          "base_uri": "https://localhost:8080/",
          "height": 293
        },
        "outputId": "96e13df9-c21e-4cfa-84eb-8f50b82b1522"
      },
      "execution_count": null,
      "outputs": [
        {
          "output_type": "display_data",
          "data": {
            "image/png": "[encoded data removed]",
            "text/plain": [
              "<Figure size 432x288 with 1 Axes>"
            ]
          },
          "metadata": {}
        }
      ]
    },
    {
      "cell_type": "code",
      "source": [
        "sgt.plot_pacf(df.returns[1:], zero = False, lags = 40, method='ols')\n",
        "plt.title(\"PACF for Returns\",size=24)\n",
        "plt.show()"
      ],
      "metadata": {
        "id": "2KJXFulYxjwZ",
        "colab": {
          "base_uri": "https://localhost:8080/",
          "height": 293
        },
        "outputId": "28c46051-fbd3-45be-ea73-4eeaf9356ed7"
      },
      "execution_count": null,
      "outputs": [
        {
          "output_type": "display_data",
          "data": {
            "image/png": "[encoded data removed]",
            "text/plain": [
              "<Figure size 432x288 with 1 Axes>"
            ]
          },
          "metadata": {}
        }
      ]
    },
    {
      "cell_type": "markdown",
      "source": [
        "AR(1) for Returns"
      ],
      "metadata": {
        "id": "KEkMQ046EaI6"
      }
    },
    {
      "cell_type": "code",
      "source": [
        "model_ret_ar_1_ma_1 = ARMA(df.returns[1:], order=(1,0))\n",
        "results_ret_ar_1_ma_1 = model_ret_ar_1_ma_1.fit()\n",
        "results_ret_ar_1_ma_1.summary()"
      ],
      "metadata": {
        "id": "5zkHB8cTxuS_",
        "colab": {
          "base_uri": "https://localhost:8080/",
          "height": 314
        },
        "outputId": "adefaf7a-4ffd-4dab-e5ed-6358afb4bf2f"
      },
      "execution_count": null,
      "outputs": [
        {
          "output_type": "execute_result",
          "data": {
            "text/html": [
              "<table class=\"simpletable\">\n",
              "<caption>ARMA Model Results</caption>\n",
              "<tr>\n",
              "  <th>Dep. Variable:</th>      <td>returns</td>     <th>  No. Observations:  </th>   <td>5020</td>   \n",
              "</tr>\n",
              "<tr>\n",
              "  <th>Model:</th>            <td>ARMA(1, 0)</td>    <th>  Log Likelihood     </th> <td>-7929.749</td>\n",
              "</tr>\n",
              "<tr>\n",
              "  <th>Method:</th>             <td>css-mle</td>     <th>  S.D. of innovations</th>   <td>1.174</td>  \n",
              "</tr>\n",
              "<tr>\n",
              "  <th>Date:</th>          <td>Thu, 06 Jan 2022</td> <th>  AIC                </th> <td>15865.497</td>\n",
              "</tr>\n",
              "<tr>\n",
              "  <th>Time:</th>              <td>23:47:26</td>     <th>  BIC                </th> <td>15885.061</td>\n",
              "</tr>\n",
              "<tr>\n",
              "  <th>Sample:</th>           <td>01-10-1994</td>    <th>  HQIC               </th> <td>15872.353</td>\n",
              "</tr>\n",
              "<tr>\n",
              "  <th></th>                 <td>- 04-05-2013</td>   <th>                     </th>     <td> </td>    \n",
              "</tr>\n",
              "</table>\n",
              "<table class=\"simpletable\">\n",
              "<tr>\n",
              "        <td></td>           <th>coef</th>     <th>std err</th>      <th>z</th>      <th>P>|z|</th>  <th>[0.025</th>    <th>0.975]</th>  \n",
              "</tr>\n",
              "<tr>\n",
              "  <th>const</th>         <td>    0.0188</td> <td>    0.016</td> <td>    1.159</td> <td> 0.247</td> <td>   -0.013</td> <td>    0.051</td>\n",
              "</tr>\n",
              "<tr>\n",
              "  <th>ar.L1.returns</th> <td>   -0.0230</td> <td>    0.014</td> <td>   -1.631</td> <td> 0.103</td> <td>   -0.051</td> <td>    0.005</td>\n",
              "</tr>\n",
              "</table>\n",
              "<table class=\"simpletable\">\n",
              "<caption>Roots</caption>\n",
              "<tr>\n",
              "    <td></td>   <th>            Real</th>  <th>         Imaginary</th> <th>         Modulus</th>  <th>        Frequency</th>\n",
              "</tr>\n",
              "<tr>\n",
              "  <th>AR.1</th> <td>         -43.4386</td> <td>          +0.0000j</td> <td>          43.4386</td> <td>           0.5000</td>\n",
              "</tr>\n",
              "</table>"
            ],
            "text/plain": [
              "<class 'statsmodels.iolib.summary.Summary'>\n",
              "\"\"\"\n",
              "                              ARMA Model Results                              \n",
              "==============================================================================\n",
              "Dep. Variable:                returns   No. Observations:                 5020\n",
              "Model:                     ARMA(1, 0)   Log Likelihood               -7929.749\n",
              "Method:                       css-mle   S.D. of innovations              1.174\n",
              "Date:                Thu, 06 Jan 2022   AIC                          15865.497\n",
              "Time:                        23:47:26   BIC                          15885.061\n",
              "Sample:                    01-10-1994   HQIC                         15872.353\n",
              "                         - 04-05-2013                                         \n",
              "=================================================================================\n",
              "                    coef    std err          z      P>|z|      [0.025      0.975]\n",
              "---------------------------------------------------------------------------------\n",
              "const             0.0188      0.016      1.159      0.247      -0.013       0.051\n",
              "ar.L1.returns    -0.0230      0.014     -1.631      0.103      -0.051       0.005\n",
              "                                    Roots                                    \n",
              "=============================================================================\n",
              "                  Real          Imaginary           Modulus         Frequency\n",
              "-----------------------------------------------------------------------------\n",
              "AR.1          -43.4386           +0.0000j           43.4386            0.5000\n",
              "-----------------------------------------------------------------------------\n",
              "\"\"\""
            ]
          },
          "metadata": {},
          "execution_count": 39
        }
      ]
    },
    {
      "cell_type": "markdown",
      "source": [
        "Residuals for AR(1)"
      ],
      "metadata": {
        "id": "TBCHKHaPHEks"
      }
    },
    {
      "cell_type": "code",
      "source": [
        "df['res_ret_ar_1_ma_1'] = results_ret_ar_1_ma_1.resid[1:]\n",
        "\n",
        "df.res_ret_ar_1_ma_1.plot(figsize = (20,5))\n",
        "plt.title(\"Residuals of Returns AR(1)\", size=24)\n",
        "plt.show()"
      ],
      "metadata": {
        "id": "4crmH7CNHSaM",
        "outputId": "00f91ab5-ee1d-4206-9a25-94c80800c2de",
        "colab": {
          "base_uri": "https://localhost:8080/",
          "height": 296
        }
      },
      "execution_count": 50,
      "outputs": [
        {
          "output_type": "display_data",
          "data": {
            "image/png": "[encoded data removed]",
            "text/plain": [
              "<Figure size 1440x360 with 1 Axes>"
            ]
          },
          "metadata": {}
        }
      ]
    },
    {
      "cell_type": "markdown",
      "source": [
        "Higher-Lag AR Models for Returns"
      ],
      "metadata": {
        "id": "jkhZkGjWzs5b"
      }
    },
    {
      "cell_type": "code",
      "source": [
        "model_ret_ar_1_ma_2 = ARMA(df.returns[1:], order=(2,0))\n",
        "results_ret_ar_1_ma_2 = model_ret_ar_1_ma_2.fit()\n",
        "results_ret_ar_1_ma_2.summary()"
      ],
      "metadata": {
        "colab": {
          "base_uri": "https://localhost:8080/",
          "height": 357
        },
        "id": "MJi_RBwNy5Ng",
        "outputId": "1d4d4b94-1314-4842-c6f9-b584bedc1773"
      },
      "execution_count": null,
      "outputs": [
        {
          "output_type": "execute_result",
          "data": {
            "text/html": [
              "<table class=\"simpletable\">\n",
              "<caption>ARMA Model Results</caption>\n",
              "<tr>\n",
              "  <th>Dep. Variable:</th>      <td>returns</td>     <th>  No. Observations:  </th>   <td>5020</td>   \n",
              "</tr>\n",
              "<tr>\n",
              "  <th>Model:</th>            <td>ARMA(2, 0)</td>    <th>  Log Likelihood     </th> <td>-7923.456</td>\n",
              "</tr>\n",
              "<tr>\n",
              "  <th>Method:</th>             <td>css-mle</td>     <th>  S.D. of innovations</th>   <td>1.173</td>  \n",
              "</tr>\n",
              "<tr>\n",
              "  <th>Date:</th>          <td>Fri, 07 Jan 2022</td> <th>  AIC                </th> <td>15854.911</td>\n",
              "</tr>\n",
              "<tr>\n",
              "  <th>Time:</th>              <td>00:12:41</td>     <th>  BIC                </th> <td>15880.996</td>\n",
              "</tr>\n",
              "<tr>\n",
              "  <th>Sample:</th>           <td>01-10-1994</td>    <th>  HQIC               </th> <td>15864.052</td>\n",
              "</tr>\n",
              "<tr>\n",
              "  <th></th>                 <td>- 04-05-2013</td>   <th>                     </th>     <td> </td>    \n",
              "</tr>\n",
              "</table>\n",
              "<table class=\"simpletable\">\n",
              "<tr>\n",
              "        <td></td>           <th>coef</th>     <th>std err</th>      <th>z</th>      <th>P>|z|</th>  <th>[0.025</th>    <th>0.975]</th>  \n",
              "</tr>\n",
              "<tr>\n",
              "  <th>const</th>         <td>    0.0188</td> <td>    0.015</td> <td>    1.220</td> <td> 0.222</td> <td>   -0.011</td> <td>    0.049</td>\n",
              "</tr>\n",
              "<tr>\n",
              "  <th>ar.L1.returns</th> <td>   -0.0242</td> <td>    0.014</td> <td>   -1.716</td> <td> 0.086</td> <td>   -0.052</td> <td>    0.003</td>\n",
              "</tr>\n",
              "<tr>\n",
              "  <th>ar.L2.returns</th> <td>   -0.0500</td> <td>    0.014</td> <td>   -3.550</td> <td> 0.000</td> <td>   -0.078</td> <td>   -0.022</td>\n",
              "</tr>\n",
              "</table>\n",
              "<table class=\"simpletable\">\n",
              "<caption>Roots</caption>\n",
              "<tr>\n",
              "    <td></td>   <th>            Real</th>  <th>         Imaginary</th> <th>         Modulus</th>  <th>        Frequency</th>\n",
              "</tr>\n",
              "<tr>\n",
              "  <th>AR.1</th> <td>          -0.2417</td> <td>          -4.4635j</td> <td>           4.4701</td> <td>          -0.2586</td>\n",
              "</tr>\n",
              "<tr>\n",
              "  <th>AR.2</th> <td>          -0.2417</td> <td>          +4.4635j</td> <td>           4.4701</td> <td>           0.2586</td>\n",
              "</tr>\n",
              "</table>"
            ],
            "text/plain": [
              "<class 'statsmodels.iolib.summary.Summary'>\n",
              "\"\"\"\n",
              "                              ARMA Model Results                              \n",
              "==============================================================================\n",
              "Dep. Variable:                returns   No. Observations:                 5020\n",
              "Model:                     ARMA(2, 0)   Log Likelihood               -7923.456\n",
              "Method:                       css-mle   S.D. of innovations              1.173\n",
              "Date:                Fri, 07 Jan 2022   AIC                          15854.911\n",
              "Time:                        00:12:41   BIC                          15880.996\n",
              "Sample:                    01-10-1994   HQIC                         15864.052\n",
              "                         - 04-05-2013                                         \n",
              "=================================================================================\n",
              "                    coef    std err          z      P>|z|      [0.025      0.975]\n",
              "---------------------------------------------------------------------------------\n",
              "const             0.0188      0.015      1.220      0.222      -0.011       0.049\n",
              "ar.L1.returns    -0.0242      0.014     -1.716      0.086      -0.052       0.003\n",
              "ar.L2.returns    -0.0500      0.014     -3.550      0.000      -0.078      -0.022\n",
              "                                    Roots                                    \n",
              "=============================================================================\n",
              "                  Real          Imaginary           Modulus         Frequency\n",
              "-----------------------------------------------------------------------------\n",
              "AR.1           -0.2417           -4.4635j            4.4701           -0.2586\n",
              "AR.2           -0.2417           +4.4635j            4.4701            0.2586\n",
              "-----------------------------------------------------------------------------\n",
              "\"\"\""
            ]
          },
          "metadata": {},
          "execution_count": 40
        }
      ]
    },
    {
      "cell_type": "code",
      "source": [
        "model_ret_ar_1_ma_3 = ARMA(df.returns[1:], order=(3,0))\n",
        "results_ret_ar_1_ma_3 = model_ret_ar_1_ma_3.fit()\n",
        "results_ret_ar_1_ma_3.summary()"
      ],
      "metadata": {
        "colab": {
          "base_uri": "https://localhost:8080/",
          "height": 399
        },
        "id": "-6v3xpUYyMnE",
        "outputId": "5476bcc2-9976-4434-bf43-82d5767b499a"
      },
      "execution_count": null,
      "outputs": [
        {
          "output_type": "execute_result",
          "data": {
            "text/html": [
              "<table class=\"simpletable\">\n",
              "<caption>ARMA Model Results</caption>\n",
              "<tr>\n",
              "  <th>Dep. Variable:</th>      <td>returns</td>     <th>  No. Observations:  </th>   <td>5020</td>   \n",
              "</tr>\n",
              "<tr>\n",
              "  <th>Model:</th>            <td>ARMA(3, 0)</td>    <th>  Log Likelihood     </th> <td>-7906.738</td>\n",
              "</tr>\n",
              "<tr>\n",
              "  <th>Method:</th>             <td>css-mle</td>     <th>  S.D. of innovations</th>   <td>1.169</td>  \n",
              "</tr>\n",
              "<tr>\n",
              "  <th>Date:</th>          <td>Fri, 07 Jan 2022</td> <th>  AIC                </th> <td>15823.477</td>\n",
              "</tr>\n",
              "<tr>\n",
              "  <th>Time:</th>              <td>00:13:06</td>     <th>  BIC                </th> <td>15856.083</td>\n",
              "</tr>\n",
              "<tr>\n",
              "  <th>Sample:</th>           <td>01-10-1994</td>    <th>  HQIC               </th> <td>15834.902</td>\n",
              "</tr>\n",
              "<tr>\n",
              "  <th></th>                 <td>- 04-05-2013</td>   <th>                     </th>     <td> </td>    \n",
              "</tr>\n",
              "</table>\n",
              "<table class=\"simpletable\">\n",
              "<tr>\n",
              "        <td></td>           <th>coef</th>     <th>std err</th>      <th>z</th>      <th>P>|z|</th>  <th>[0.025</th>    <th>0.975]</th>  \n",
              "</tr>\n",
              "<tr>\n",
              "  <th>const</th>         <td>    0.0189</td> <td>    0.014</td> <td>    1.330</td> <td> 0.184</td> <td>   -0.009</td> <td>    0.047</td>\n",
              "</tr>\n",
              "<tr>\n",
              "  <th>ar.L1.returns</th> <td>   -0.0283</td> <td>    0.014</td> <td>   -2.011</td> <td> 0.044</td> <td>   -0.056</td> <td>   -0.001</td>\n",
              "</tr>\n",
              "<tr>\n",
              "  <th>ar.L2.returns</th> <td>   -0.0521</td> <td>    0.014</td> <td>   -3.705</td> <td> 0.000</td> <td>   -0.080</td> <td>   -0.025</td>\n",
              "</tr>\n",
              "<tr>\n",
              "  <th>ar.L3.returns</th> <td>   -0.0815</td> <td>    0.014</td> <td>   -5.792</td> <td> 0.000</td> <td>   -0.109</td> <td>   -0.054</td>\n",
              "</tr>\n",
              "</table>\n",
              "<table class=\"simpletable\">\n",
              "<caption>Roots</caption>\n",
              "<tr>\n",
              "    <td></td>   <th>            Real</th>  <th>         Imaginary</th> <th>         Modulus</th>  <th>        Frequency</th>\n",
              "</tr>\n",
              "<tr>\n",
              "  <th>AR.1</th> <td>           0.9233</td> <td>          -2.0210j</td> <td>           2.2219</td> <td>          -0.1818</td>\n",
              "</tr>\n",
              "<tr>\n",
              "  <th>AR.2</th> <td>           0.9233</td> <td>          +2.0210j</td> <td>           2.2219</td> <td>           0.1818</td>\n",
              "</tr>\n",
              "<tr>\n",
              "  <th>AR.3</th> <td>          -2.4855</td> <td>          -0.0000j</td> <td>           2.4855</td> <td>          -0.5000</td>\n",
              "</tr>\n",
              "</table>"
            ],
            "text/plain": [
              "<class 'statsmodels.iolib.summary.Summary'>\n",
              "\"\"\"\n",
              "                              ARMA Model Results                              \n",
              "==============================================================================\n",
              "Dep. Variable:                returns   No. Observations:                 5020\n",
              "Model:                     ARMA(3, 0)   Log Likelihood               -7906.738\n",
              "Method:                       css-mle   S.D. of innovations              1.169\n",
              "Date:                Fri, 07 Jan 2022   AIC                          15823.477\n",
              "Time:                        00:13:06   BIC                          15856.083\n",
              "Sample:                    01-10-1994   HQIC                         15834.902\n",
              "                         - 04-05-2013                                         \n",
              "=================================================================================\n",
              "                    coef    std err          z      P>|z|      [0.025      0.975]\n",
              "---------------------------------------------------------------------------------\n",
              "const             0.0189      0.014      1.330      0.184      -0.009       0.047\n",
              "ar.L1.returns    -0.0283      0.014     -2.011      0.044      -0.056      -0.001\n",
              "ar.L2.returns    -0.0521      0.014     -3.705      0.000      -0.080      -0.025\n",
              "ar.L3.returns    -0.0815      0.014     -5.792      0.000      -0.109      -0.054\n",
              "                                    Roots                                    \n",
              "=============================================================================\n",
              "                  Real          Imaginary           Modulus         Frequency\n",
              "-----------------------------------------------------------------------------\n",
              "AR.1            0.9233           -2.0210j            2.2219           -0.1818\n",
              "AR.2            0.9233           +2.0210j            2.2219            0.1818\n",
              "AR.3           -2.4855           -0.0000j            2.4855           -0.5000\n",
              "-----------------------------------------------------------------------------\n",
              "\"\"\""
            ]
          },
          "metadata": {},
          "execution_count": 41
        }
      ]
    },
    {
      "cell_type": "code",
      "source": [
        "model_ret_ar_1_ma_4 = ARMA(df.returns[1:], order=(4,0))\n",
        "results_ret_ar_1_ma_4 = model_ret_ar_1_ma_4.fit()\n",
        "results_ret_ar_1_ma_4.summary()"
      ],
      "metadata": {
        "colab": {
          "base_uri": "https://localhost:8080/",
          "height": 442
        },
        "id": "AcuHU0GYzHrs",
        "outputId": "50e1c191-2dc7-41ca-b86d-478f13510cec"
      },
      "execution_count": null,
      "outputs": [
        {
          "output_type": "execute_result",
          "data": {
            "text/html": [
              "<table class=\"simpletable\">\n",
              "<caption>ARMA Model Results</caption>\n",
              "<tr>\n",
              "  <th>Dep. Variable:</th>      <td>returns</td>     <th>  No. Observations:  </th>   <td>5020</td>   \n",
              "</tr>\n",
              "<tr>\n",
              "  <th>Model:</th>            <td>ARMA(4, 0)</td>    <th>  Log Likelihood     </th> <td>-7901.330</td>\n",
              "</tr>\n",
              "<tr>\n",
              "  <th>Method:</th>             <td>css-mle</td>     <th>  S.D. of innovations</th>   <td>1.168</td>  \n",
              "</tr>\n",
              "<tr>\n",
              "  <th>Date:</th>          <td>Fri, 07 Jan 2022</td> <th>  AIC                </th> <td>15814.661</td>\n",
              "</tr>\n",
              "<tr>\n",
              "  <th>Time:</th>              <td>00:13:47</td>     <th>  BIC                </th> <td>15853.788</td>\n",
              "</tr>\n",
              "<tr>\n",
              "  <th>Sample:</th>           <td>01-10-1994</td>    <th>  HQIC               </th> <td>15828.371</td>\n",
              "</tr>\n",
              "<tr>\n",
              "  <th></th>                 <td>- 04-05-2013</td>   <th>                     </th>     <td> </td>    \n",
              "</tr>\n",
              "</table>\n",
              "<table class=\"simpletable\">\n",
              "<tr>\n",
              "        <td></td>           <th>coef</th>     <th>std err</th>      <th>z</th>      <th>P>|z|</th>  <th>[0.025</th>    <th>0.975]</th>  \n",
              "</tr>\n",
              "<tr>\n",
              "  <th>const</th>         <td>    0.0188</td> <td>    0.015</td> <td>    1.267</td> <td> 0.205</td> <td>   -0.010</td> <td>    0.048</td>\n",
              "</tr>\n",
              "<tr>\n",
              "  <th>ar.L1.returns</th> <td>   -0.0245</td> <td>    0.014</td> <td>   -1.739</td> <td> 0.082</td> <td>   -0.052</td> <td>    0.003</td>\n",
              "</tr>\n",
              "<tr>\n",
              "  <th>ar.L2.returns</th> <td>   -0.0496</td> <td>    0.014</td> <td>   -3.531</td> <td> 0.000</td> <td>   -0.077</td> <td>   -0.022</td>\n",
              "</tr>\n",
              "<tr>\n",
              "  <th>ar.L3.returns</th> <td>   -0.0802</td> <td>    0.014</td> <td>   -5.701</td> <td> 0.000</td> <td>   -0.108</td> <td>   -0.053</td>\n",
              "</tr>\n",
              "<tr>\n",
              "  <th>ar.L4.returns</th> <td>    0.0464</td> <td>    0.014</td> <td>    3.291</td> <td> 0.001</td> <td>    0.019</td> <td>    0.074</td>\n",
              "</tr>\n",
              "</table>\n",
              "<table class=\"simpletable\">\n",
              "<caption>Roots</caption>\n",
              "<tr>\n",
              "    <td></td>   <th>            Real</th>  <th>         Imaginary</th> <th>         Modulus</th>  <th>        Frequency</th>\n",
              "</tr>\n",
              "<tr>\n",
              "  <th>AR.1</th> <td>          -1.8888</td> <td>          -0.0000j</td> <td>           1.8888</td> <td>          -0.5000</td>\n",
              "</tr>\n",
              "<tr>\n",
              "  <th>AR.2</th> <td>           0.3231</td> <td>          -1.9331j</td> <td>           1.9599</td> <td>          -0.2236</td>\n",
              "</tr>\n",
              "<tr>\n",
              "  <th>AR.3</th> <td>           0.3231</td> <td>          +1.9331j</td> <td>           1.9599</td> <td>           0.2236</td>\n",
              "</tr>\n",
              "<tr>\n",
              "  <th>AR.4</th> <td>           2.9701</td> <td>          -0.0000j</td> <td>           2.9701</td> <td>          -0.0000</td>\n",
              "</tr>\n",
              "</table>"
            ],
            "text/plain": [
              "<class 'statsmodels.iolib.summary.Summary'>\n",
              "\"\"\"\n",
              "                              ARMA Model Results                              \n",
              "==============================================================================\n",
              "Dep. Variable:                returns   No. Observations:                 5020\n",
              "Model:                     ARMA(4, 0)   Log Likelihood               -7901.330\n",
              "Method:                       css-mle   S.D. of innovations              1.168\n",
              "Date:                Fri, 07 Jan 2022   AIC                          15814.661\n",
              "Time:                        00:13:47   BIC                          15853.788\n",
              "Sample:                    01-10-1994   HQIC                         15828.371\n",
              "                         - 04-05-2013                                         \n",
              "=================================================================================\n",
              "                    coef    std err          z      P>|z|      [0.025      0.975]\n",
              "---------------------------------------------------------------------------------\n",
              "const             0.0188      0.015      1.267      0.205      -0.010       0.048\n",
              "ar.L1.returns    -0.0245      0.014     -1.739      0.082      -0.052       0.003\n",
              "ar.L2.returns    -0.0496      0.014     -3.531      0.000      -0.077      -0.022\n",
              "ar.L3.returns    -0.0802      0.014     -5.701      0.000      -0.108      -0.053\n",
              "ar.L4.returns     0.0464      0.014      3.291      0.001       0.019       0.074\n",
              "                                    Roots                                    \n",
              "=============================================================================\n",
              "                  Real          Imaginary           Modulus         Frequency\n",
              "-----------------------------------------------------------------------------\n",
              "AR.1           -1.8888           -0.0000j            1.8888           -0.5000\n",
              "AR.2            0.3231           -1.9331j            1.9599           -0.2236\n",
              "AR.3            0.3231           +1.9331j            1.9599            0.2236\n",
              "AR.4            2.9701           -0.0000j            2.9701           -0.0000\n",
              "-----------------------------------------------------------------------------\n",
              "\"\"\""
            ]
          },
          "metadata": {},
          "execution_count": 42
        }
      ]
    },
    {
      "cell_type": "code",
      "source": [
        "model_ret_ar_1_ma_5 = ARMA(df.returns[1:], order=(5,0))\n",
        "results_ret_ar_1_ma_5 = model_ret_ar_1_ma_5.fit()\n",
        "results_ret_ar_1_ma_5.summary()"
      ],
      "metadata": {
        "colab": {
          "base_uri": "https://localhost:8080/",
          "height": 485
        },
        "id": "Hjjqcd0SzPhp",
        "outputId": "82f28332-010e-40d5-f01f-a12ecd6cdaf4"
      },
      "execution_count": null,
      "outputs": [
        {
          "output_type": "execute_result",
          "data": {
            "text/html": [
              "<table class=\"simpletable\">\n",
              "<caption>ARMA Model Results</caption>\n",
              "<tr>\n",
              "  <th>Dep. Variable:</th>      <td>returns</td>     <th>  No. Observations:  </th>   <td>5020</td>   \n",
              "</tr>\n",
              "<tr>\n",
              "  <th>Model:</th>            <td>ARMA(5, 0)</td>    <th>  Log Likelihood     </th> <td>-7892.390</td>\n",
              "</tr>\n",
              "<tr>\n",
              "  <th>Method:</th>             <td>css-mle</td>     <th>  S.D. of innovations</th>   <td>1.166</td>  \n",
              "</tr>\n",
              "<tr>\n",
              "  <th>Date:</th>          <td>Fri, 07 Jan 2022</td> <th>  AIC                </th> <td>15798.779</td>\n",
              "</tr>\n",
              "<tr>\n",
              "  <th>Time:</th>              <td>00:14:12</td>     <th>  BIC                </th> <td>15844.428</td>\n",
              "</tr>\n",
              "<tr>\n",
              "  <th>Sample:</th>           <td>01-10-1994</td>    <th>  HQIC               </th> <td>15814.775</td>\n",
              "</tr>\n",
              "<tr>\n",
              "  <th></th>                 <td>- 04-05-2013</td>   <th>                     </th>     <td> </td>    \n",
              "</tr>\n",
              "</table>\n",
              "<table class=\"simpletable\">\n",
              "<tr>\n",
              "        <td></td>           <th>coef</th>     <th>std err</th>      <th>z</th>      <th>P>|z|</th>  <th>[0.025</th>    <th>0.975]</th>  \n",
              "</tr>\n",
              "<tr>\n",
              "  <th>const</th>         <td>    0.0189</td> <td>    0.014</td> <td>    1.348</td> <td> 0.178</td> <td>   -0.009</td> <td>    0.046</td>\n",
              "</tr>\n",
              "<tr>\n",
              "  <th>ar.L1.returns</th> <td>   -0.0217</td> <td>    0.014</td> <td>   -1.544</td> <td> 0.123</td> <td>   -0.049</td> <td>    0.006</td>\n",
              "</tr>\n",
              "<tr>\n",
              "  <th>ar.L2.returns</th> <td>   -0.0544</td> <td>    0.014</td> <td>   -3.865</td> <td> 0.000</td> <td>   -0.082</td> <td>   -0.027</td>\n",
              "</tr>\n",
              "<tr>\n",
              "  <th>ar.L3.returns</th> <td>   -0.0831</td> <td>    0.014</td> <td>   -5.914</td> <td> 0.000</td> <td>   -0.111</td> <td>   -0.056</td>\n",
              "</tr>\n",
              "<tr>\n",
              "  <th>ar.L4.returns</th> <td>    0.0449</td> <td>    0.014</td> <td>    3.190</td> <td> 0.001</td> <td>    0.017</td> <td>    0.073</td>\n",
              "</tr>\n",
              "<tr>\n",
              "  <th>ar.L5.returns</th> <td>   -0.0596</td> <td>    0.014</td> <td>   -4.232</td> <td> 0.000</td> <td>   -0.087</td> <td>   -0.032</td>\n",
              "</tr>\n",
              "</table>\n",
              "<table class=\"simpletable\">\n",
              "<caption>Roots</caption>\n",
              "<tr>\n",
              "    <td></td>   <th>            Real</th>  <th>         Imaginary</th> <th>         Modulus</th>  <th>        Frequency</th>\n",
              "</tr>\n",
              "<tr>\n",
              "  <th>AR.1</th> <td>          -1.5481</td> <td>          -0.0000j</td> <td>           1.5481</td> <td>          -0.5000</td>\n",
              "</tr>\n",
              "<tr>\n",
              "  <th>AR.2</th> <td>          -0.2860</td> <td>          -1.7252j</td> <td>           1.7487</td> <td>          -0.2761</td>\n",
              "</tr>\n",
              "<tr>\n",
              "  <th>AR.3</th> <td>          -0.2860</td> <td>          +1.7252j</td> <td>           1.7487</td> <td>           0.2761</td>\n",
              "</tr>\n",
              "<tr>\n",
              "  <th>AR.4</th> <td>           1.4366</td> <td>          -1.2157j</td> <td>           1.8819</td> <td>          -0.1118</td>\n",
              "</tr>\n",
              "<tr>\n",
              "  <th>AR.5</th> <td>           1.4366</td> <td>          +1.2157j</td> <td>           1.8819</td> <td>           0.1118</td>\n",
              "</tr>\n",
              "</table>"
            ],
            "text/plain": [
              "<class 'statsmodels.iolib.summary.Summary'>\n",
              "\"\"\"\n",
              "                              ARMA Model Results                              \n",
              "==============================================================================\n",
              "Dep. Variable:                returns   No. Observations:                 5020\n",
              "Model:                     ARMA(5, 0)   Log Likelihood               -7892.390\n",
              "Method:                       css-mle   S.D. of innovations              1.166\n",
              "Date:                Fri, 07 Jan 2022   AIC                          15798.779\n",
              "Time:                        00:14:12   BIC                          15844.428\n",
              "Sample:                    01-10-1994   HQIC                         15814.775\n",
              "                         - 04-05-2013                                         \n",
              "=================================================================================\n",
              "                    coef    std err          z      P>|z|      [0.025      0.975]\n",
              "---------------------------------------------------------------------------------\n",
              "const             0.0189      0.014      1.348      0.178      -0.009       0.046\n",
              "ar.L1.returns    -0.0217      0.014     -1.544      0.123      -0.049       0.006\n",
              "ar.L2.returns    -0.0544      0.014     -3.865      0.000      -0.082      -0.027\n",
              "ar.L3.returns    -0.0831      0.014     -5.914      0.000      -0.111      -0.056\n",
              "ar.L4.returns     0.0449      0.014      3.190      0.001       0.017       0.073\n",
              "ar.L5.returns    -0.0596      0.014     -4.232      0.000      -0.087      -0.032\n",
              "                                    Roots                                    \n",
              "=============================================================================\n",
              "                  Real          Imaginary           Modulus         Frequency\n",
              "-----------------------------------------------------------------------------\n",
              "AR.1           -1.5481           -0.0000j            1.5481           -0.5000\n",
              "AR.2           -0.2860           -1.7252j            1.7487           -0.2761\n",
              "AR.3           -0.2860           +1.7252j            1.7487            0.2761\n",
              "AR.4            1.4366           -1.2157j            1.8819           -0.1118\n",
              "AR.5            1.4366           +1.2157j            1.8819            0.1118\n",
              "-----------------------------------------------------------------------------\n",
              "\"\"\""
            ]
          },
          "metadata": {},
          "execution_count": 43
        }
      ]
    },
    {
      "cell_type": "code",
      "source": [
        "model_ret_ar_1_ma_6 = ARMA(df.returns[1:], order=(6,0))\n",
        "results_ret_ar_1_ma_6 = model_ret_ar_1_ma_6.fit()\n",
        "results_ret_ar_1_ma_6.summary()"
      ],
      "metadata": {
        "colab": {
          "base_uri": "https://localhost:8080/",
          "height": 528
        },
        "id": "znQ3i3VfzXTx",
        "outputId": "549f20eb-3e72-45bc-ae40-6641474347db"
      },
      "execution_count": null,
      "outputs": [
        {
          "output_type": "execute_result",
          "data": {
            "text/html": [
              "<table class=\"simpletable\">\n",
              "<caption>ARMA Model Results</caption>\n",
              "<tr>\n",
              "  <th>Dep. Variable:</th>      <td>returns</td>     <th>  No. Observations:  </th>   <td>5020</td>   \n",
              "</tr>\n",
              "<tr>\n",
              "  <th>Model:</th>            <td>ARMA(6, 0)</td>    <th>  Log Likelihood     </th> <td>-7886.945</td>\n",
              "</tr>\n",
              "<tr>\n",
              "  <th>Method:</th>             <td>css-mle</td>     <th>  S.D. of innovations</th>   <td>1.164</td>  \n",
              "</tr>\n",
              "<tr>\n",
              "  <th>Date:</th>          <td>Fri, 07 Jan 2022</td> <th>  AIC                </th> <td>15789.890</td>\n",
              "</tr>\n",
              "<tr>\n",
              "  <th>Time:</th>              <td>00:14:38</td>     <th>  BIC                </th> <td>15842.059</td>\n",
              "</tr>\n",
              "<tr>\n",
              "  <th>Sample:</th>           <td>01-10-1994</td>    <th>  HQIC               </th> <td>15808.170</td>\n",
              "</tr>\n",
              "<tr>\n",
              "  <th></th>                 <td>- 04-05-2013</td>   <th>                     </th>     <td> </td>    \n",
              "</tr>\n",
              "</table>\n",
              "<table class=\"simpletable\">\n",
              "<tr>\n",
              "        <td></td>           <th>coef</th>     <th>std err</th>      <th>z</th>      <th>P>|z|</th>  <th>[0.025</th>    <th>0.975]</th>  \n",
              "</tr>\n",
              "<tr>\n",
              "  <th>const</th>         <td>    0.0189</td> <td>    0.013</td> <td>    1.414</td> <td> 0.157</td> <td>   -0.007</td> <td>    0.045</td>\n",
              "</tr>\n",
              "<tr>\n",
              "  <th>ar.L1.returns</th> <td>   -0.0245</td> <td>    0.014</td> <td>   -1.740</td> <td> 0.082</td> <td>   -0.052</td> <td>    0.003</td>\n",
              "</tr>\n",
              "<tr>\n",
              "  <th>ar.L2.returns</th> <td>   -0.0523</td> <td>    0.014</td> <td>   -3.716</td> <td> 0.000</td> <td>   -0.080</td> <td>   -0.025</td>\n",
              "</tr>\n",
              "<tr>\n",
              "  <th>ar.L3.returns</th> <td>   -0.0870</td> <td>    0.014</td> <td>   -6.174</td> <td> 0.000</td> <td>   -0.115</td> <td>   -0.059</td>\n",
              "</tr>\n",
              "<tr>\n",
              "  <th>ar.L4.returns</th> <td>    0.0424</td> <td>    0.014</td> <td>    3.009</td> <td> 0.003</td> <td>    0.015</td> <td>    0.070</td>\n",
              "</tr>\n",
              "<tr>\n",
              "  <th>ar.L5.returns</th> <td>   -0.0607</td> <td>    0.014</td> <td>   -4.309</td> <td> 0.000</td> <td>   -0.088</td> <td>   -0.033</td>\n",
              "</tr>\n",
              "<tr>\n",
              "  <th>ar.L6.returns</th> <td>   -0.0466</td> <td>    0.014</td> <td>   -3.302</td> <td> 0.001</td> <td>   -0.074</td> <td>   -0.019</td>\n",
              "</tr>\n",
              "</table>\n",
              "<table class=\"simpletable\">\n",
              "<caption>Roots</caption>\n",
              "<tr>\n",
              "    <td></td>   <th>            Real</th>  <th>         Imaginary</th> <th>         Modulus</th>  <th>        Frequency</th>\n",
              "</tr>\n",
              "<tr>\n",
              "  <th>AR.1</th> <td>           1.2869</td> <td>          -0.9022j</td> <td>           1.5716</td> <td>          -0.0973</td>\n",
              "</tr>\n",
              "<tr>\n",
              "  <th>AR.2</th> <td>           1.2869</td> <td>          +0.9022j</td> <td>           1.5716</td> <td>           0.0973</td>\n",
              "</tr>\n",
              "<tr>\n",
              "  <th>AR.3</th> <td>          -0.0727</td> <td>          -1.5282j</td> <td>           1.5299</td> <td>          -0.2576</td>\n",
              "</tr>\n",
              "<tr>\n",
              "  <th>AR.4</th> <td>          -0.0727</td> <td>          +1.5282j</td> <td>           1.5299</td> <td>           0.2576</td>\n",
              "</tr>\n",
              "<tr>\n",
              "  <th>AR.5</th> <td>          -1.8659</td> <td>          -0.4836j</td> <td>           1.9275</td> <td>          -0.4596</td>\n",
              "</tr>\n",
              "<tr>\n",
              "  <th>AR.6</th> <td>          -1.8659</td> <td>          +0.4836j</td> <td>           1.9275</td> <td>           0.4596</td>\n",
              "</tr>\n",
              "</table>"
            ],
            "text/plain": [
              "<class 'statsmodels.iolib.summary.Summary'>\n",
              "\"\"\"\n",
              "                              ARMA Model Results                              \n",
              "==============================================================================\n",
              "Dep. Variable:                returns   No. Observations:                 5020\n",
              "Model:                     ARMA(6, 0)   Log Likelihood               -7886.945\n",
              "Method:                       css-mle   S.D. of innovations              1.164\n",
              "Date:                Fri, 07 Jan 2022   AIC                          15789.890\n",
              "Time:                        00:14:38   BIC                          15842.059\n",
              "Sample:                    01-10-1994   HQIC                         15808.170\n",
              "                         - 04-05-2013                                         \n",
              "=================================================================================\n",
              "                    coef    std err          z      P>|z|      [0.025      0.975]\n",
              "---------------------------------------------------------------------------------\n",
              "const             0.0189      0.013      1.414      0.157      -0.007       0.045\n",
              "ar.L1.returns    -0.0245      0.014     -1.740      0.082      -0.052       0.003\n",
              "ar.L2.returns    -0.0523      0.014     -3.716      0.000      -0.080      -0.025\n",
              "ar.L3.returns    -0.0870      0.014     -6.174      0.000      -0.115      -0.059\n",
              "ar.L4.returns     0.0424      0.014      3.009      0.003       0.015       0.070\n",
              "ar.L5.returns    -0.0607      0.014     -4.309      0.000      -0.088      -0.033\n",
              "ar.L6.returns    -0.0466      0.014     -3.302      0.001      -0.074      -0.019\n",
              "                                    Roots                                    \n",
              "=============================================================================\n",
              "                  Real          Imaginary           Modulus         Frequency\n",
              "-----------------------------------------------------------------------------\n",
              "AR.1            1.2869           -0.9022j            1.5716           -0.0973\n",
              "AR.2            1.2869           +0.9022j            1.5716            0.0973\n",
              "AR.3           -0.0727           -1.5282j            1.5299           -0.2576\n",
              "AR.4           -0.0727           +1.5282j            1.5299            0.2576\n",
              "AR.5           -1.8659           -0.4836j            1.9275           -0.4596\n",
              "AR.6           -1.8659           +0.4836j            1.9275            0.4596\n",
              "-----------------------------------------------------------------------------\n",
              "\"\"\""
            ]
          },
          "metadata": {},
          "execution_count": 44
        }
      ]
    },
    {
      "cell_type": "markdown",
      "source": [
        ""
      ],
      "metadata": {
        "id": "SQcQgMVsE7Ef"
      }
    },
    {
      "cell_type": "markdown",
      "source": [
        "Residuals for Returns"
      ],
      "metadata": {
        "id": "sjK6XQwVFjy0"
      }
    },
    {
      "cell_type": "markdown",
      "source": [
        ""
      ],
      "metadata": {
        "id": "aZjEnTWzEsWA"
      }
    },
    {
      "cell_type": "markdown",
      "metadata": {
        "id": "jwDSkbUR7rUW"
      },
      "source": [
        "## ARMA(1,1)"
      ]
    },
    {
      "cell_type": "code",
      "metadata": {
        "id": "oVt1zVHc7rUW",
        "colab": {
          "base_uri": "https://localhost:8080/",
          "height": 357
        },
        "outputId": "776c4d8c-2c84-4aa2-f8ef-a5ad82a4f79a"
      },
      "source": [
        "model_ret_ar_1_ma_1 = ARMA(df.returns[1:], order=(1,1))\n",
        "results_ret_ar_1_ma_1 = model_ret_ar_1_ma_1.fit()\n",
        "results_ret_ar_1_ma_1.summary()"
      ],
      "execution_count": 46,
      "outputs": [
        {
          "output_type": "execute_result",
          "data": {
            "text/html": [
              "<table class=\"simpletable\">\n",
              "<caption>ARMA Model Results</caption>\n",
              "<tr>\n",
              "  <th>Dep. Variable:</th>      <td>returns</td>     <th>  No. Observations:  </th>   <td>5020</td>   \n",
              "</tr>\n",
              "<tr>\n",
              "  <th>Model:</th>            <td>ARMA(1, 1)</td>    <th>  Log Likelihood     </th> <td>-7916.500</td>\n",
              "</tr>\n",
              "<tr>\n",
              "  <th>Method:</th>             <td>css-mle</td>     <th>  S.D. of innovations</th>   <td>1.171</td>  \n",
              "</tr>\n",
              "<tr>\n",
              "  <th>Date:</th>          <td>Fri, 07 Jan 2022</td> <th>  AIC                </th> <td>15841.000</td>\n",
              "</tr>\n",
              "<tr>\n",
              "  <th>Time:</th>              <td>01:20:58</td>     <th>  BIC                </th> <td>15867.085</td>\n",
              "</tr>\n",
              "<tr>\n",
              "  <th>Sample:</th>           <td>01-10-1994</td>    <th>  HQIC               </th> <td>15850.140</td>\n",
              "</tr>\n",
              "<tr>\n",
              "  <th></th>                 <td>- 04-05-2013</td>   <th>                     </th>     <td> </td>    \n",
              "</tr>\n",
              "</table>\n",
              "<table class=\"simpletable\">\n",
              "<tr>\n",
              "        <td></td>           <th>coef</th>     <th>std err</th>      <th>z</th>      <th>P>|z|</th>  <th>[0.025</th>    <th>0.975]</th>  \n",
              "</tr>\n",
              "<tr>\n",
              "  <th>const</th>         <td>    0.0189</td> <td>    0.013</td> <td>    1.446</td> <td> 0.148</td> <td>   -0.007</td> <td>    0.045</td>\n",
              "</tr>\n",
              "<tr>\n",
              "  <th>ar.L1.returns</th> <td>    0.7649</td> <td>    0.067</td> <td>   11.349</td> <td> 0.000</td> <td>    0.633</td> <td>    0.897</td>\n",
              "</tr>\n",
              "<tr>\n",
              "  <th>ma.L1.returns</th> <td>   -0.8141</td> <td>    0.061</td> <td>  -13.406</td> <td> 0.000</td> <td>   -0.933</td> <td>   -0.695</td>\n",
              "</tr>\n",
              "</table>\n",
              "<table class=\"simpletable\">\n",
              "<caption>Roots</caption>\n",
              "<tr>\n",
              "    <td></td>   <th>            Real</th>  <th>         Imaginary</th> <th>         Modulus</th>  <th>        Frequency</th>\n",
              "</tr>\n",
              "<tr>\n",
              "  <th>AR.1</th> <td>           1.3074</td> <td>          +0.0000j</td> <td>           1.3074</td> <td>           0.0000</td>\n",
              "</tr>\n",
              "<tr>\n",
              "  <th>MA.1</th> <td>           1.2284</td> <td>          +0.0000j</td> <td>           1.2284</td> <td>           0.0000</td>\n",
              "</tr>\n",
              "</table>"
            ],
            "text/plain": [
              "<class 'statsmodels.iolib.summary.Summary'>\n",
              "\"\"\"\n",
              "                              ARMA Model Results                              \n",
              "==============================================================================\n",
              "Dep. Variable:                returns   No. Observations:                 5020\n",
              "Model:                     ARMA(1, 1)   Log Likelihood               -7916.500\n",
              "Method:                       css-mle   S.D. of innovations              1.171\n",
              "Date:                Fri, 07 Jan 2022   AIC                          15841.000\n",
              "Time:                        01:20:58   BIC                          15867.085\n",
              "Sample:                    01-10-1994   HQIC                         15850.140\n",
              "                         - 04-05-2013                                         \n",
              "=================================================================================\n",
              "                    coef    std err          z      P>|z|      [0.025      0.975]\n",
              "---------------------------------------------------------------------------------\n",
              "const             0.0189      0.013      1.446      0.148      -0.007       0.045\n",
              "ar.L1.returns     0.7649      0.067     11.349      0.000       0.633       0.897\n",
              "ma.L1.returns    -0.8141      0.061    -13.406      0.000      -0.933      -0.695\n",
              "                                    Roots                                    \n",
              "=============================================================================\n",
              "                  Real          Imaginary           Modulus         Frequency\n",
              "-----------------------------------------------------------------------------\n",
              "AR.1            1.3074           +0.0000j            1.3074            0.0000\n",
              "MA.1            1.2284           +0.0000j            1.2284            0.0000\n",
              "-----------------------------------------------------------------------------\n",
              "\"\"\""
            ]
          },
          "metadata": {},
          "execution_count": 46
        }
      ]
    },
    {
      "cell_type": "code",
      "metadata": {
        "scrolled": true,
        "id": "JfRYC2WJ7rUa"
      },
      "source": [
        "model_ret_ar_1 = ARMA(df.returns[1:], order = (1,0))\n",
        "model_ret_ma_1 = ARMA(df.returns[1:], order = (0,1))\n",
        "results_ret_ar_1 = model_ret_ar_1.fit()\n",
        "results_ret_ma_1 = model_ret_ma_1.fit()"
      ],
      "execution_count": 47,
      "outputs": []
    },
    {
      "cell_type": "code",
      "metadata": {
        "id": "SgJ6brIP7rUc",
        "colab": {
          "base_uri": "https://localhost:8080/"
        },
        "outputId": "16b6e247-3476-4777-98e9-3eb69eab8e8f"
      },
      "source": [
        "print(\"\\nARMA vs AR \", LLR_test(results_ret_ar_1, results_ret_ar_1_ma_1))\n",
        "print(\"\\nARMA vs MA \", LLR_test(results_ret_ma_1, results_ret_ar_1_ma_1))"
      ],
      "execution_count": 48,
      "outputs": [
        {
          "output_type": "stream",
          "name": "stdout",
          "text": [
            "\n",
            "ARMA vs AR  0.0\n",
            "\n",
            "ARMA vs MA  0.0\n"
          ]
        }
      ]
    },
    {
      "cell_type": "markdown",
      "metadata": {
        "id": "K1qAIsSG7rUe"
      },
      "source": [
        "## Higher-Lag ARMA Models"
      ]
    },
    {
      "cell_type": "code",
      "metadata": {
        "id": "bnOidUn6VBYu",
        "colab": {
          "base_uri": "https://localhost:8080/",
          "height": 293
        },
        "outputId": "af8a4a4c-af13-4f5e-ef9c-9bf7fed45aba"
      },
      "source": [
        "sgt.plot_acf(df.returns[1:], zero = False, lags = 40)\n",
        "plt.title(\"ACF for Returns\",size=24)\n",
        "plt.show()"
      ],
      "execution_count": null,
      "outputs": [
        {
          "output_type": "display_data",
          "data": {
            "image/png": "[encoded data removed]",
            "text/plain": [
              "<Figure size 432x288 with 1 Axes>"
            ]
          },
          "metadata": {}
        }
      ]
    },
    {
      "cell_type": "code",
      "metadata": {
        "id": "jqqkgoXNVByQ",
        "colab": {
          "base_uri": "https://localhost:8080/",
          "height": 293
        },
        "outputId": "bdb8a45f-b068-43ca-83b9-4723a2be2cd2"
      },
      "source": [
        "sgt.plot_pacf(df.returns[1:], zero = False, lags = 40, method='ols')\n",
        "plt.title(\"PACF for Returns\",size=24)\n",
        "plt.show()"
      ],
      "execution_count": null,
      "outputs": [
        {
          "output_type": "display_data",
          "data": {
            "image/png": "[encoded data removed]",
            "text/plain": [
              "<Figure size 432x288 with 1 Axes>"
            ]
          },
          "metadata": {}
        }
      ]
    },
    {
      "cell_type": "code",
      "metadata": {
        "id": "zI4Ex9aA7rUf",
        "colab": {
          "base_uri": "https://localhost:8080/",
          "height": 528
        },
        "outputId": "153c4dfd-0dfa-4a5a-e98f-fda1b6526e1f"
      },
      "source": [
        "model_ret_ar_3_ma_3 = ARMA(df.returns[1:], order=(3,3))\n",
        "results_ret_ar_3_ma_3 = model_ret_ar_3_ma_3.fit()\n",
        "results_ret_ar_3_ma_3.summary()"
      ],
      "execution_count": null,
      "outputs": [
        {
          "output_type": "execute_result",
          "data": {
            "text/html": [
              "<table class=\"simpletable\">\n",
              "<caption>ARMA Model Results</caption>\n",
              "<tr>\n",
              "  <th>Dep. Variable:</th>      <td>returns</td>     <th>  No. Observations:  </th>   <td>5020</td>   \n",
              "</tr>\n",
              "<tr>\n",
              "  <th>Model:</th>            <td>ARMA(3, 3)</td>    <th>  Log Likelihood     </th> <td>-7893.515</td>\n",
              "</tr>\n",
              "<tr>\n",
              "  <th>Method:</th>             <td>css-mle</td>     <th>  S.D. of innovations</th>   <td>1.166</td>  \n",
              "</tr>\n",
              "<tr>\n",
              "  <th>Date:</th>          <td>Thu, 06 Jan 2022</td> <th>  AIC                </th> <td>15803.030</td>\n",
              "</tr>\n",
              "<tr>\n",
              "  <th>Time:</th>              <td>23:38:09</td>     <th>  BIC                </th> <td>15855.199</td>\n",
              "</tr>\n",
              "<tr>\n",
              "  <th>Sample:</th>           <td>01-10-1994</td>    <th>  HQIC               </th> <td>15821.310</td>\n",
              "</tr>\n",
              "<tr>\n",
              "  <th></th>                 <td>- 04-05-2013</td>   <th>                     </th>     <td> </td>    \n",
              "</tr>\n",
              "</table>\n",
              "<table class=\"simpletable\">\n",
              "<tr>\n",
              "        <td></td>           <th>coef</th>     <th>std err</th>      <th>z</th>      <th>P>|z|</th>  <th>[0.025</th>    <th>0.975]</th>  \n",
              "</tr>\n",
              "<tr>\n",
              "  <th>const</th>         <td>    0.0189</td> <td>    0.014</td> <td>    1.395</td> <td> 0.163</td> <td>   -0.008</td> <td>    0.045</td>\n",
              "</tr>\n",
              "<tr>\n",
              "  <th>ar.L1.returns</th> <td>   -0.1898</td> <td>    0.104</td> <td>   -1.827</td> <td> 0.068</td> <td>   -0.393</td> <td>    0.014</td>\n",
              "</tr>\n",
              "<tr>\n",
              "  <th>ar.L2.returns</th> <td>   -0.2942</td> <td>    0.087</td> <td>   -3.389</td> <td> 0.001</td> <td>   -0.464</td> <td>   -0.124</td>\n",
              "</tr>\n",
              "<tr>\n",
              "  <th>ar.L3.returns</th> <td>    0.4459</td> <td>    0.138</td> <td>    3.225</td> <td> 0.001</td> <td>    0.175</td> <td>    0.717</td>\n",
              "</tr>\n",
              "<tr>\n",
              "  <th>ma.L1.returns</th> <td>    0.1707</td> <td>    0.099</td> <td>    1.726</td> <td> 0.084</td> <td>   -0.023</td> <td>    0.365</td>\n",
              "</tr>\n",
              "<tr>\n",
              "  <th>ma.L2.returns</th> <td>    0.2277</td> <td>    0.084</td> <td>    2.701</td> <td> 0.007</td> <td>    0.062</td> <td>    0.393</td>\n",
              "</tr>\n",
              "<tr>\n",
              "  <th>ma.L3.returns</th> <td>   -0.5432</td> <td>    0.127</td> <td>   -4.270</td> <td> 0.000</td> <td>   -0.793</td> <td>   -0.294</td>\n",
              "</tr>\n",
              "</table>\n",
              "<table class=\"simpletable\">\n",
              "<caption>Roots</caption>\n",
              "<tr>\n",
              "    <td></td>   <th>            Real</th>  <th>         Imaginary</th> <th>         Modulus</th>  <th>        Frequency</th>\n",
              "</tr>\n",
              "<tr>\n",
              "  <th>AR.1</th> <td>          -0.5168</td> <td>          -1.0283j</td> <td>           1.1508</td> <td>          -0.3241</td>\n",
              "</tr>\n",
              "<tr>\n",
              "  <th>AR.2</th> <td>          -0.5168</td> <td>          +1.0283j</td> <td>           1.1508</td> <td>           0.3241</td>\n",
              "</tr>\n",
              "<tr>\n",
              "  <th>AR.3</th> <td>           1.6932</td> <td>          -0.0000j</td> <td>           1.6932</td> <td>          -0.0000</td>\n",
              "</tr>\n",
              "<tr>\n",
              "  <th>MA.1</th> <td>          -0.5286</td> <td>          -0.9835j</td> <td>           1.1166</td> <td>          -0.3285</td>\n",
              "</tr>\n",
              "<tr>\n",
              "  <th>MA.2</th> <td>          -0.5286</td> <td>          +0.9835j</td> <td>           1.1166</td> <td>           0.3285</td>\n",
              "</tr>\n",
              "<tr>\n",
              "  <th>MA.3</th> <td>           1.4764</td> <td>          -0.0000j</td> <td>           1.4764</td> <td>          -0.0000</td>\n",
              "</tr>\n",
              "</table>"
            ],
            "text/plain": [
              "<class 'statsmodels.iolib.summary.Summary'>\n",
              "\"\"\"\n",
              "                              ARMA Model Results                              \n",
              "==============================================================================\n",
              "Dep. Variable:                returns   No. Observations:                 5020\n",
              "Model:                     ARMA(3, 3)   Log Likelihood               -7893.515\n",
              "Method:                       css-mle   S.D. of innovations              1.166\n",
              "Date:                Thu, 06 Jan 2022   AIC                          15803.030\n",
              "Time:                        23:38:09   BIC                          15855.199\n",
              "Sample:                    01-10-1994   HQIC                         15821.310\n",
              "                         - 04-05-2013                                         \n",
              "=================================================================================\n",
              "                    coef    std err          z      P>|z|      [0.025      0.975]\n",
              "---------------------------------------------------------------------------------\n",
              "const             0.0189      0.014      1.395      0.163      -0.008       0.045\n",
              "ar.L1.returns    -0.1898      0.104     -1.827      0.068      -0.393       0.014\n",
              "ar.L2.returns    -0.2942      0.087     -3.389      0.001      -0.464      -0.124\n",
              "ar.L3.returns     0.4459      0.138      3.225      0.001       0.175       0.717\n",
              "ma.L1.returns     0.1707      0.099      1.726      0.084      -0.023       0.365\n",
              "ma.L2.returns     0.2277      0.084      2.701      0.007       0.062       0.393\n",
              "ma.L3.returns    -0.5432      0.127     -4.270      0.000      -0.793      -0.294\n",
              "                                    Roots                                    \n",
              "=============================================================================\n",
              "                  Real          Imaginary           Modulus         Frequency\n",
              "-----------------------------------------------------------------------------\n",
              "AR.1           -0.5168           -1.0283j            1.1508           -0.3241\n",
              "AR.2           -0.5168           +1.0283j            1.1508            0.3241\n",
              "AR.3            1.6932           -0.0000j            1.6932           -0.0000\n",
              "MA.1           -0.5286           -0.9835j            1.1166           -0.3285\n",
              "MA.2           -0.5286           +0.9835j            1.1166            0.3285\n",
              "MA.3            1.4764           -0.0000j            1.4764           -0.0000\n",
              "-----------------------------------------------------------------------------\n",
              "\"\"\""
            ]
          },
          "metadata": {},
          "execution_count": 27
        }
      ]
    },
    {
      "cell_type": "code",
      "metadata": {
        "id": "EJ4dWsuG7rUi",
        "colab": {
          "base_uri": "https://localhost:8080/"
        },
        "outputId": "af757a06-56d9-43f7-9965-bc80d7afbbee"
      },
      "source": [
        "LLR_test(results_ret_ar_1_ma_1, results_ret_ar_3_ma_3, DF = 4)"
      ],
      "execution_count": null,
      "outputs": [
        {
          "output_type": "execute_result",
          "data": {
            "text/plain": [
              "0.0"
            ]
          },
          "metadata": {},
          "execution_count": 28
        }
      ]
    },
    {
      "cell_type": "code",
      "metadata": {
        "id": "lqflALFk7rUn",
        "colab": {
          "base_uri": "https://localhost:8080/",
          "height": 485
        },
        "outputId": "ccfb177d-795e-4eaf-9d78-6c0e63296319"
      },
      "source": [
        "model_ret_ar_3_ma_2 = ARMA(df.returns[1:], order=(3,2))\n",
        "results_ret_ar_3_ma_2 = model_ret_ar_3_ma_2.fit()\n",
        "results_ret_ar_3_ma_2.summary()"
      ],
      "execution_count": null,
      "outputs": [
        {
          "output_type": "execute_result",
          "data": {
            "text/html": [
              "<table class=\"simpletable\">\n",
              "<caption>ARMA Model Results</caption>\n",
              "<tr>\n",
              "  <th>Dep. Variable:</th>      <td>returns</td>     <th>  No. Observations:  </th>   <td>5020</td>   \n",
              "</tr>\n",
              "<tr>\n",
              "  <th>Model:</th>            <td>ARMA(3, 2)</td>    <th>  Log Likelihood     </th> <td>-7895.747</td>\n",
              "</tr>\n",
              "<tr>\n",
              "  <th>Method:</th>             <td>css-mle</td>     <th>  S.D. of innovations</th>   <td>1.166</td>  \n",
              "</tr>\n",
              "<tr>\n",
              "  <th>Date:</th>          <td>Thu, 06 Jan 2022</td> <th>  AIC                </th> <td>15805.495</td>\n",
              "</tr>\n",
              "<tr>\n",
              "  <th>Time:</th>              <td>23:38:10</td>     <th>  BIC                </th> <td>15851.143</td>\n",
              "</tr>\n",
              "<tr>\n",
              "  <th>Sample:</th>           <td>01-10-1994</td>    <th>  HQIC               </th> <td>15821.491</td>\n",
              "</tr>\n",
              "<tr>\n",
              "  <th></th>                 <td>- 04-05-2013</td>   <th>                     </th>     <td> </td>    \n",
              "</tr>\n",
              "</table>\n",
              "<table class=\"simpletable\">\n",
              "<tr>\n",
              "        <td></td>           <th>coef</th>     <th>std err</th>      <th>z</th>      <th>P>|z|</th>  <th>[0.025</th>    <th>0.975]</th>  \n",
              "</tr>\n",
              "<tr>\n",
              "  <th>const</th>         <td>    0.0188</td> <td>    0.015</td> <td>    1.251</td> <td> 0.211</td> <td>   -0.011</td> <td>    0.048</td>\n",
              "</tr>\n",
              "<tr>\n",
              "  <th>ar.L1.returns</th> <td>   -0.6785</td> <td>    0.087</td> <td>   -7.799</td> <td> 0.000</td> <td>   -0.849</td> <td>   -0.508</td>\n",
              "</tr>\n",
              "<tr>\n",
              "  <th>ar.L2.returns</th> <td>   -0.5088</td> <td>    0.139</td> <td>   -3.670</td> <td> 0.000</td> <td>   -0.780</td> <td>   -0.237</td>\n",
              "</tr>\n",
              "<tr>\n",
              "  <th>ar.L3.returns</th> <td>   -0.1141</td> <td>    0.015</td> <td>   -7.655</td> <td> 0.000</td> <td>   -0.143</td> <td>   -0.085</td>\n",
              "</tr>\n",
              "<tr>\n",
              "  <th>ma.L1.returns</th> <td>    0.6568</td> <td>    0.087</td> <td>    7.536</td> <td> 0.000</td> <td>    0.486</td> <td>    0.828</td>\n",
              "</tr>\n",
              "<tr>\n",
              "  <th>ma.L2.returns</th> <td>    0.4474</td> <td>    0.141</td> <td>    3.175</td> <td> 0.002</td> <td>    0.171</td> <td>    0.724</td>\n",
              "</tr>\n",
              "</table>\n",
              "<table class=\"simpletable\">\n",
              "<caption>Roots</caption>\n",
              "<tr>\n",
              "    <td></td>   <th>            Real</th>  <th>         Imaginary</th> <th>         Modulus</th>  <th>        Frequency</th>\n",
              "</tr>\n",
              "<tr>\n",
              "  <th>AR.1</th> <td>          -0.4929</td> <td>          -1.5101j</td> <td>           1.5885</td> <td>          -0.3002</td>\n",
              "</tr>\n",
              "<tr>\n",
              "  <th>AR.2</th> <td>          -0.4929</td> <td>          +1.5101j</td> <td>           1.5885</td> <td>           0.3002</td>\n",
              "</tr>\n",
              "<tr>\n",
              "  <th>AR.3</th> <td>          -3.4748</td> <td>          -0.0000j</td> <td>           3.4748</td> <td>          -0.5000</td>\n",
              "</tr>\n",
              "<tr>\n",
              "  <th>MA.1</th> <td>          -0.7340</td> <td>          -1.3025j</td> <td>           1.4951</td> <td>          -0.3317</td>\n",
              "</tr>\n",
              "<tr>\n",
              "  <th>MA.2</th> <td>          -0.7340</td> <td>          +1.3025j</td> <td>           1.4951</td> <td>           0.3317</td>\n",
              "</tr>\n",
              "</table>"
            ],
            "text/plain": [
              "<class 'statsmodels.iolib.summary.Summary'>\n",
              "\"\"\"\n",
              "                              ARMA Model Results                              \n",
              "==============================================================================\n",
              "Dep. Variable:                returns   No. Observations:                 5020\n",
              "Model:                     ARMA(3, 2)   Log Likelihood               -7895.747\n",
              "Method:                       css-mle   S.D. of innovations              1.166\n",
              "Date:                Thu, 06 Jan 2022   AIC                          15805.495\n",
              "Time:                        23:38:10   BIC                          15851.143\n",
              "Sample:                    01-10-1994   HQIC                         15821.491\n",
              "                         - 04-05-2013                                         \n",
              "=================================================================================\n",
              "                    coef    std err          z      P>|z|      [0.025      0.975]\n",
              "---------------------------------------------------------------------------------\n",
              "const             0.0188      0.015      1.251      0.211      -0.011       0.048\n",
              "ar.L1.returns    -0.6785      0.087     -7.799      0.000      -0.849      -0.508\n",
              "ar.L2.returns    -0.5088      0.139     -3.670      0.000      -0.780      -0.237\n",
              "ar.L3.returns    -0.1141      0.015     -7.655      0.000      -0.143      -0.085\n",
              "ma.L1.returns     0.6568      0.087      7.536      0.000       0.486       0.828\n",
              "ma.L2.returns     0.4474      0.141      3.175      0.002       0.171       0.724\n",
              "                                    Roots                                    \n",
              "=============================================================================\n",
              "                  Real          Imaginary           Modulus         Frequency\n",
              "-----------------------------------------------------------------------------\n",
              "AR.1           -0.4929           -1.5101j            1.5885           -0.3002\n",
              "AR.2           -0.4929           +1.5101j            1.5885            0.3002\n",
              "AR.3           -3.4748           -0.0000j            3.4748           -0.5000\n",
              "MA.1           -0.7340           -1.3025j            1.4951           -0.3317\n",
              "MA.2           -0.7340           +1.3025j            1.4951            0.3317\n",
              "-----------------------------------------------------------------------------\n",
              "\"\"\""
            ]
          },
          "metadata": {},
          "execution_count": 29
        }
      ]
    },
    {
      "cell_type": "code",
      "metadata": {
        "id": "RAKfjQLh7rUp",
        "colab": {
          "base_uri": "https://localhost:8080/",
          "height": 485
        },
        "outputId": "8e416fd7-19a4-4735-8dbd-3962682e7d7b"
      },
      "source": [
        "model_ret_ar_2_ma_3 = ARMA(df.returns[1:], order=(2,3))\n",
        "results_ret_ar_2_ma_3 = model_ret_ar_2_ma_3.fit()\n",
        "results_ret_ar_2_ma_3.summary()"
      ],
      "execution_count": null,
      "outputs": [
        {
          "output_type": "execute_result",
          "data": {
            "text/html": [
              "<table class=\"simpletable\">\n",
              "<caption>ARMA Model Results</caption>\n",
              "<tr>\n",
              "  <th>Dep. Variable:</th>      <td>returns</td>     <th>  No. Observations:  </th>   <td>5020</td>   \n",
              "</tr>\n",
              "<tr>\n",
              "  <th>Model:</th>            <td>ARMA(2, 3)</td>    <th>  Log Likelihood     </th> <td>-7895.587</td>\n",
              "</tr>\n",
              "<tr>\n",
              "  <th>Method:</th>             <td>css-mle</td>     <th>  S.D. of innovations</th>   <td>1.166</td>  \n",
              "</tr>\n",
              "<tr>\n",
              "  <th>Date:</th>          <td>Thu, 06 Jan 2022</td> <th>  AIC                </th> <td>15805.174</td>\n",
              "</tr>\n",
              "<tr>\n",
              "  <th>Time:</th>              <td>23:38:12</td>     <th>  BIC                </th> <td>15850.823</td>\n",
              "</tr>\n",
              "<tr>\n",
              "  <th>Sample:</th>           <td>01-10-1994</td>    <th>  HQIC               </th> <td>15821.170</td>\n",
              "</tr>\n",
              "<tr>\n",
              "  <th></th>                 <td>- 04-05-2013</td>   <th>                     </th>     <td> </td>    \n",
              "</tr>\n",
              "</table>\n",
              "<table class=\"simpletable\">\n",
              "<tr>\n",
              "        <td></td>           <th>coef</th>     <th>std err</th>      <th>z</th>      <th>P>|z|</th>  <th>[0.025</th>    <th>0.975]</th>  \n",
              "</tr>\n",
              "<tr>\n",
              "  <th>const</th>         <td>    0.0189</td> <td>    0.015</td> <td>    1.276</td> <td> 0.202</td> <td>   -0.010</td> <td>    0.048</td>\n",
              "</tr>\n",
              "<tr>\n",
              "  <th>ar.L1.returns</th> <td>   -0.5605</td> <td>    0.090</td> <td>   -6.245</td> <td> 0.000</td> <td>   -0.736</td> <td>   -0.385</td>\n",
              "</tr>\n",
              "<tr>\n",
              "  <th>ar.L2.returns</th> <td>   -0.4187</td> <td>    0.193</td> <td>   -2.172</td> <td> 0.030</td> <td>   -0.797</td> <td>   -0.041</td>\n",
              "</tr>\n",
              "<tr>\n",
              "  <th>ma.L1.returns</th> <td>    0.5378</td> <td>    0.090</td> <td>    6.000</td> <td> 0.000</td> <td>    0.362</td> <td>    0.714</td>\n",
              "</tr>\n",
              "<tr>\n",
              "  <th>ma.L2.returns</th> <td>    0.3540</td> <td>    0.195</td> <td>    1.818</td> <td> 0.069</td> <td>   -0.028</td> <td>    0.736</td>\n",
              "</tr>\n",
              "<tr>\n",
              "  <th>ma.L3.returns</th> <td>   -0.1158</td> <td>    0.016</td> <td>   -7.369</td> <td> 0.000</td> <td>   -0.147</td> <td>   -0.085</td>\n",
              "</tr>\n",
              "</table>\n",
              "<table class=\"simpletable\">\n",
              "<caption>Roots</caption>\n",
              "<tr>\n",
              "    <td></td>   <th>            Real</th>  <th>         Imaginary</th> <th>         Modulus</th>  <th>        Frequency</th>\n",
              "</tr>\n",
              "<tr>\n",
              "  <th>AR.1</th> <td>          -0.6694</td> <td>          -1.3930j</td> <td>           1.5455</td> <td>          -0.3213</td>\n",
              "</tr>\n",
              "<tr>\n",
              "  <th>AR.2</th> <td>          -0.6694</td> <td>          +1.3930j</td> <td>           1.5455</td> <td>           0.3213</td>\n",
              "</tr>\n",
              "<tr>\n",
              "  <th>MA.1</th> <td>          -0.7270</td> <td>          -1.1772j</td> <td>           1.3836</td> <td>          -0.3381</td>\n",
              "</tr>\n",
              "<tr>\n",
              "  <th>MA.2</th> <td>          -0.7270</td> <td>          +1.1772j</td> <td>           1.3836</td> <td>           0.3381</td>\n",
              "</tr>\n",
              "<tr>\n",
              "  <th>MA.3</th> <td>           4.5096</td> <td>          -0.0000j</td> <td>           4.5096</td> <td>          -0.0000</td>\n",
              "</tr>\n",
              "</table>"
            ],
            "text/plain": [
              "<class 'statsmodels.iolib.summary.Summary'>\n",
              "\"\"\"\n",
              "                              ARMA Model Results                              \n",
              "==============================================================================\n",
              "Dep. Variable:                returns   No. Observations:                 5020\n",
              "Model:                     ARMA(2, 3)   Log Likelihood               -7895.587\n",
              "Method:                       css-mle   S.D. of innovations              1.166\n",
              "Date:                Thu, 06 Jan 2022   AIC                          15805.174\n",
              "Time:                        23:38:12   BIC                          15850.823\n",
              "Sample:                    01-10-1994   HQIC                         15821.170\n",
              "                         - 04-05-2013                                         \n",
              "=================================================================================\n",
              "                    coef    std err          z      P>|z|      [0.025      0.975]\n",
              "---------------------------------------------------------------------------------\n",
              "const             0.0189      0.015      1.276      0.202      -0.010       0.048\n",
              "ar.L1.returns    -0.5605      0.090     -6.245      0.000      -0.736      -0.385\n",
              "ar.L2.returns    -0.4187      0.193     -2.172      0.030      -0.797      -0.041\n",
              "ma.L1.returns     0.5378      0.090      6.000      0.000       0.362       0.714\n",
              "ma.L2.returns     0.3540      0.195      1.818      0.069      -0.028       0.736\n",
              "ma.L3.returns    -0.1158      0.016     -7.369      0.000      -0.147      -0.085\n",
              "                                    Roots                                    \n",
              "=============================================================================\n",
              "                  Real          Imaginary           Modulus         Frequency\n",
              "-----------------------------------------------------------------------------\n",
              "AR.1           -0.6694           -1.3930j            1.5455           -0.3213\n",
              "AR.2           -0.6694           +1.3930j            1.5455            0.3213\n",
              "MA.1           -0.7270           -1.1772j            1.3836           -0.3381\n",
              "MA.2           -0.7270           +1.1772j            1.3836            0.3381\n",
              "MA.3            4.5096           -0.0000j            4.5096           -0.0000\n",
              "-----------------------------------------------------------------------------\n",
              "\"\"\""
            ]
          },
          "metadata": {},
          "execution_count": 30
        }
      ]
    },
    {
      "cell_type": "code",
      "metadata": {
        "id": "sTKO4iWQ7rUu",
        "colab": {
          "base_uri": "https://localhost:8080/",
          "height": 442
        },
        "outputId": "0250b736-04c0-49eb-df29-0aab619c8002"
      },
      "source": [
        "model_ret_ar_3_ma_1 = ARMA(df.returns[1:], order=(3,1))\n",
        "results_ret_ar_3_ma_1 = model_ret_ar_3_ma_1.fit()\n",
        "results_ret_ar_3_ma_1.summary()"
      ],
      "execution_count": null,
      "outputs": [
        {
          "output_type": "execute_result",
          "data": {
            "text/html": [
              "<table class=\"simpletable\">\n",
              "<caption>ARMA Model Results</caption>\n",
              "<tr>\n",
              "  <th>Dep. Variable:</th>      <td>returns</td>     <th>  No. Observations:  </th>   <td>5020</td>   \n",
              "</tr>\n",
              "<tr>\n",
              "  <th>Model:</th>            <td>ARMA(3, 1)</td>    <th>  Log Likelihood     </th> <td>-7899.072</td>\n",
              "</tr>\n",
              "<tr>\n",
              "  <th>Method:</th>             <td>css-mle</td>     <th>  S.D. of innovations</th>   <td>1.167</td>  \n",
              "</tr>\n",
              "<tr>\n",
              "  <th>Date:</th>          <td>Thu, 06 Jan 2022</td> <th>  AIC                </th> <td>15810.144</td>\n",
              "</tr>\n",
              "<tr>\n",
              "  <th>Time:</th>              <td>23:38:14</td>     <th>  BIC                </th> <td>15849.271</td>\n",
              "</tr>\n",
              "<tr>\n",
              "  <th>Sample:</th>           <td>01-10-1994</td>    <th>  HQIC               </th> <td>15823.855</td>\n",
              "</tr>\n",
              "<tr>\n",
              "  <th></th>                 <td>- 04-05-2013</td>   <th>                     </th>     <td> </td>    \n",
              "</tr>\n",
              "</table>\n",
              "<table class=\"simpletable\">\n",
              "<tr>\n",
              "        <td></td>           <th>coef</th>     <th>std err</th>      <th>z</th>      <th>P>|z|</th>  <th>[0.025</th>    <th>0.975]</th>  \n",
              "</tr>\n",
              "<tr>\n",
              "  <th>const</th>         <td>    0.0189</td> <td>    0.015</td> <td>    1.298</td> <td> 0.194</td> <td>   -0.010</td> <td>    0.047</td>\n",
              "</tr>\n",
              "<tr>\n",
              "  <th>ar.L1.returns</th> <td>   -0.5077</td> <td>    0.088</td> <td>   -5.769</td> <td> 0.000</td> <td>   -0.680</td> <td>   -0.335</td>\n",
              "</tr>\n",
              "<tr>\n",
              "  <th>ar.L2.returns</th> <td>   -0.0638</td> <td>    0.016</td> <td>   -4.023</td> <td> 0.000</td> <td>   -0.095</td> <td>   -0.033</td>\n",
              "</tr>\n",
              "<tr>\n",
              "  <th>ar.L3.returns</th> <td>   -0.1102</td> <td>    0.014</td> <td>   -7.850</td> <td> 0.000</td> <td>   -0.138</td> <td>   -0.083</td>\n",
              "</tr>\n",
              "<tr>\n",
              "  <th>ma.L1.returns</th> <td>    0.4838</td> <td>    0.088</td> <td>    5.500</td> <td> 0.000</td> <td>    0.311</td> <td>    0.656</td>\n",
              "</tr>\n",
              "</table>\n",
              "<table class=\"simpletable\">\n",
              "<caption>Roots</caption>\n",
              "<tr>\n",
              "    <td></td>   <th>            Real</th>  <th>         Imaginary</th> <th>         Modulus</th>  <th>        Frequency</th>\n",
              "</tr>\n",
              "<tr>\n",
              "  <th>AR.1</th> <td>          -1.5095</td> <td>          -0.0000j</td> <td>           1.5095</td> <td>          -0.5000</td>\n",
              "</tr>\n",
              "<tr>\n",
              "  <th>AR.2</th> <td>           0.4653</td> <td>          -2.4076j</td> <td>           2.4521</td> <td>          -0.2196</td>\n",
              "</tr>\n",
              "<tr>\n",
              "  <th>AR.3</th> <td>           0.4653</td> <td>          +2.4076j</td> <td>           2.4521</td> <td>           0.2196</td>\n",
              "</tr>\n",
              "<tr>\n",
              "  <th>MA.1</th> <td>          -2.0668</td> <td>          +0.0000j</td> <td>           2.0668</td> <td>           0.5000</td>\n",
              "</tr>\n",
              "</table>"
            ],
            "text/plain": [
              "<class 'statsmodels.iolib.summary.Summary'>\n",
              "\"\"\"\n",
              "                              ARMA Model Results                              \n",
              "==============================================================================\n",
              "Dep. Variable:                returns   No. Observations:                 5020\n",
              "Model:                     ARMA(3, 1)   Log Likelihood               -7899.072\n",
              "Method:                       css-mle   S.D. of innovations              1.167\n",
              "Date:                Thu, 06 Jan 2022   AIC                          15810.144\n",
              "Time:                        23:38:14   BIC                          15849.271\n",
              "Sample:                    01-10-1994   HQIC                         15823.855\n",
              "                         - 04-05-2013                                         \n",
              "=================================================================================\n",
              "                    coef    std err          z      P>|z|      [0.025      0.975]\n",
              "---------------------------------------------------------------------------------\n",
              "const             0.0189      0.015      1.298      0.194      -0.010       0.047\n",
              "ar.L1.returns    -0.5077      0.088     -5.769      0.000      -0.680      -0.335\n",
              "ar.L2.returns    -0.0638      0.016     -4.023      0.000      -0.095      -0.033\n",
              "ar.L3.returns    -0.1102      0.014     -7.850      0.000      -0.138      -0.083\n",
              "ma.L1.returns     0.4838      0.088      5.500      0.000       0.311       0.656\n",
              "                                    Roots                                    \n",
              "=============================================================================\n",
              "                  Real          Imaginary           Modulus         Frequency\n",
              "-----------------------------------------------------------------------------\n",
              "AR.1           -1.5095           -0.0000j            1.5095           -0.5000\n",
              "AR.2            0.4653           -2.4076j            2.4521           -0.2196\n",
              "AR.3            0.4653           +2.4076j            2.4521            0.2196\n",
              "MA.1           -2.0668           +0.0000j            2.0668            0.5000\n",
              "-----------------------------------------------------------------------------\n",
              "\"\"\""
            ]
          },
          "metadata": {},
          "execution_count": 31
        }
      ]
    },
    {
      "cell_type": "code",
      "metadata": {
        "id": "nm3KLFVA7rUw",
        "colab": {
          "base_uri": "https://localhost:8080/"
        },
        "outputId": "0a022ff4-f5a6-474d-e8bf-f0e726d3ad2e"
      },
      "source": [
        "LLR_test(results_ret_ar_3_ma_1, results_ret_ar_3_ma_2)"
      ],
      "execution_count": null,
      "outputs": [
        {
          "output_type": "execute_result",
          "data": {
            "text/plain": [
              "0.01"
            ]
          },
          "metadata": {},
          "execution_count": 32
        }
      ]
    },
    {
      "cell_type": "code",
      "metadata": {
        "id": "4V8A3CJJ7rUy",
        "colab": {
          "base_uri": "https://localhost:8080/",
          "height": 442
        },
        "outputId": "9ae56af2-68f9-498b-9e93-45f74ae5b1a7"
      },
      "source": [
        "model_ret_ar_2_ma_2 = ARMA(df.returns[1:], order=(2,2))\n",
        "results_ret_ar_2_ma_2 = model_ret_ar_2_ma_2.fit()\n",
        "results_ret_ar_2_ma_2.summary()"
      ],
      "execution_count": null,
      "outputs": [
        {
          "output_type": "execute_result",
          "data": {
            "text/html": [
              "<table class=\"simpletable\">\n",
              "<caption>ARMA Model Results</caption>\n",
              "<tr>\n",
              "  <th>Dep. Variable:</th>      <td>returns</td>     <th>  No. Observations:  </th>   <td>5020</td>   \n",
              "</tr>\n",
              "<tr>\n",
              "  <th>Model:</th>            <td>ARMA(2, 2)</td>    <th>  Log Likelihood     </th> <td>-7913.223</td>\n",
              "</tr>\n",
              "<tr>\n",
              "  <th>Method:</th>             <td>css-mle</td>     <th>  S.D. of innovations</th>   <td>1.170</td>  \n",
              "</tr>\n",
              "<tr>\n",
              "  <th>Date:</th>          <td>Thu, 06 Jan 2022</td> <th>  AIC                </th> <td>15838.446</td>\n",
              "</tr>\n",
              "<tr>\n",
              "  <th>Time:</th>              <td>23:38:15</td>     <th>  BIC                </th> <td>15877.573</td>\n",
              "</tr>\n",
              "<tr>\n",
              "  <th>Sample:</th>           <td>01-10-1994</td>    <th>  HQIC               </th> <td>15852.156</td>\n",
              "</tr>\n",
              "<tr>\n",
              "  <th></th>                 <td>- 04-05-2013</td>   <th>                     </th>     <td> </td>    \n",
              "</tr>\n",
              "</table>\n",
              "<table class=\"simpletable\">\n",
              "<tr>\n",
              "        <td></td>           <th>coef</th>     <th>std err</th>      <th>z</th>      <th>P>|z|</th>  <th>[0.025</th>    <th>0.975]</th>  \n",
              "</tr>\n",
              "<tr>\n",
              "  <th>const</th>         <td>    0.0189</td> <td>    0.014</td> <td>    1.394</td> <td> 0.163</td> <td>   -0.008</td> <td>    0.045</td>\n",
              "</tr>\n",
              "<tr>\n",
              "  <th>ar.L1.returns</th> <td>    0.7820</td> <td>    0.238</td> <td>    3.284</td> <td> 0.001</td> <td>    0.315</td> <td>    1.249</td>\n",
              "</tr>\n",
              "<tr>\n",
              "  <th>ar.L2.returns</th> <td>   -0.1563</td> <td>    0.177</td> <td>   -0.884</td> <td> 0.377</td> <td>   -0.503</td> <td>    0.190</td>\n",
              "</tr>\n",
              "<tr>\n",
              "  <th>ma.L1.returns</th> <td>   -0.8105</td> <td>    0.239</td> <td>   -3.388</td> <td> 0.001</td> <td>   -1.279</td> <td>   -0.342</td>\n",
              "</tr>\n",
              "<tr>\n",
              "  <th>ma.L2.returns</th> <td>    0.1177</td> <td>    0.187</td> <td>    0.628</td> <td> 0.530</td> <td>   -0.250</td> <td>    0.485</td>\n",
              "</tr>\n",
              "</table>\n",
              "<table class=\"simpletable\">\n",
              "<caption>Roots</caption>\n",
              "<tr>\n",
              "    <td></td>   <th>            Real</th>  <th>         Imaginary</th> <th>         Modulus</th>  <th>        Frequency</th>\n",
              "</tr>\n",
              "<tr>\n",
              "  <th>AR.1</th> <td>           2.5017</td> <td>          -0.3739j</td> <td>           2.5295</td> <td>          -0.0236</td>\n",
              "</tr>\n",
              "<tr>\n",
              "  <th>AR.2</th> <td>           2.5017</td> <td>          +0.3739j</td> <td>           2.5295</td> <td>           0.0236</td>\n",
              "</tr>\n",
              "<tr>\n",
              "  <th>MA.1</th> <td>           1.6107</td> <td>          +0.0000j</td> <td>           1.6107</td> <td>           0.0000</td>\n",
              "</tr>\n",
              "<tr>\n",
              "  <th>MA.2</th> <td>           5.2738</td> <td>          +0.0000j</td> <td>           5.2738</td> <td>           0.0000</td>\n",
              "</tr>\n",
              "</table>"
            ],
            "text/plain": [
              "<class 'statsmodels.iolib.summary.Summary'>\n",
              "\"\"\"\n",
              "                              ARMA Model Results                              \n",
              "==============================================================================\n",
              "Dep. Variable:                returns   No. Observations:                 5020\n",
              "Model:                     ARMA(2, 2)   Log Likelihood               -7913.223\n",
              "Method:                       css-mle   S.D. of innovations              1.170\n",
              "Date:                Thu, 06 Jan 2022   AIC                          15838.446\n",
              "Time:                        23:38:15   BIC                          15877.573\n",
              "Sample:                    01-10-1994   HQIC                         15852.156\n",
              "                         - 04-05-2013                                         \n",
              "=================================================================================\n",
              "                    coef    std err          z      P>|z|      [0.025      0.975]\n",
              "---------------------------------------------------------------------------------\n",
              "const             0.0189      0.014      1.394      0.163      -0.008       0.045\n",
              "ar.L1.returns     0.7820      0.238      3.284      0.001       0.315       1.249\n",
              "ar.L2.returns    -0.1563      0.177     -0.884      0.377      -0.503       0.190\n",
              "ma.L1.returns    -0.8105      0.239     -3.388      0.001      -1.279      -0.342\n",
              "ma.L2.returns     0.1177      0.187      0.628      0.530      -0.250       0.485\n",
              "                                    Roots                                    \n",
              "=============================================================================\n",
              "                  Real          Imaginary           Modulus         Frequency\n",
              "-----------------------------------------------------------------------------\n",
              "AR.1            2.5017           -0.3739j            2.5295           -0.0236\n",
              "AR.2            2.5017           +0.3739j            2.5295            0.0236\n",
              "MA.1            1.6107           +0.0000j            1.6107            0.0000\n",
              "MA.2            5.2738           +0.0000j            5.2738            0.0000\n",
              "-----------------------------------------------------------------------------\n",
              "\"\"\""
            ]
          },
          "metadata": {},
          "execution_count": 33
        }
      ]
    },
    {
      "cell_type": "code",
      "metadata": {
        "id": "XsSvUxSk7rU0",
        "colab": {
          "base_uri": "https://localhost:8080/",
          "height": 442
        },
        "outputId": "4abcc9be-6a4c-4ff2-db3b-9d21e682500e"
      },
      "source": [
        "model_ret_ar_1_ma_3 = ARMA(df.returns[1:], order=(1,3))\n",
        "results_ret_ar_1_ma_3 = model_ret_ar_1_ma_3.fit()\n",
        "results_ret_ar_1_ma_3.summary()"
      ],
      "execution_count": null,
      "outputs": [
        {
          "output_type": "execute_result",
          "data": {
            "text/html": [
              "<table class=\"simpletable\">\n",
              "<caption>ARMA Model Results</caption>\n",
              "<tr>\n",
              "  <th>Dep. Variable:</th>      <td>returns</td>     <th>  No. Observations:  </th>   <td>5020</td>   \n",
              "</tr>\n",
              "<tr>\n",
              "  <th>Model:</th>            <td>ARMA(1, 3)</td>    <th>  Log Likelihood     </th> <td>-7896.838</td>\n",
              "</tr>\n",
              "<tr>\n",
              "  <th>Method:</th>             <td>css-mle</td>     <th>  S.D. of innovations</th>   <td>1.167</td>  \n",
              "</tr>\n",
              "<tr>\n",
              "  <th>Date:</th>          <td>Thu, 06 Jan 2022</td> <th>  AIC                </th> <td>15805.676</td>\n",
              "</tr>\n",
              "<tr>\n",
              "  <th>Time:</th>              <td>23:38:17</td>     <th>  BIC                </th> <td>15844.803</td>\n",
              "</tr>\n",
              "<tr>\n",
              "  <th>Sample:</th>           <td>01-10-1994</td>    <th>  HQIC               </th> <td>15819.386</td>\n",
              "</tr>\n",
              "<tr>\n",
              "  <th></th>                 <td>- 04-05-2013</td>   <th>                     </th>     <td> </td>    \n",
              "</tr>\n",
              "</table>\n",
              "<table class=\"simpletable\">\n",
              "<tr>\n",
              "        <td></td>           <th>coef</th>     <th>std err</th>      <th>z</th>      <th>P>|z|</th>  <th>[0.025</th>    <th>0.975]</th>  \n",
              "</tr>\n",
              "<tr>\n",
              "  <th>const</th>         <td>    0.0189</td> <td>    0.014</td> <td>    1.332</td> <td> 0.183</td> <td>   -0.009</td> <td>    0.047</td>\n",
              "</tr>\n",
              "<tr>\n",
              "  <th>ar.L1.returns</th> <td>   -0.4699</td> <td>    0.096</td> <td>   -4.901</td> <td> 0.000</td> <td>   -0.658</td> <td>   -0.282</td>\n",
              "</tr>\n",
              "<tr>\n",
              "  <th>ma.L1.returns</th> <td>    0.4474</td> <td>    0.095</td> <td>    4.691</td> <td> 0.000</td> <td>    0.260</td> <td>    0.634</td>\n",
              "</tr>\n",
              "<tr>\n",
              "  <th>ma.L2.returns</th> <td>   -0.0637</td> <td>    0.015</td> <td>   -4.113</td> <td> 0.000</td> <td>   -0.094</td> <td>   -0.033</td>\n",
              "</tr>\n",
              "<tr>\n",
              "  <th>ma.L3.returns</th> <td>   -0.1182</td> <td>    0.014</td> <td>   -8.200</td> <td> 0.000</td> <td>   -0.146</td> <td>   -0.090</td>\n",
              "</tr>\n",
              "</table>\n",
              "<table class=\"simpletable\">\n",
              "<caption>Roots</caption>\n",
              "<tr>\n",
              "    <td></td>   <th>            Real</th>  <th>         Imaginary</th> <th>         Modulus</th>  <th>        Frequency</th>\n",
              "</tr>\n",
              "<tr>\n",
              "  <th>AR.1</th> <td>          -2.1282</td> <td>          +0.0000j</td> <td>           2.1282</td> <td>           0.5000</td>\n",
              "</tr>\n",
              "<tr>\n",
              "  <th>MA.1</th> <td>          -1.4882</td> <td>          -1.1206j</td> <td>           1.8629</td> <td>          -0.3973</td>\n",
              "</tr>\n",
              "<tr>\n",
              "  <th>MA.2</th> <td>          -1.4882</td> <td>          +1.1206j</td> <td>           1.8629</td> <td>           0.3973</td>\n",
              "</tr>\n",
              "<tr>\n",
              "  <th>MA.3</th> <td>           2.4376</td> <td>          -0.0000j</td> <td>           2.4376</td> <td>          -0.0000</td>\n",
              "</tr>\n",
              "</table>"
            ],
            "text/plain": [
              "<class 'statsmodels.iolib.summary.Summary'>\n",
              "\"\"\"\n",
              "                              ARMA Model Results                              \n",
              "==============================================================================\n",
              "Dep. Variable:                returns   No. Observations:                 5020\n",
              "Model:                     ARMA(1, 3)   Log Likelihood               -7896.838\n",
              "Method:                       css-mle   S.D. of innovations              1.167\n",
              "Date:                Thu, 06 Jan 2022   AIC                          15805.676\n",
              "Time:                        23:38:17   BIC                          15844.803\n",
              "Sample:                    01-10-1994   HQIC                         15819.386\n",
              "                         - 04-05-2013                                         \n",
              "=================================================================================\n",
              "                    coef    std err          z      P>|z|      [0.025      0.975]\n",
              "---------------------------------------------------------------------------------\n",
              "const             0.0189      0.014      1.332      0.183      -0.009       0.047\n",
              "ar.L1.returns    -0.4699      0.096     -4.901      0.000      -0.658      -0.282\n",
              "ma.L1.returns     0.4474      0.095      4.691      0.000       0.260       0.634\n",
              "ma.L2.returns    -0.0637      0.015     -4.113      0.000      -0.094      -0.033\n",
              "ma.L3.returns    -0.1182      0.014     -8.200      0.000      -0.146      -0.090\n",
              "                                    Roots                                    \n",
              "=============================================================================\n",
              "                  Real          Imaginary           Modulus         Frequency\n",
              "-----------------------------------------------------------------------------\n",
              "AR.1           -2.1282           +0.0000j            2.1282            0.5000\n",
              "MA.1           -1.4882           -1.1206j            1.8629           -0.3973\n",
              "MA.2           -1.4882           +1.1206j            1.8629            0.3973\n",
              "MA.3            2.4376           -0.0000j            2.4376           -0.0000\n",
              "-----------------------------------------------------------------------------\n",
              "\"\"\""
            ]
          },
          "metadata": {},
          "execution_count": 34
        }
      ]
    },
    {
      "cell_type": "code",
      "metadata": {
        "id": "efNSprt57rU2",
        "colab": {
          "base_uri": "https://localhost:8080/"
        },
        "outputId": "13617bf4-8e95-4df7-b0a3-2e20e5b5ddb2"
      },
      "source": [
        "print(\"\\n ARMA(3,2): \\tLL = \", results_ret_ar_3_ma_2.llf, \"\\tAIC = \", results_ret_ar_3_ma_2.aic)\n",
        "print(\"\\n ARMA(1,3): \\tLL = \", results_ret_ar_1_ma_3.llf, \"\\tAIC = \", results_ret_ar_1_ma_3.aic)"
      ],
      "execution_count": null,
      "outputs": [
        {
          "output_type": "stream",
          "name": "stdout",
          "text": [
            "\n",
            " ARMA(3,2): \tLL =  -7895.7474585147365 \tAIC =  15805.494917029473\n",
            "\n",
            " ARMA(1,3): \tLL =  -7896.837893752891 \tAIC =  15805.675787505783\n"
          ]
        }
      ]
    },
    {
      "cell_type": "markdown",
      "metadata": {
        "id": "bcCIUqdk7rU5"
      },
      "source": [
        "## Residuals for Returns"
      ]
    },
    {
      "cell_type": "code",
      "metadata": {
        "id": "REQyLlnX7rU5",
        "colab": {
          "base_uri": "https://localhost:8080/",
          "height": 165
        },
        "outputId": "96cad4ab-103e-479c-9597-5815683c5827"
      },
      "source": [
        "df['res_ret_ar_3_ma_2'] = results_ret_ar_3_ma_2.resid[1:]"
      ],
      "execution_count": null,
      "outputs": [
        {
          "output_type": "error",
          "ename": "NameError",
          "evalue": "ignored",
          "traceback": [
            "\u001b[0;31m---------------------------------------------------------------------------\u001b[0m",
            "\u001b[0;31mNameError\u001b[0m                                 Traceback (most recent call last)",
            "\u001b[0;32m<ipython-input-10-538d1eb91fc4>\u001b[0m in \u001b[0;36m<module>\u001b[0;34m()\u001b[0m\n\u001b[0;32m----> 1\u001b[0;31m \u001b[0mdf\u001b[0m\u001b[0;34m[\u001b[0m\u001b[0;34m'res_ret_ar_3_ma_2'\u001b[0m\u001b[0;34m]\u001b[0m \u001b[0;34m=\u001b[0m \u001b[0mresults_ret_ar_3_ma_2\u001b[0m\u001b[0;34m.\u001b[0m\u001b[0mresid\u001b[0m\u001b[0;34m[\u001b[0m\u001b[0;36m1\u001b[0m\u001b[0;34m:\u001b[0m\u001b[0;34m]\u001b[0m\u001b[0;34m\u001b[0m\u001b[0;34m\u001b[0m\u001b[0m\n\u001b[0m",
            "\u001b[0;31mNameError\u001b[0m: name 'results_ret_ar_3_ma_2' is not defined"
          ]
        }
      ]
    },
    {
      "cell_type": "code",
      "metadata": {
        "id": "MF3d3GPU7rU8"
      },
      "source": [
        "df.res_ret_ar_3_ma_2.plot(figsize = (20,5))\n",
        "plt.title(\"Residuals of Returns\", size=24)\n",
        "plt.show()"
      ],
      "execution_count": null,
      "outputs": []
    },
    {
      "cell_type": "code",
      "metadata": {
        "id": "WBFVqXLU7rU-"
      },
      "source": [
        "sgt.plot_acf(df.res_ret_ar_3_ma_2[2:], zero = False, lags = 40)\n",
        "plt.title(\"ACF Of Residuals for Returns\",size=24)\n",
        "plt.show()"
      ],
      "execution_count": null,
      "outputs": []
    },
    {
      "cell_type": "markdown",
      "metadata": {
        "id": "942CxfKg7rVB"
      },
      "source": [
        "## Reevaluating Model Selection"
      ]
    },
    {
      "cell_type": "code",
      "metadata": {
        "id": "8k6PUY8F7rVB",
        "colab": {
          "base_uri": "https://localhost:8080/",
          "height": 669
        },
        "outputId": "90e0ba53-6f0b-4345-f778-944b2bddcac0"
      },
      "source": [
        "model_ret_ar_5_ma_5 = ARMA(df.returns[1:], order=(5,5))\n",
        "results_ret_ar_5_ma_5 = model_ret_ar_5_ma_5.fit()\n",
        "results_ret_ar_5_ma_5.summary()"
      ],
      "execution_count": null,
      "outputs": [
        {
          "output_type": "execute_result",
          "data": {
            "text/html": [
              "<table class=\"simpletable\">\n",
              "<caption>ARMA Model Results</caption>\n",
              "<tr>\n",
              "  <th>Dep. Variable:</th>      <td>returns</td>     <th>  No. Observations:  </th>   <td>5020</td>   \n",
              "</tr>\n",
              "<tr>\n",
              "  <th>Model:</th>            <td>ARMA(5, 5)</td>    <th>  Log Likelihood     </th> <td>-7882.160</td>\n",
              "</tr>\n",
              "<tr>\n",
              "  <th>Method:</th>             <td>css-mle</td>     <th>  S.D. of innovations</th>   <td>1.163</td>  \n",
              "</tr>\n",
              "<tr>\n",
              "  <th>Date:</th>          <td>Wed, 22 Apr 2020</td> <th>  AIC                </th> <td>15788.321</td>\n",
              "</tr>\n",
              "<tr>\n",
              "  <th>Time:</th>              <td>08:11:33</td>     <th>  BIC                </th> <td>15866.575</td>\n",
              "</tr>\n",
              "<tr>\n",
              "  <th>Sample:</th>           <td>01-10-1994</td>    <th>  HQIC               </th> <td>15815.742</td>\n",
              "</tr>\n",
              "<tr>\n",
              "  <th></th>                 <td>- 04-05-2013</td>   <th>                     </th>     <td> </td>    \n",
              "</tr>\n",
              "</table>\n",
              "<table class=\"simpletable\">\n",
              "<tr>\n",
              "        <td></td>           <th>coef</th>     <th>std err</th>      <th>z</th>      <th>P>|z|</th>  <th>[0.025</th>    <th>0.975]</th>  \n",
              "</tr>\n",
              "<tr>\n",
              "  <th>const</th>         <td>    0.0189</td> <td>    0.013</td> <td>    1.402</td> <td> 0.161</td> <td>   -0.008</td> <td>    0.045</td>\n",
              "</tr>\n",
              "<tr>\n",
              "  <th>ar.L1.returns</th> <td>   -0.0684</td> <td>    0.140</td> <td>   -0.490</td> <td> 0.624</td> <td>   -0.342</td> <td>    0.205</td>\n",
              "</tr>\n",
              "<tr>\n",
              "  <th>ar.L2.returns</th> <td>   -0.6722</td> <td>    0.146</td> <td>   -4.603</td> <td> 0.000</td> <td>   -0.958</td> <td>   -0.386</td>\n",
              "</tr>\n",
              "<tr>\n",
              "  <th>ar.L3.returns</th> <td>   -0.1152</td> <td>    0.141</td> <td>   -0.817</td> <td> 0.414</td> <td>   -0.392</td> <td>    0.161</td>\n",
              "</tr>\n",
              "<tr>\n",
              "  <th>ar.L4.returns</th> <td>    0.1779</td> <td>    0.129</td> <td>    1.381</td> <td> 0.167</td> <td>   -0.075</td> <td>    0.430</td>\n",
              "</tr>\n",
              "<tr>\n",
              "  <th>ar.L5.returns</th> <td>    0.1215</td> <td>    0.107</td> <td>    1.132</td> <td> 0.258</td> <td>   -0.089</td> <td>    0.332</td>\n",
              "</tr>\n",
              "<tr>\n",
              "  <th>ma.L1.returns</th> <td>    0.0443</td> <td>    0.138</td> <td>    0.322</td> <td> 0.748</td> <td>   -0.226</td> <td>    0.314</td>\n",
              "</tr>\n",
              "<tr>\n",
              "  <th>ma.L2.returns</th> <td>    0.6223</td> <td>    0.144</td> <td>    4.321</td> <td> 0.000</td> <td>    0.340</td> <td>    0.905</td>\n",
              "</tr>\n",
              "<tr>\n",
              "  <th>ma.L3.returns</th> <td>    0.0107</td> <td>    0.136</td> <td>    0.079</td> <td> 0.937</td> <td>   -0.256</td> <td>    0.277</td>\n",
              "</tr>\n",
              "<tr>\n",
              "  <th>ma.L4.returns</th> <td>   -0.1753</td> <td>    0.122</td> <td>   -1.436</td> <td> 0.151</td> <td>   -0.415</td> <td>    0.064</td>\n",
              "</tr>\n",
              "<tr>\n",
              "  <th>ma.L5.returns</th> <td>   -0.2240</td> <td>    0.104</td> <td>   -2.148</td> <td> 0.032</td> <td>   -0.428</td> <td>   -0.020</td>\n",
              "</tr>\n",
              "</table>\n",
              "<table class=\"simpletable\">\n",
              "<caption>Roots</caption>\n",
              "<tr>\n",
              "    <td></td>   <th>            Real</th>  <th>         Imaginary</th> <th>         Modulus</th>  <th>        Frequency</th>\n",
              "</tr>\n",
              "<tr>\n",
              "  <th>AR.1</th> <td>           0.0870</td> <td>          -1.0364j</td> <td>           1.0401</td> <td>          -0.2367</td>\n",
              "</tr>\n",
              "<tr>\n",
              "  <th>AR.2</th> <td>           0.0870</td> <td>          +1.0364j</td> <td>           1.0401</td> <td>           0.2367</td>\n",
              "</tr>\n",
              "<tr>\n",
              "  <th>AR.3</th> <td>           1.7715</td> <td>          -0.0000j</td> <td>           1.7715</td> <td>          -0.0000</td>\n",
              "</tr>\n",
              "<tr>\n",
              "  <th>AR.4</th> <td>          -1.7050</td> <td>          -1.1784j</td> <td>           2.0726</td> <td>          -0.4038</td>\n",
              "</tr>\n",
              "<tr>\n",
              "  <th>AR.5</th> <td>          -1.7050</td> <td>          +1.1784j</td> <td>           2.0726</td> <td>           0.4038</td>\n",
              "</tr>\n",
              "<tr>\n",
              "  <th>MA.1</th> <td>           0.1033</td> <td>          -1.0434j</td> <td>           1.0485</td> <td>          -0.2343</td>\n",
              "</tr>\n",
              "<tr>\n",
              "  <th>MA.2</th> <td>           0.1033</td> <td>          +1.0434j</td> <td>           1.0485</td> <td>           0.2343</td>\n",
              "</tr>\n",
              "<tr>\n",
              "  <th>MA.3</th> <td>           1.4855</td> <td>          -0.0000j</td> <td>           1.4855</td> <td>          -0.0000</td>\n",
              "</tr>\n",
              "<tr>\n",
              "  <th>MA.4</th> <td>          -1.2373</td> <td>          -1.0965j</td> <td>           1.6532</td> <td>          -0.3846</td>\n",
              "</tr>\n",
              "<tr>\n",
              "  <th>MA.5</th> <td>          -1.2373</td> <td>          +1.0965j</td> <td>           1.6532</td> <td>           0.3846</td>\n",
              "</tr>\n",
              "</table>"
            ],
            "text/plain": [
              "<class 'statsmodels.iolib.summary.Summary'>\n",
              "\"\"\"\n",
              "                              ARMA Model Results                              \n",
              "==============================================================================\n",
              "Dep. Variable:                returns   No. Observations:                 5020\n",
              "Model:                     ARMA(5, 5)   Log Likelihood               -7882.160\n",
              "Method:                       css-mle   S.D. of innovations              1.163\n",
              "Date:                Wed, 22 Apr 2020   AIC                          15788.321\n",
              "Time:                        08:11:33   BIC                          15866.575\n",
              "Sample:                    01-10-1994   HQIC                         15815.742\n",
              "                         - 04-05-2013                                         \n",
              "=================================================================================\n",
              "                    coef    std err          z      P>|z|      [0.025      0.975]\n",
              "---------------------------------------------------------------------------------\n",
              "const             0.0189      0.013      1.402      0.161      -0.008       0.045\n",
              "ar.L1.returns    -0.0684      0.140     -0.490      0.624      -0.342       0.205\n",
              "ar.L2.returns    -0.6722      0.146     -4.603      0.000      -0.958      -0.386\n",
              "ar.L3.returns    -0.1152      0.141     -0.817      0.414      -0.392       0.161\n",
              "ar.L4.returns     0.1779      0.129      1.381      0.167      -0.075       0.430\n",
              "ar.L5.returns     0.1215      0.107      1.132      0.258      -0.089       0.332\n",
              "ma.L1.returns     0.0443      0.138      0.322      0.748      -0.226       0.314\n",
              "ma.L2.returns     0.6223      0.144      4.321      0.000       0.340       0.905\n",
              "ma.L3.returns     0.0107      0.136      0.079      0.937      -0.256       0.277\n",
              "ma.L4.returns    -0.1753      0.122     -1.436      0.151      -0.415       0.064\n",
              "ma.L5.returns    -0.2240      0.104     -2.148      0.032      -0.428      -0.020\n",
              "                                    Roots                                    \n",
              "=============================================================================\n",
              "                  Real          Imaginary           Modulus         Frequency\n",
              "-----------------------------------------------------------------------------\n",
              "AR.1            0.0870           -1.0364j            1.0401           -0.2367\n",
              "AR.2            0.0870           +1.0364j            1.0401            0.2367\n",
              "AR.3            1.7715           -0.0000j            1.7715           -0.0000\n",
              "AR.4           -1.7050           -1.1784j            2.0726           -0.4038\n",
              "AR.5           -1.7050           +1.1784j            2.0726            0.4038\n",
              "MA.1            0.1033           -1.0434j            1.0485           -0.2343\n",
              "MA.2            0.1033           +1.0434j            1.0485            0.2343\n",
              "MA.3            1.4855           -0.0000j            1.4855           -0.0000\n",
              "MA.4           -1.2373           -1.0965j            1.6532           -0.3846\n",
              "MA.5           -1.2373           +1.0965j            1.6532            0.3846\n",
              "-----------------------------------------------------------------------------\n",
              "\"\"\""
            ]
          },
          "metadata": {
            "tags": []
          },
          "execution_count": 73
        }
      ]
    },
    {
      "cell_type": "code",
      "metadata": {
        "id": "4VP0PAV27rVD",
        "colab": {
          "base_uri": "https://localhost:8080/",
          "height": 506
        },
        "outputId": "b0d7d6dd-b645-4721-9217-afa5c301be09"
      },
      "source": [
        "model_ret_ar_5_ma_1 = ARMA(df.returns[1:], order=(5,1))\n",
        "results_ret_ar_5_ma_1 = model_ret_ar_5_ma_1.fit()\n",
        "results_ret_ar_5_ma_1.summary()"
      ],
      "execution_count": null,
      "outputs": [
        {
          "output_type": "execute_result",
          "data": {
            "text/html": [
              "<table class=\"simpletable\">\n",
              "<caption>ARMA Model Results</caption>\n",
              "<tr>\n",
              "  <th>Dep. Variable:</th>      <td>returns</td>     <th>  No. Observations:  </th>   <td>5020</td>   \n",
              "</tr>\n",
              "<tr>\n",
              "  <th>Model:</th>            <td>ARMA(5, 1)</td>    <th>  Log Likelihood     </th> <td>-7889.311</td>\n",
              "</tr>\n",
              "<tr>\n",
              "  <th>Method:</th>             <td>css-mle</td>     <th>  S.D. of innovations</th>   <td>1.165</td>  \n",
              "</tr>\n",
              "<tr>\n",
              "  <th>Date:</th>          <td>Wed, 22 Apr 2020</td> <th>  AIC                </th> <td>15794.623</td>\n",
              "</tr>\n",
              "<tr>\n",
              "  <th>Time:</th>              <td>08:11:39</td>     <th>  BIC                </th> <td>15846.792</td>\n",
              "</tr>\n",
              "<tr>\n",
              "  <th>Sample:</th>           <td>01-10-1994</td>    <th>  HQIC               </th> <td>15812.903</td>\n",
              "</tr>\n",
              "<tr>\n",
              "  <th></th>                 <td>- 04-05-2013</td>   <th>                     </th>     <td> </td>    \n",
              "</tr>\n",
              "</table>\n",
              "<table class=\"simpletable\">\n",
              "<tr>\n",
              "        <td></td>           <th>coef</th>     <th>std err</th>      <th>z</th>      <th>P>|z|</th>  <th>[0.025</th>    <th>0.975]</th>  \n",
              "</tr>\n",
              "<tr>\n",
              "  <th>const</th>         <td>    0.0189</td> <td>    0.013</td> <td>    1.407</td> <td> 0.159</td> <td>   -0.007</td> <td>    0.045</td>\n",
              "</tr>\n",
              "<tr>\n",
              "  <th>ar.L1.returns</th> <td>    0.3440</td> <td>    0.131</td> <td>    2.624</td> <td> 0.009</td> <td>    0.087</td> <td>    0.601</td>\n",
              "</tr>\n",
              "<tr>\n",
              "  <th>ar.L2.returns</th> <td>   -0.0458</td> <td>    0.015</td> <td>   -3.005</td> <td> 0.003</td> <td>   -0.076</td> <td>   -0.016</td>\n",
              "</tr>\n",
              "<tr>\n",
              "  <th>ar.L3.returns</th> <td>   -0.0652</td> <td>    0.016</td> <td>   -4.010</td> <td> 0.000</td> <td>   -0.097</td> <td>   -0.033</td>\n",
              "</tr>\n",
              "<tr>\n",
              "  <th>ar.L4.returns</th> <td>    0.0741</td> <td>    0.018</td> <td>    4.068</td> <td> 0.000</td> <td>    0.038</td> <td>    0.110</td>\n",
              "</tr>\n",
              "<tr>\n",
              "  <th>ar.L5.returns</th> <td>   -0.0813</td> <td>    0.014</td> <td>   -5.688</td> <td> 0.000</td> <td>   -0.109</td> <td>   -0.053</td>\n",
              "</tr>\n",
              "<tr>\n",
              "  <th>ma.L1.returns</th> <td>   -0.3673</td> <td>    0.131</td> <td>   -2.801</td> <td> 0.005</td> <td>   -0.624</td> <td>   -0.110</td>\n",
              "</tr>\n",
              "</table>\n",
              "<table class=\"simpletable\">\n",
              "<caption>Roots</caption>\n",
              "<tr>\n",
              "    <td></td>   <th>            Real</th>  <th>         Imaginary</th> <th>         Modulus</th>  <th>        Frequency</th>\n",
              "</tr>\n",
              "<tr>\n",
              "  <th>AR.1</th> <td>          -1.6158</td> <td>          -0.0000j</td> <td>           1.6158</td> <td>          -0.5000</td>\n",
              "</tr>\n",
              "<tr>\n",
              "  <th>AR.2</th> <td>           1.3793</td> <td>          -0.8614j</td> <td>           1.6261</td> <td>          -0.0888</td>\n",
              "</tr>\n",
              "<tr>\n",
              "  <th>AR.3</th> <td>           1.3793</td> <td>          +0.8614j</td> <td>           1.6261</td> <td>           0.0888</td>\n",
              "</tr>\n",
              "<tr>\n",
              "  <th>AR.4</th> <td>          -0.1156</td> <td>          -1.6929j</td> <td>           1.6968</td> <td>          -0.2608</td>\n",
              "</tr>\n",
              "<tr>\n",
              "  <th>AR.5</th> <td>          -0.1156</td> <td>          +1.6929j</td> <td>           1.6968</td> <td>           0.2608</td>\n",
              "</tr>\n",
              "<tr>\n",
              "  <th>MA.1</th> <td>           2.7223</td> <td>          +0.0000j</td> <td>           2.7223</td> <td>           0.0000</td>\n",
              "</tr>\n",
              "</table>"
            ],
            "text/plain": [
              "<class 'statsmodels.iolib.summary.Summary'>\n",
              "\"\"\"\n",
              "                              ARMA Model Results                              \n",
              "==============================================================================\n",
              "Dep. Variable:                returns   No. Observations:                 5020\n",
              "Model:                     ARMA(5, 1)   Log Likelihood               -7889.311\n",
              "Method:                       css-mle   S.D. of innovations              1.165\n",
              "Date:                Wed, 22 Apr 2020   AIC                          15794.623\n",
              "Time:                        08:11:39   BIC                          15846.792\n",
              "Sample:                    01-10-1994   HQIC                         15812.903\n",
              "                         - 04-05-2013                                         \n",
              "=================================================================================\n",
              "                    coef    std err          z      P>|z|      [0.025      0.975]\n",
              "---------------------------------------------------------------------------------\n",
              "const             0.0189      0.013      1.407      0.159      -0.007       0.045\n",
              "ar.L1.returns     0.3440      0.131      2.624      0.009       0.087       0.601\n",
              "ar.L2.returns    -0.0458      0.015     -3.005      0.003      -0.076      -0.016\n",
              "ar.L3.returns    -0.0652      0.016     -4.010      0.000      -0.097      -0.033\n",
              "ar.L4.returns     0.0741      0.018      4.068      0.000       0.038       0.110\n",
              "ar.L5.returns    -0.0813      0.014     -5.688      0.000      -0.109      -0.053\n",
              "ma.L1.returns    -0.3673      0.131     -2.801      0.005      -0.624      -0.110\n",
              "                                    Roots                                    \n",
              "=============================================================================\n",
              "                  Real          Imaginary           Modulus         Frequency\n",
              "-----------------------------------------------------------------------------\n",
              "AR.1           -1.6158           -0.0000j            1.6158           -0.5000\n",
              "AR.2            1.3793           -0.8614j            1.6261           -0.0888\n",
              "AR.3            1.3793           +0.8614j            1.6261            0.0888\n",
              "AR.4           -0.1156           -1.6929j            1.6968           -0.2608\n",
              "AR.5           -0.1156           +1.6929j            1.6968            0.2608\n",
              "MA.1            2.7223           +0.0000j            2.7223            0.0000\n",
              "-----------------------------------------------------------------------------\n",
              "\"\"\""
            ]
          },
          "metadata": {
            "tags": []
          },
          "execution_count": 74
        }
      ]
    },
    {
      "cell_type": "code",
      "metadata": {
        "id": "CRlodUjv7rVF",
        "colab": {
          "base_uri": "https://localhost:8080/",
          "height": 506
        },
        "outputId": "21d93dc9-eb66-4bef-e16f-ec5f1e60f016"
      },
      "source": [
        "model_ret_ar_1_ma_5 = ARMA(df.returns[1:], order=(1,5))\n",
        "results_ret_ar_1_ma_5 = model_ret_ar_1_ma_5.fit()\n",
        "results_ret_ar_1_ma_5.summary()"
      ],
      "execution_count": null,
      "outputs": [
        {
          "output_type": "execute_result",
          "data": {
            "text/html": [
              "<table class=\"simpletable\">\n",
              "<caption>ARMA Model Results</caption>\n",
              "<tr>\n",
              "  <th>Dep. Variable:</th>      <td>returns</td>     <th>  No. Observations:  </th>   <td>5020</td>   \n",
              "</tr>\n",
              "<tr>\n",
              "  <th>Model:</th>            <td>ARMA(1, 5)</td>    <th>  Log Likelihood     </th> <td>-7890.973</td>\n",
              "</tr>\n",
              "<tr>\n",
              "  <th>Method:</th>             <td>css-mle</td>     <th>  S.D. of innovations</th>   <td>1.165</td>  \n",
              "</tr>\n",
              "<tr>\n",
              "  <th>Date:</th>          <td>Wed, 22 Apr 2020</td> <th>  AIC                </th> <td>15797.947</td>\n",
              "</tr>\n",
              "<tr>\n",
              "  <th>Time:</th>              <td>08:11:42</td>     <th>  BIC                </th> <td>15850.116</td>\n",
              "</tr>\n",
              "<tr>\n",
              "  <th>Sample:</th>           <td>01-10-1994</td>    <th>  HQIC               </th> <td>15816.228</td>\n",
              "</tr>\n",
              "<tr>\n",
              "  <th></th>                 <td>- 04-05-2013</td>   <th>                     </th>     <td> </td>    \n",
              "</tr>\n",
              "</table>\n",
              "<table class=\"simpletable\">\n",
              "<tr>\n",
              "        <td></td>           <th>coef</th>     <th>std err</th>      <th>z</th>      <th>P>|z|</th>  <th>[0.025</th>    <th>0.975]</th>  \n",
              "</tr>\n",
              "<tr>\n",
              "  <th>const</th>         <td>    0.0189</td> <td>    0.013</td> <td>    1.419</td> <td> 0.156</td> <td>   -0.007</td> <td>    0.045</td>\n",
              "</tr>\n",
              "<tr>\n",
              "  <th>ar.L1.returns</th> <td>    0.3285</td> <td>    0.152</td> <td>    2.159</td> <td> 0.031</td> <td>    0.030</td> <td>    0.627</td>\n",
              "</tr>\n",
              "<tr>\n",
              "  <th>ma.L1.returns</th> <td>   -0.3534</td> <td>    0.152</td> <td>   -2.332</td> <td> 0.020</td> <td>   -0.650</td> <td>   -0.056</td>\n",
              "</tr>\n",
              "<tr>\n",
              "  <th>ma.L2.returns</th> <td>   -0.0404</td> <td>    0.015</td> <td>   -2.624</td> <td> 0.009</td> <td>   -0.071</td> <td>   -0.010</td>\n",
              "</tr>\n",
              "<tr>\n",
              "  <th>ma.L3.returns</th> <td>   -0.0679</td> <td>    0.017</td> <td>   -4.022</td> <td> 0.000</td> <td>   -0.101</td> <td>   -0.035</td>\n",
              "</tr>\n",
              "<tr>\n",
              "  <th>ma.L4.returns</th> <td>    0.0742</td> <td>    0.020</td> <td>    3.771</td> <td> 0.000</td> <td>    0.036</td> <td>    0.113</td>\n",
              "</tr>\n",
              "<tr>\n",
              "  <th>ma.L5.returns</th> <td>   -0.0683</td> <td>    0.015</td> <td>   -4.660</td> <td> 0.000</td> <td>   -0.097</td> <td>   -0.040</td>\n",
              "</tr>\n",
              "</table>\n",
              "<table class=\"simpletable\">\n",
              "<caption>Roots</caption>\n",
              "<tr>\n",
              "    <td></td>   <th>            Real</th>  <th>         Imaginary</th> <th>         Modulus</th>  <th>        Frequency</th>\n",
              "</tr>\n",
              "<tr>\n",
              "  <th>AR.1</th> <td>           3.0442</td> <td>          +0.0000j</td> <td>           3.0442</td> <td>           0.0000</td>\n",
              "</tr>\n",
              "<tr>\n",
              "  <th>MA.1</th> <td>          -1.1897</td> <td>          -1.1548j</td> <td>           1.6580</td> <td>          -0.3774</td>\n",
              "</tr>\n",
              "<tr>\n",
              "  <th>MA.2</th> <td>          -1.1897</td> <td>          +1.1548j</td> <td>           1.6580</td> <td>           0.3774</td>\n",
              "</tr>\n",
              "<tr>\n",
              "  <th>MA.3</th> <td>           1.5041</td> <td>          -0.0000j</td> <td>           1.5041</td> <td>          -0.0000</td>\n",
              "</tr>\n",
              "<tr>\n",
              "  <th>MA.4</th> <td>           0.9809</td> <td>          -1.6057j</td> <td>           1.8815</td> <td>          -0.1627</td>\n",
              "</tr>\n",
              "<tr>\n",
              "  <th>MA.5</th> <td>           0.9809</td> <td>          +1.6057j</td> <td>           1.8815</td> <td>           0.1627</td>\n",
              "</tr>\n",
              "</table>"
            ],
            "text/plain": [
              "<class 'statsmodels.iolib.summary.Summary'>\n",
              "\"\"\"\n",
              "                              ARMA Model Results                              \n",
              "==============================================================================\n",
              "Dep. Variable:                returns   No. Observations:                 5020\n",
              "Model:                     ARMA(1, 5)   Log Likelihood               -7890.973\n",
              "Method:                       css-mle   S.D. of innovations              1.165\n",
              "Date:                Wed, 22 Apr 2020   AIC                          15797.947\n",
              "Time:                        08:11:42   BIC                          15850.116\n",
              "Sample:                    01-10-1994   HQIC                         15816.228\n",
              "                         - 04-05-2013                                         \n",
              "=================================================================================\n",
              "                    coef    std err          z      P>|z|      [0.025      0.975]\n",
              "---------------------------------------------------------------------------------\n",
              "const             0.0189      0.013      1.419      0.156      -0.007       0.045\n",
              "ar.L1.returns     0.3285      0.152      2.159      0.031       0.030       0.627\n",
              "ma.L1.returns    -0.3534      0.152     -2.332      0.020      -0.650      -0.056\n",
              "ma.L2.returns    -0.0404      0.015     -2.624      0.009      -0.071      -0.010\n",
              "ma.L3.returns    -0.0679      0.017     -4.022      0.000      -0.101      -0.035\n",
              "ma.L4.returns     0.0742      0.020      3.771      0.000       0.036       0.113\n",
              "ma.L5.returns    -0.0683      0.015     -4.660      0.000      -0.097      -0.040\n",
              "                                    Roots                                    \n",
              "=============================================================================\n",
              "                  Real          Imaginary           Modulus         Frequency\n",
              "-----------------------------------------------------------------------------\n",
              "AR.1            3.0442           +0.0000j            3.0442            0.0000\n",
              "MA.1           -1.1897           -1.1548j            1.6580           -0.3774\n",
              "MA.2           -1.1897           +1.1548j            1.6580            0.3774\n",
              "MA.3            1.5041           -0.0000j            1.5041           -0.0000\n",
              "MA.4            0.9809           -1.6057j            1.8815           -0.1627\n",
              "MA.5            0.9809           +1.6057j            1.8815            0.1627\n",
              "-----------------------------------------------------------------------------\n",
              "\"\"\""
            ]
          },
          "metadata": {
            "tags": []
          },
          "execution_count": 75
        }
      ]
    },
    {
      "cell_type": "code",
      "metadata": {
        "id": "uOuhwGSB7rVH",
        "colab": {
          "base_uri": "https://localhost:8080/",
          "height": 52
        },
        "outputId": "ec5d5656-a139-4881-ba93-4a2bcde670a4"
      },
      "source": [
        "print(\"ARMA(5,1):  \\t LL = \",results_ret_ar_5_ma_1.llf,\"\\t AIC = \",results_ret_ar_5_ma_1.aic)\n",
        "print(\"ARMA(1,5):  \\t LL = \",results_ret_ar_1_ma_5.llf,\"\\t AIC = \",results_ret_ar_1_ma_5.aic)"
      ],
      "execution_count": null,
      "outputs": [
        {
          "output_type": "stream",
          "text": [
            "ARMA(5,1):  \t LL =  -7889.311282945847 \t AIC =  15794.622565891694\n",
            "ARMA(1,5):  \t LL =  -7890.973460209621 \t AIC =  15797.946920419243\n"
          ],
          "name": "stdout"
        }
      ]
    },
    {
      "cell_type": "code",
      "metadata": {
        "id": "KJhZGHGS7rVK",
        "colab": {
          "base_uri": "https://localhost:8080/",
          "height": 35
        },
        "outputId": "8710237d-1a9d-4d92-d971-d27dc2c48117"
      },
      "source": [
        "print(\"ARMA(3,2):  \\t LL = \",results_ret_ar_3_ma_2.llf,\"\\t AIC = \",results_ret_ar_3_ma_2.aic)"
      ],
      "execution_count": null,
      "outputs": [
        {
          "output_type": "stream",
          "text": [
            "ARMA(3,2):  \t LL =  -7895.7474585145965 \t AIC =  15805.494917029193\n"
          ],
          "name": "stdout"
        }
      ]
    },
    {
      "cell_type": "markdown",
      "metadata": {
        "id": "YI31aYxX7rVM"
      },
      "source": [
        "## Residuals for the New Model"
      ]
    },
    {
      "cell_type": "code",
      "metadata": {
        "id": "HmxaNSvP7rVN"
      },
      "source": [
        "df['res_ret_ar_5_ma_1'] = results_ret_ar_5_ma_1.resid"
      ],
      "execution_count": null,
      "outputs": []
    },
    {
      "cell_type": "code",
      "metadata": {
        "id": "QDPVdqcw7rVP",
        "colab": {
          "base_uri": "https://localhost:8080/",
          "height": 293
        },
        "outputId": "ea65a50f-66d7-4fd0-aff1-41a17f038959"
      },
      "source": [
        "sgt.plot_acf(df.res_ret_ar_5_ma_1[1:], zero = False, lags = 40)\n",
        "plt.title(\"ACF of Residuals for Returns\",size=24)\n",
        "plt.show()"
      ],
      "execution_count": null,
      "outputs": [
        {
          "output_type": "display_data",
          "data": {
            "image/png": "[encoded data removed]",
            "text/plain": [
              "<Figure size 432x288 with 1 Axes>"
            ]
          },
          "metadata": {
            "tags": []
          }
        }
      ]
    },
    {
      "cell_type": "markdown",
      "metadata": {
        "id": "IhY9bMUO7rVR"
      },
      "source": [
        "## ARMA Models for Prices"
      ]
    },
    {
      "cell_type": "code",
      "metadata": {
        "id": "qUbPZLss7rVR",
        "colab": {
          "base_uri": "https://localhost:8080/",
          "height": 289
        },
        "outputId": "c5b7d428-96a1-47d5-ff15-9b3268e3eca7"
      },
      "source": [
        "sgt.plot_acf(df.market_value, unbiased=True, zero = False, lags = 40)\n",
        "plt.title(\"Autocorrelation Function for Prices\",size=20)\n",
        "plt.show()"
      ],
      "execution_count": null,
      "outputs": [
        {
          "output_type": "display_data",
          "data": {
            "image/png": "[encoded data removed]",
            "text/plain": [
              "<Figure size 432x288 with 1 Axes>"
            ]
          },
          "metadata": {
            "tags": []
          }
        }
      ]
    },
    {
      "cell_type": "code",
      "metadata": {
        "id": "Rs_4NlkC7rVT",
        "colab": {
          "base_uri": "https://localhost:8080/",
          "height": 289
        },
        "outputId": "03f3c30e-d0b8-4cfd-81b0-30d885728fd1"
      },
      "source": [
        "sgt.plot_pacf(df.market_value, lags = 40, alpha = 0.05, zero = False , method = ('ols'))\n",
        "plt.title(\"Partial Autocorrelation Function for Prices\",size=20)\n",
        "plt.show()"
      ],
      "execution_count": null,
      "outputs": [
        {
          "output_type": "display_data",
          "data": {
            "image/png": "[encoded data removed]",
            "text/plain": [
              "<Figure size 432x288 with 1 Axes>"
            ]
          },
          "metadata": {
            "tags": []
          }
        }
      ]
    },
    {
      "cell_type": "code",
      "metadata": {
        "id": "6z24Qc5K7rVV",
        "colab": {
          "base_uri": "https://localhost:8080/",
          "height": 342
        },
        "outputId": "50002adc-1b1d-4647-fa87-d58ddf63815f"
      },
      "source": [
        "model_ar_1_ma_1 = ARMA(df.market_value, order=(1,1))\n",
        "results_ar_1_ma_1 = model_ar_1_ma_1.fit()\n",
        "results_ar_1_ma_1.summary()"
      ],
      "execution_count": null,
      "outputs": [
        {
          "output_type": "execute_result",
          "data": {
            "text/html": [
              "<table class=\"simpletable\">\n",
              "<caption>ARMA Model Results</caption>\n",
              "<tr>\n",
              "  <th>Dep. Variable:</th>   <td>market_value</td>   <th>  No. Observations:  </th>    <td>5021</td>   \n",
              "</tr>\n",
              "<tr>\n",
              "  <th>Model:</th>            <td>ARMA(1, 1)</td>    <th>  Log Likelihood     </th> <td>-27621.792</td>\n",
              "</tr>\n",
              "<tr>\n",
              "  <th>Method:</th>             <td>css-mle</td>     <th>  S.D. of innovations</th>   <td>59.248</td>  \n",
              "</tr>\n",
              "<tr>\n",
              "  <th>Date:</th>          <td>Wed, 22 Apr 2020</td> <th>  AIC                </th>  <td>55251.584</td>\n",
              "</tr>\n",
              "<tr>\n",
              "  <th>Time:</th>              <td>08:11:45</td>     <th>  BIC                </th>  <td>55277.670</td>\n",
              "</tr>\n",
              "<tr>\n",
              "  <th>Sample:</th>           <td>01-07-1994</td>    <th>  HQIC               </th>  <td>55260.725</td>\n",
              "</tr>\n",
              "<tr>\n",
              "  <th></th>                 <td>- 04-05-2013</td>   <th>                     </th>      <td> </td>    \n",
              "</tr>\n",
              "</table>\n",
              "<table class=\"simpletable\">\n",
              "<tr>\n",
              "           <td></td>             <th>coef</th>     <th>std err</th>      <th>z</th>      <th>P>|z|</th>  <th>[0.025</th>    <th>0.975]</th>  \n",
              "</tr>\n",
              "<tr>\n",
              "  <th>const</th>              <td> 5101.4137</td> <td>  497.008</td> <td>   10.264</td> <td> 0.000</td> <td> 4127.296</td> <td> 6075.532</td>\n",
              "</tr>\n",
              "<tr>\n",
              "  <th>ar.L1.market_value</th> <td>    0.9985</td> <td>    0.001</td> <td> 1321.326</td> <td> 0.000</td> <td>    0.997</td> <td>    1.000</td>\n",
              "</tr>\n",
              "<tr>\n",
              "  <th>ma.L1.market_value</th> <td>   -0.0191</td> <td>    0.015</td> <td>   -1.278</td> <td> 0.201</td> <td>   -0.048</td> <td>    0.010</td>\n",
              "</tr>\n",
              "</table>\n",
              "<table class=\"simpletable\">\n",
              "<caption>Roots</caption>\n",
              "<tr>\n",
              "    <td></td>   <th>            Real</th>  <th>         Imaginary</th> <th>         Modulus</th>  <th>        Frequency</th>\n",
              "</tr>\n",
              "<tr>\n",
              "  <th>AR.1</th> <td>           1.0015</td> <td>          +0.0000j</td> <td>           1.0015</td> <td>           0.0000</td>\n",
              "</tr>\n",
              "<tr>\n",
              "  <th>MA.1</th> <td>          52.3402</td> <td>          +0.0000j</td> <td>          52.3402</td> <td>           0.0000</td>\n",
              "</tr>\n",
              "</table>"
            ],
            "text/plain": [
              "<class 'statsmodels.iolib.summary.Summary'>\n",
              "\"\"\"\n",
              "                              ARMA Model Results                              \n",
              "==============================================================================\n",
              "Dep. Variable:           market_value   No. Observations:                 5021\n",
              "Model:                     ARMA(1, 1)   Log Likelihood              -27621.792\n",
              "Method:                       css-mle   S.D. of innovations             59.248\n",
              "Date:                Wed, 22 Apr 2020   AIC                          55251.584\n",
              "Time:                        08:11:45   BIC                          55277.670\n",
              "Sample:                    01-07-1994   HQIC                         55260.725\n",
              "                         - 04-05-2013                                         \n",
              "======================================================================================\n",
              "                         coef    std err          z      P>|z|      [0.025      0.975]\n",
              "--------------------------------------------------------------------------------------\n",
              "const               5101.4137    497.008     10.264      0.000    4127.296    6075.532\n",
              "ar.L1.market_value     0.9985      0.001   1321.326      0.000       0.997       1.000\n",
              "ma.L1.market_value    -0.0191      0.015     -1.278      0.201      -0.048       0.010\n",
              "                                    Roots                                    \n",
              "=============================================================================\n",
              "                  Real          Imaginary           Modulus         Frequency\n",
              "-----------------------------------------------------------------------------\n",
              "AR.1            1.0015           +0.0000j            1.0015            0.0000\n",
              "MA.1           52.3402           +0.0000j           52.3402            0.0000\n",
              "-----------------------------------------------------------------------------\n",
              "\"\"\""
            ]
          },
          "metadata": {
            "tags": []
          },
          "execution_count": 82
        }
      ]
    },
    {
      "cell_type": "code",
      "metadata": {
        "id": "_J0xWndM7rVX"
      },
      "source": [
        "df['res_ar_1_ma_1'] = results_ar_1_ma_1.resid"
      ],
      "execution_count": null,
      "outputs": []
    },
    {
      "cell_type": "code",
      "metadata": {
        "id": "sOvAu_M87rVZ",
        "colab": {
          "base_uri": "https://localhost:8080/",
          "height": 289
        },
        "outputId": "e5281fe9-613a-435e-db2f-ea3f6ad74c9b"
      },
      "source": [
        "sgt.plot_acf(df.res_ar_1_ma_1, zero = False, lags = 40)\n",
        "plt.title(\"ACF Of Residuals of Prices\",size=20)\n",
        "plt.show()"
      ],
      "execution_count": null,
      "outputs": [
        {
          "output_type": "display_data",
          "data": {
            "image/png": "[encoded data removed]",
            "text/plain": [
              "<Figure size 432x288 with 1 Axes>"
            ]
          },
          "metadata": {
            "tags": []
          }
        }
      ]
    },
    {
      "cell_type": "code",
      "metadata": {
        "id": "ogsW8Snj7rVb",
        "colab": {
          "base_uri": "https://localhost:8080/",
          "height": 751
        },
        "outputId": "fb5ef091-b832-4f82-ae5d-1fcc7a11b7a0"
      },
      "source": [
        "model_ar_6_ma_6 = ARMA(df.market_value, order=(6,6))\n",
        "#results_ar_6_ma_6 = model_ar_6_ma_6.fit()\n",
        "results_ar_6_ma_6 = model_ar_6_ma_6.fit(start_ar_lags = 11)\n",
        "results_ar_6_ma_6.summary()"
      ],
      "execution_count": null,
      "outputs": [
        {
          "output_type": "execute_result",
          "data": {
            "text/html": [
              "<table class=\"simpletable\">\n",
              "<caption>ARMA Model Results</caption>\n",
              "<tr>\n",
              "  <th>Dep. Variable:</th>   <td>market_value</td>   <th>  No. Observations:  </th>    <td>5021</td>   \n",
              "</tr>\n",
              "<tr>\n",
              "  <th>Model:</th>            <td>ARMA(6, 6)</td>    <th>  Log Likelihood     </th> <td>-27587.932</td>\n",
              "</tr>\n",
              "<tr>\n",
              "  <th>Method:</th>             <td>css-mle</td>     <th>  S.D. of innovations</th>   <td>58.849</td>  \n",
              "</tr>\n",
              "<tr>\n",
              "  <th>Date:</th>          <td>Wed, 22 Apr 2020</td> <th>  AIC                </th>  <td>55203.864</td>\n",
              "</tr>\n",
              "<tr>\n",
              "  <th>Time:</th>              <td>08:11:58</td>     <th>  BIC                </th>  <td>55295.164</td>\n",
              "</tr>\n",
              "<tr>\n",
              "  <th>Sample:</th>           <td>01-07-1994</td>    <th>  HQIC               </th>  <td>55235.856</td>\n",
              "</tr>\n",
              "<tr>\n",
              "  <th></th>                 <td>- 04-05-2013</td>   <th>                     </th>      <td> </td>    \n",
              "</tr>\n",
              "</table>\n",
              "<table class=\"simpletable\">\n",
              "<tr>\n",
              "           <td></td>             <th>coef</th>     <th>std err</th>      <th>z</th>      <th>P>|z|</th>  <th>[0.025</th>    <th>0.975]</th>  \n",
              "</tr>\n",
              "<tr>\n",
              "  <th>const</th>              <td> 5089.6477</td> <td>  568.179</td> <td>    8.958</td> <td> 0.000</td> <td> 3976.037</td> <td> 6203.259</td>\n",
              "</tr>\n",
              "<tr>\n",
              "  <th>ar.L1.market_value</th> <td>    1.9275</td> <td>    0.032</td> <td>   59.960</td> <td> 0.000</td> <td>    1.864</td> <td>    1.990</td>\n",
              "</tr>\n",
              "<tr>\n",
              "  <th>ar.L2.market_value</th> <td>   -1.7357</td> <td>    0.040</td> <td>  -43.372</td> <td> 0.000</td> <td>   -1.814</td> <td>   -1.657</td>\n",
              "</tr>\n",
              "<tr>\n",
              "  <th>ar.L3.market_value</th> <td>    1.2673</td> <td>    0.034</td> <td>   36.745</td> <td> 0.000</td> <td>    1.200</td> <td>    1.335</td>\n",
              "</tr>\n",
              "<tr>\n",
              "  <th>ar.L4.market_value</th> <td>   -0.2372</td> <td>    0.159</td> <td>   -1.496</td> <td> 0.135</td> <td>   -0.548</td> <td>    0.073</td>\n",
              "</tr>\n",
              "<tr>\n",
              "  <th>ar.L5.market_value</th> <td>   -0.4064</td> <td>    0.166</td> <td>   -2.454</td> <td> 0.014</td> <td>   -0.731</td> <td>   -0.082</td>\n",
              "</tr>\n",
              "<tr>\n",
              "  <th>ar.L6.market_value</th> <td>    0.1840</td> <td>    0.049</td> <td>    3.770</td> <td> 0.000</td> <td>    0.088</td> <td>    0.280</td>\n",
              "</tr>\n",
              "<tr>\n",
              "  <th>ma.L1.market_value</th> <td>   -0.9486</td> <td>    0.035</td> <td>  -27.053</td> <td> 0.000</td> <td>   -1.017</td> <td>   -0.880</td>\n",
              "</tr>\n",
              "<tr>\n",
              "  <th>ma.L2.market_value</th> <td>    0.7798</td> <td>    0.032</td> <td>   24.155</td> <td> 0.000</td> <td>    0.716</td> <td>    0.843</td>\n",
              "</tr>\n",
              "<tr>\n",
              "  <th>ma.L3.market_value</th> <td>   -0.5083</td> <td>    0.031</td> <td>  -16.321</td> <td> 0.000</td> <td>   -0.569</td> <td>   -0.447</td>\n",
              "</tr>\n",
              "<tr>\n",
              "  <th>ma.L4.market_value</th> <td>   -0.1562</td> <td>    0.159</td> <td>   -0.982</td> <td> 0.326</td> <td>   -0.468</td> <td>    0.156</td>\n",
              "</tr>\n",
              "<tr>\n",
              "  <th>ma.L5.market_value</th> <td>    0.0953</td> <td>    0.057</td> <td>    1.681</td> <td> 0.093</td> <td>   -0.016</td> <td>    0.206</td>\n",
              "</tr>\n",
              "<tr>\n",
              "  <th>ma.L6.market_value</th> <td>    0.0670</td> <td>    0.024</td> <td>    2.798</td> <td> 0.005</td> <td>    0.020</td> <td>    0.114</td>\n",
              "</tr>\n",
              "</table>\n",
              "<table class=\"simpletable\">\n",
              "<caption>Roots</caption>\n",
              "<tr>\n",
              "    <td></td>   <th>            Real</th>  <th>         Imaginary</th> <th>         Modulus</th>  <th>        Frequency</th>\n",
              "</tr>\n",
              "<tr>\n",
              "  <th>AR.1</th> <td>           0.0857</td> <td>          -1.0503j</td> <td>           1.0537</td> <td>          -0.2370</td>\n",
              "</tr>\n",
              "<tr>\n",
              "  <th>AR.2</th> <td>           0.0857</td> <td>          +1.0503j</td> <td>           1.0537</td> <td>           0.2370</td>\n",
              "</tr>\n",
              "<tr>\n",
              "  <th>AR.3</th> <td>          -2.0251</td> <td>          -0.0000j</td> <td>           2.0251</td> <td>          -0.5000</td>\n",
              "</tr>\n",
              "<tr>\n",
              "  <th>AR.4</th> <td>           1.0011</td> <td>          -0.0000j</td> <td>           1.0011</td> <td>          -0.0000</td>\n",
              "</tr>\n",
              "<tr>\n",
              "  <th>AR.5</th> <td>           1.5306</td> <td>          -0.2671j</td> <td>           1.5537</td> <td>          -0.0275</td>\n",
              "</tr>\n",
              "<tr>\n",
              "  <th>AR.6</th> <td>           1.5306</td> <td>          +0.2671j</td> <td>           1.5537</td> <td>           0.0275</td>\n",
              "</tr>\n",
              "<tr>\n",
              "  <th>MA.1</th> <td>           0.1028</td> <td>          -1.0612j</td> <td>           1.0662</td> <td>          -0.2346</td>\n",
              "</tr>\n",
              "<tr>\n",
              "  <th>MA.2</th> <td>           0.1028</td> <td>          +1.0612j</td> <td>           1.0662</td> <td>           0.2346</td>\n",
              "</tr>\n",
              "<tr>\n",
              "  <th>MA.3</th> <td>           1.3623</td> <td>          -0.2795j</td> <td>           1.3906</td> <td>          -0.0322</td>\n",
              "</tr>\n",
              "<tr>\n",
              "  <th>MA.4</th> <td>           1.3623</td> <td>          +0.2795j</td> <td>           1.3906</td> <td>           0.0322</td>\n",
              "</tr>\n",
              "<tr>\n",
              "  <th>MA.5</th> <td>          -2.1760</td> <td>          -1.4332j</td> <td>           2.6056</td> <td>          -0.4073</td>\n",
              "</tr>\n",
              "<tr>\n",
              "  <th>MA.6</th> <td>          -2.1760</td> <td>          +1.4332j</td> <td>           2.6056</td> <td>           0.4073</td>\n",
              "</tr>\n",
              "</table>"
            ],
            "text/plain": [
              "<class 'statsmodels.iolib.summary.Summary'>\n",
              "\"\"\"\n",
              "                              ARMA Model Results                              \n",
              "==============================================================================\n",
              "Dep. Variable:           market_value   No. Observations:                 5021\n",
              "Model:                     ARMA(6, 6)   Log Likelihood              -27587.932\n",
              "Method:                       css-mle   S.D. of innovations             58.849\n",
              "Date:                Wed, 22 Apr 2020   AIC                          55203.864\n",
              "Time:                        08:11:58   BIC                          55295.164\n",
              "Sample:                    01-07-1994   HQIC                         55235.856\n",
              "                         - 04-05-2013                                         \n",
              "======================================================================================\n",
              "                         coef    std err          z      P>|z|      [0.025      0.975]\n",
              "--------------------------------------------------------------------------------------\n",
              "const               5089.6477    568.179      8.958      0.000    3976.037    6203.259\n",
              "ar.L1.market_value     1.9275      0.032     59.960      0.000       1.864       1.990\n",
              "ar.L2.market_value    -1.7357      0.040    -43.372      0.000      -1.814      -1.657\n",
              "ar.L3.market_value     1.2673      0.034     36.745      0.000       1.200       1.335\n",
              "ar.L4.market_value    -0.2372      0.159     -1.496      0.135      -0.548       0.073\n",
              "ar.L5.market_value    -0.4064      0.166     -2.454      0.014      -0.731      -0.082\n",
              "ar.L6.market_value     0.1840      0.049      3.770      0.000       0.088       0.280\n",
              "ma.L1.market_value    -0.9486      0.035    -27.053      0.000      -1.017      -0.880\n",
              "ma.L2.market_value     0.7798      0.032     24.155      0.000       0.716       0.843\n",
              "ma.L3.market_value    -0.5083      0.031    -16.321      0.000      -0.569      -0.447\n",
              "ma.L4.market_value    -0.1562      0.159     -0.982      0.326      -0.468       0.156\n",
              "ma.L5.market_value     0.0953      0.057      1.681      0.093      -0.016       0.206\n",
              "ma.L6.market_value     0.0670      0.024      2.798      0.005       0.020       0.114\n",
              "                                    Roots                                    \n",
              "=============================================================================\n",
              "                  Real          Imaginary           Modulus         Frequency\n",
              "-----------------------------------------------------------------------------\n",
              "AR.1            0.0857           -1.0503j            1.0537           -0.2370\n",
              "AR.2            0.0857           +1.0503j            1.0537            0.2370\n",
              "AR.3           -2.0251           -0.0000j            2.0251           -0.5000\n",
              "AR.4            1.0011           -0.0000j            1.0011           -0.0000\n",
              "AR.5            1.5306           -0.2671j            1.5537           -0.0275\n",
              "AR.6            1.5306           +0.2671j            1.5537            0.0275\n",
              "MA.1            0.1028           -1.0612j            1.0662           -0.2346\n",
              "MA.2            0.1028           +1.0612j            1.0662            0.2346\n",
              "MA.3            1.3623           -0.2795j            1.3906           -0.0322\n",
              "MA.4            1.3623           +0.2795j            1.3906            0.0322\n",
              "MA.5           -2.1760           -1.4332j            2.6056           -0.4073\n",
              "MA.6           -2.1760           +1.4332j            2.6056            0.4073\n",
              "-----------------------------------------------------------------------------\n",
              "\"\"\""
            ]
          },
          "metadata": {
            "tags": []
          },
          "execution_count": 85
        }
      ]
    },
    {
      "cell_type": "code",
      "metadata": {
        "id": "0oI2JECD7rVg",
        "colab": {
          "base_uri": "https://localhost:8080/",
          "height": 588
        },
        "outputId": "6e88919e-27b9-4afc-cafa-fe3abfcd17d7"
      },
      "source": [
        "model_ar_6_ma_2 = ARMA(df.market_value, order=(6,2))\n",
        "results_ar_6_ma_2 = model_ar_6_ma_2.fit()\n",
        "results_ar_6_ma_2.summary()"
      ],
      "execution_count": null,
      "outputs": [
        {
          "output_type": "execute_result",
          "data": {
            "text/html": [
              "<table class=\"simpletable\">\n",
              "<caption>ARMA Model Results</caption>\n",
              "<tr>\n",
              "  <th>Dep. Variable:</th>   <td>market_value</td>   <th>  No. Observations:  </th>    <td>5021</td>   \n",
              "</tr>\n",
              "<tr>\n",
              "  <th>Model:</th>            <td>ARMA(6, 2)</td>    <th>  Log Likelihood     </th> <td>-27589.750</td>\n",
              "</tr>\n",
              "<tr>\n",
              "  <th>Method:</th>             <td>css-mle</td>     <th>  S.D. of innovations</th>   <td>58.871</td>  \n",
              "</tr>\n",
              "<tr>\n",
              "  <th>Date:</th>          <td>Wed, 22 Apr 2020</td> <th>  AIC                </th>  <td>55199.500</td>\n",
              "</tr>\n",
              "<tr>\n",
              "  <th>Time:</th>              <td>08:19:13</td>     <th>  BIC                </th>  <td>55264.714</td>\n",
              "</tr>\n",
              "<tr>\n",
              "  <th>Sample:</th>           <td>01-07-1994</td>    <th>  HQIC               </th>  <td>55222.352</td>\n",
              "</tr>\n",
              "<tr>\n",
              "  <th></th>                 <td>- 04-05-2013</td>   <th>                     </th>      <td> </td>    \n",
              "</tr>\n",
              "</table>\n",
              "<table class=\"simpletable\">\n",
              "<tr>\n",
              "           <td></td>             <th>coef</th>     <th>std err</th>      <th>z</th>      <th>P>|z|</th>  <th>[0.025</th>    <th>0.975]</th>  \n",
              "</tr>\n",
              "<tr>\n",
              "  <th>const</th>              <td> 5089.6452</td> <td>  559.643</td> <td>    9.094</td> <td> 0.000</td> <td> 3992.765</td> <td> 6186.525</td>\n",
              "</tr>\n",
              "<tr>\n",
              "  <th>ar.L1.market_value</th> <td>    1.1801</td> <td>    0.052</td> <td>   22.528</td> <td> 0.000</td> <td>    1.077</td> <td>    1.283</td>\n",
              "</tr>\n",
              "<tr>\n",
              "  <th>ar.L2.market_value</th> <td>   -1.0823</td> <td>    0.075</td> <td>  -14.355</td> <td> 0.000</td> <td>   -1.230</td> <td>   -0.934</td>\n",
              "</tr>\n",
              "<tr>\n",
              "  <th>ar.L3.market_value</th> <td>    0.8181</td> <td>    0.068</td> <td>   12.070</td> <td> 0.000</td> <td>    0.685</td> <td>    0.951</td>\n",
              "</tr>\n",
              "<tr>\n",
              "  <th>ar.L4.market_value</th> <td>    0.0807</td> <td>    0.027</td> <td>    2.937</td> <td> 0.003</td> <td>    0.027</td> <td>    0.135</td>\n",
              "</tr>\n",
              "<tr>\n",
              "  <th>ar.L5.market_value</th> <td>   -0.0879</td> <td>    0.025</td> <td>   -3.564</td> <td> 0.000</td> <td>   -0.136</td> <td>   -0.040</td>\n",
              "</tr>\n",
              "<tr>\n",
              "  <th>ar.L6.market_value</th> <td>    0.0891</td> <td>    0.015</td> <td>    5.923</td> <td> 0.000</td> <td>    0.060</td> <td>    0.119</td>\n",
              "</tr>\n",
              "<tr>\n",
              "  <th>ma.L1.market_value</th> <td>   -0.2013</td> <td>    0.051</td> <td>   -3.965</td> <td> 0.000</td> <td>   -0.301</td> <td>   -0.102</td>\n",
              "</tr>\n",
              "<tr>\n",
              "  <th>ma.L2.market_value</th> <td>    0.8589</td> <td>    0.064</td> <td>   13.317</td> <td> 0.000</td> <td>    0.733</td> <td>    0.985</td>\n",
              "</tr>\n",
              "</table>\n",
              "<table class=\"simpletable\">\n",
              "<caption>Roots</caption>\n",
              "<tr>\n",
              "    <td></td>   <th>            Real</th>  <th>         Imaginary</th> <th>         Modulus</th>  <th>        Frequency</th>\n",
              "</tr>\n",
              "<tr>\n",
              "  <th>AR.1</th> <td>           1.0011</td> <td>          -0.0000j</td> <td>           1.0011</td> <td>          -0.0000</td>\n",
              "</tr>\n",
              "<tr>\n",
              "  <th>AR.2</th> <td>           0.0927</td> <td>          -1.0633j</td> <td>           1.0673</td> <td>          -0.2362</td>\n",
              "</tr>\n",
              "<tr>\n",
              "  <th>AR.3</th> <td>           0.0927</td> <td>          +1.0633j</td> <td>           1.0673</td> <td>           0.2362</td>\n",
              "</tr>\n",
              "<tr>\n",
              "  <th>AR.4</th> <td>          -2.2407</td> <td>          -0.0000j</td> <td>           2.2407</td> <td>          -0.5000</td>\n",
              "</tr>\n",
              "<tr>\n",
              "  <th>AR.5</th> <td>           1.0201</td> <td>          -1.8300j</td> <td>           2.0951</td> <td>          -0.1691</td>\n",
              "</tr>\n",
              "<tr>\n",
              "  <th>AR.6</th> <td>           1.0201</td> <td>          +1.8300j</td> <td>           2.0951</td> <td>           0.1691</td>\n",
              "</tr>\n",
              "<tr>\n",
              "  <th>MA.1</th> <td>           0.1172</td> <td>          -1.0726j</td> <td>           1.0790</td> <td>          -0.2327</td>\n",
              "</tr>\n",
              "<tr>\n",
              "  <th>MA.2</th> <td>           0.1172</td> <td>          +1.0726j</td> <td>           1.0790</td> <td>           0.2327</td>\n",
              "</tr>\n",
              "</table>"
            ],
            "text/plain": [
              "<class 'statsmodels.iolib.summary.Summary'>\n",
              "\"\"\"\n",
              "                              ARMA Model Results                              \n",
              "==============================================================================\n",
              "Dep. Variable:           market_value   No. Observations:                 5021\n",
              "Model:                     ARMA(6, 2)   Log Likelihood              -27589.750\n",
              "Method:                       css-mle   S.D. of innovations             58.871\n",
              "Date:                Wed, 22 Apr 2020   AIC                          55199.500\n",
              "Time:                        08:19:13   BIC                          55264.714\n",
              "Sample:                    01-07-1994   HQIC                         55222.352\n",
              "                         - 04-05-2013                                         \n",
              "======================================================================================\n",
              "                         coef    std err          z      P>|z|      [0.025      0.975]\n",
              "--------------------------------------------------------------------------------------\n",
              "const               5089.6452    559.643      9.094      0.000    3992.765    6186.525\n",
              "ar.L1.market_value     1.1801      0.052     22.528      0.000       1.077       1.283\n",
              "ar.L2.market_value    -1.0823      0.075    -14.355      0.000      -1.230      -0.934\n",
              "ar.L3.market_value     0.8181      0.068     12.070      0.000       0.685       0.951\n",
              "ar.L4.market_value     0.0807      0.027      2.937      0.003       0.027       0.135\n",
              "ar.L5.market_value    -0.0879      0.025     -3.564      0.000      -0.136      -0.040\n",
              "ar.L6.market_value     0.0891      0.015      5.923      0.000       0.060       0.119\n",
              "ma.L1.market_value    -0.2013      0.051     -3.965      0.000      -0.301      -0.102\n",
              "ma.L2.market_value     0.8589      0.064     13.317      0.000       0.733       0.985\n",
              "                                    Roots                                    \n",
              "=============================================================================\n",
              "                  Real          Imaginary           Modulus         Frequency\n",
              "-----------------------------------------------------------------------------\n",
              "AR.1            1.0011           -0.0000j            1.0011           -0.0000\n",
              "AR.2            0.0927           -1.0633j            1.0673           -0.2362\n",
              "AR.3            0.0927           +1.0633j            1.0673            0.2362\n",
              "AR.4           -2.2407           -0.0000j            2.2407           -0.5000\n",
              "AR.5            1.0201           -1.8300j            2.0951           -0.1691\n",
              "AR.6            1.0201           +1.8300j            2.0951            0.1691\n",
              "MA.1            0.1172           -1.0726j            1.0790           -0.2327\n",
              "MA.2            0.1172           +1.0726j            1.0790            0.2327\n",
              "-----------------------------------------------------------------------------\n",
              "\"\"\""
            ]
          },
          "metadata": {
            "tags": []
          },
          "execution_count": 107
        }
      ]
    },
    {
      "cell_type": "code",
      "metadata": {
        "id": "L6gzkgzy7rVk",
        "colab": {
          "base_uri": "https://localhost:8080/",
          "height": 289
        },
        "outputId": "d150e53e-1280-414d-9fe9-04036b8fad37"
      },
      "source": [
        "df['res_ar_6_ma_2'] = results_ar_6_ma_2.resid\n",
        "sgt.plot_acf(df.res_ar_6_ma_2, zero = False, lags = 40)\n",
        "plt.title(\"ACF Of Residuals of Prices\",size=20)\n",
        "plt.show()"
      ],
      "execution_count": null,
      "outputs": [
        {
          "output_type": "display_data",
          "data": {
            "image/png": "[encoded data removed]",
            "text/plain": [
              "<Figure size 432x288 with 1 Axes>"
            ]
          },
          "metadata": {
            "tags": []
          }
        }
      ]
    },
    {
      "cell_type": "markdown",
      "metadata": {
        "id": "S0ijVg3j7rVm"
      },
      "source": [
        "## ARMA for Returns vs ARMA for Prices"
      ]
    },
    {
      "cell_type": "code",
      "metadata": {
        "id": "MqcYIyue7rVn",
        "colab": {
          "base_uri": "https://localhost:8080/",
          "height": 52
        },
        "outputId": "fd92815d-68ac-4eeb-bb00-2367e6a66c7d"
      },
      "source": [
        "print(\"ARMA(6,2):  \\t LL = \", results_ar_6_ma_2.llf, \"\\t AIC = \", results_ar_6_ma_2.aic)\n",
        "print(\"ARMA(5,1):  \\t LL = \", results_ret_ar_5_ma_1.llf, \"\\t AIC = \", results_ret_ar_5_ma_1.aic)"
      ],
      "execution_count": null,
      "outputs": [
        {
          "output_type": "stream",
          "text": [
            "ARMA(6,2):  \t LL =  -27589.750018536673 \t AIC =  55199.50003707335\n",
            "ARMA(5,1):  \t LL =  -7889.311282945847 \t AIC =  15794.622565891694\n"
          ],
          "name": "stdout"
        }
      ]
    }
  ]
}